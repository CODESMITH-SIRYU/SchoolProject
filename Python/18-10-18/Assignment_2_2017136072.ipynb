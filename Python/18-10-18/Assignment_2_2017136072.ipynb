{
 "cells": [
  {
   "cell_type": "markdown",
   "metadata": {},
   "source": [
    "## Assignment 2\n",
    "\n",
    "##### Author : 2017136072 Hojin, Lyu"
   ]
  },
  {
   "cell_type": "markdown",
   "metadata": {},
   "source": [
    "### [문제 1]"
   ]
  },
  {
   "cell_type": "markdown",
   "metadata": {},
   "source": [
    "1. 다음 6 개의 Expression에 대해 Evaluation 결과 값을 출력하고, 해당 결과가 나온 이유에 대해 설명하시오\n",
    "     - 1 and 2 and 3 and 4\n",
    "     - 1 or 2 or 3 or 4\n",
    "     - 1 and 2 or 3 and 4\n",
    "     - (1 and 2) or (3 and 4)\n",
    "     - 1 or 2 and 3 or 4\n",
    "     - (1 or 2) and (3 or 4)"
   ]
  },
  {
   "cell_type": "code",
   "execution_count": 1,
   "metadata": {},
   "outputs": [
    {
     "data": {
      "text/plain": [
       "4"
      ]
     },
     "execution_count": 1,
     "metadata": {},
     "output_type": "execute_result"
    }
   ],
   "source": [
    "1 and 2 and 3 and 4"
   ]
  },
  {
   "cell_type": "markdown",
   "metadata": {},
   "source": [
    "앞에서부터 ((1 and 2) and 3) and 4 순서대로 처리된다고 보면 되는데,  \n",
    "and 연산자는 x and y일 때, x가 false이면 x를 반환, true이면 y를 반환한다.  \n",
    "1 and 2의 값은 1이 참이므로 2가 반환되고 같은 순서로 2 and 3에서는 3이 반환, 3 and 4에서는 4가 반환되어 결과가 4가 나온다."
   ]
  },
  {
   "cell_type": "code",
   "execution_count": 2,
   "metadata": {},
   "outputs": [
    {
     "data": {
      "text/plain": [
       "1"
      ]
     },
     "execution_count": 2,
     "metadata": {},
     "output_type": "execute_result"
    }
   ],
   "source": [
    "1 or 2 or 3 or 4"
   ]
  },
  {
   "cell_type": "markdown",
   "metadata": {},
   "source": [
    "1 or 2 or 3 or 4 역시 위와 같이 앞에서부터 평가되는데,  \n",
    "and 연산자와는 반대로 x or y일 때, x가 false이면 y를 반환, true이면 x를 반환한다.\n",
    "1 or 2에선 1은 참이므로 1이 반환, 1 or 3도 1이 반환, 1 or 4도 1을 반환하여 결과는 1이 나온다."
   ]
  },
  {
   "cell_type": "code",
   "execution_count": 3,
   "metadata": {},
   "outputs": [
    {
     "data": {
      "text/plain": [
       "2"
      ]
     },
     "execution_count": 3,
     "metadata": {},
     "output_type": "execute_result"
    }
   ],
   "source": [
    "1 and 2 or 3 and 4"
   ]
  },
  {
   "cell_type": "markdown",
   "metadata": {},
   "source": [
    "여기에서는 and 연산자가 or 연산자보다 우선하므로, (1 and 2) or (3 and 4)와 같이 계산된다고 보면 된다.  \n",
    "1 and 2의 값은 2이고, 3 and 4의 값은 4이므로, 2 or 4의 값은 2, 따라서 결과는 2다."
   ]
  },
  {
   "cell_type": "code",
   "execution_count": 4,
   "metadata": {},
   "outputs": [
    {
     "data": {
      "text/plain": [
       "2"
      ]
     },
     "execution_count": 4,
     "metadata": {},
     "output_type": "execute_result"
    }
   ],
   "source": [
    "(1 and 2) or (3 and 4)"
   ]
  },
  {
   "cell_type": "markdown",
   "metadata": {},
   "source": [
    "위와 완전히 같은 연산 순서와 결과값을 갖게된다.  \n",
    "1 and 2의 값은 2이고, 3 and 4의 값은 4이므로, 2 or 4의 값은 2, 결과는 2다."
   ]
  },
  {
   "cell_type": "code",
   "execution_count": 5,
   "metadata": {},
   "outputs": [
    {
     "data": {
      "text/plain": [
       "1"
      ]
     },
     "execution_count": 5,
     "metadata": {},
     "output_type": "execute_result"
    }
   ],
   "source": [
    "1 or 2 and 3 or 4"
   ]
  },
  {
   "cell_type": "markdown",
   "metadata": {},
   "source": [
    "1 or 2 and 3 or 4 에서는 and가 먼저 처리되기 때문에, 1 or (2 and 3) or 4와 같이 계산된다고 보면 된다.  \n",
    "2 and 3의 결과는 3이고, 그 다음부터는 앞에서부터 (1 or 3) or 4처럼 처리되므로  \n",
    "1 or 3의 값은 1, 1 or 4의 값 역시 1이므로 결과는 1이다."
   ]
  },
  {
   "cell_type": "code",
   "execution_count": 6,
   "metadata": {},
   "outputs": [
    {
     "data": {
      "text/plain": [
       "3"
      ]
     },
     "execution_count": 6,
     "metadata": {},
     "output_type": "execute_result"
    }
   ],
   "source": [
    "(1 or 2) and (3 or 4)"
   ]
  },
  {
   "cell_type": "markdown",
   "metadata": {},
   "source": [
    "여기는 괄호를 가장 먼저 연산한다. 1 or 2의 값은 2, 3 or 4의 값은 3이므로,  \n",
    "2 and 3의 값을 연산하면 결과는 3이다."
   ]
  },
  {
   "cell_type": "markdown",
   "metadata": {},
   "source": [
    "* * *"
   ]
  },
  {
   "cell_type": "markdown",
   "metadata": {},
   "source": [
    "2. 경로에 해당하는 문자열 1개를 입력 받아 그 안에 디렉토리 경로명과 파일명을 분리하여 리스트로 반환하는 함수 div_path(s)를 작성하시오.\n",
    "\n",
    "    * 인자로 전달하는 문자열은 경로만 들어간다고 가정한다.\n",
    "    * 각 디렉토리와 파일을 구분하는 문자는 '/'로 가정한다.\n",
    "    * 반환하는 리스트의 첫번째 원소는 디렉토리이고 두번째 원소는 파일명이다.\n",
    "    * 다음과 같은 실행 및 출력 결과가 도출되어야 한다.\n",
    "        - div_path('/usr/local/bin/python')\n",
    "            * ['/usr/local/bin', 'python']\n",
    "        - div_path('/home/chulsoo/test.txt')\n",
    "            * ['/home/chulsoo', 'test.txt']\n",
    "    * [참고] 리스트(l) 내에 새로운 정수값 (예를 들어 10)을 넣는 방법은 l.append(10) 이다."
   ]
  },
  {
   "cell_type": "code",
   "execution_count": 7,
   "metadata": {},
   "outputs": [
    {
     "name": "stdout",
     "output_type": "stream",
     "text": [
      "/home/chulsoo/test.txt\n",
      "['/home/ch', 'test.txt']\n"
     ]
    }
   ],
   "source": [
    "s = input()\n",
    "\n",
    "def div_path(s):\n",
    "    dp = s[s.find('/')+1::]\n",
    "    while (dp.find('/')!=-1):\n",
    "        dp = dp[dp.find('/')+1::]\n",
    "    dq = s[:len(dp):]\n",
    "    return [dq, dp]\n",
    "\n",
    "lis = div_path(s)\n",
    "print(lis)"
   ]
  },
  {
   "cell_type": "markdown",
   "metadata": {},
   "source": [
    "파일의 이름은 받아온 문자열에서 슬래시(/)를 기준으로 슬래시가 나오지 않을 때까지 슬래시를 제외한 나머지 문자열을 슬라이싱하는 과정을\n",
    "반복해서 얻어내었고, 경로의 경우에는 마지막에 파일명을 제외한 나머지 부분이므로, 맨 뒤에서 파일명의 길이만큼을 제외한 나머지가 경로명이므로 이를 통해 얻어내었다."
   ]
  },
  {
   "cell_type": "markdown",
   "metadata": {},
   "source": [
    "* * * "
   ]
  },
  {
   "cell_type": "markdown",
   "metadata": {},
   "source": [
    "3. 두 개의 리스트를 인자로 받아서 그 두 개의 리스트에 대한 '합집합'을 반환하는 함수 list_union(lista, listb)를 작성하시오.\n",
    "\n",
    "    * 인자로 전달하는 리스트 2 개에는 정수값만 들어간다고 가정하자.\n",
    "    * 함수 내에서 새로운 리스트를 만들어 그 리스트 내에 인자로 받은 두 리스트의 모든 원소를 넣어 반환한다.\n",
    "    * 반환하는 리스트에는 절대로 중복된 원소가 들어 있으면 안된다 (집합의 조건).\n",
    "    * 반환하는 리스트는 정렬이 되어 있어야 한다.\n",
    "    * 다음과 같은 실행 및 출력 결과가 도출되어야 한다.\n",
    "        * list_union([1, 2, 3], [1, 2, 4])\n",
    "            - [1, 2, 3, 4]\n",
    "        * list_union([-10, -5, 0, -1], [100, 9, 0, 9])\n",
    "            - [-10, -5, -1, 0, 9, 100]\n",
    "        * list_union([0, 1, 2], [0, 1, 2])\n",
    "            - [0, 1, 2]\n",
    "    * [참고] 리스트(l) 내에 새로운 정수값 (예를 들어 10)을 넣는 방법은 l.append(10) 이다.\n",
    "    * [참고] 임의의 정수값 (x)이 리스트 (l) 내에 존재하는지 판단하는 방법은 x in l 이다."
   ]
  },
  {
   "cell_type": "code",
   "execution_count": 5,
   "metadata": {},
   "outputs": [
    {
     "name": "stdout",
     "output_type": "stream",
     "text": [
      "[1, 2, 3, 4]\n"
     ]
    }
   ],
   "source": [
    "def list_union(lista, listb):\n",
    "    for i in range(len(listb)):\n",
    "        if(not(listb[i] in lista)):\n",
    "            lista.append(listb[i])\n",
    "    return lista\n",
    "\n",
    "listc = list_union([1,2,3], [1, 2, 4])\n",
    "\n",
    "print(listc)"
   ]
  },
  {
   "cell_type": "markdown",
   "metadata": {},
   "source": [
    "listb에서 listb의 모든 요소에 대해(for i in range(len(b))) lista와 중복되는 요소가 없으면 lista 추가하고(append), 있으면 아무런 동작을 하지 않게 하였다. 그 다음 lista를 반환하고, 이를 출력하게 하였다."
   ]
  },
  {
   "cell_type": "markdown",
   "metadata": {},
   "source": [
    "* * *"
   ]
  },
  {
   "cell_type": "markdown",
   "metadata": {},
   "source": [
    "### [문제 2] ACM-ICPC"
   ]
  },
  {
   "cell_type": "markdown",
   "metadata": {},
   "source": [
    "1. [ACM-ICPC 문제 10809번]\n",
    "    * 알파벳 찾기\n",
    "       - https://www.acmicpc.net/problem/10809"
   ]
  },
  {
   "cell_type": "markdown",
   "metadata": {},
   "source": [
    "[문제 정답 여부 사진](./capture/Screenshot 2018-10-18 at 23.09.51.jpg)"
   ]
  },
  {
   "cell_type": "code",
   "execution_count": 7,
   "metadata": {},
   "outputs": [
    {
     "name": "stdout",
     "output_type": "stream",
     "text": [
      "despacitoquierorespirartucuellodespacito\n",
      "4 -1 5 0 1 -1 -1 -1 6 -1 -1 28 -1 -1 8 3 9 13 2 7 10 -1 -1 -1 -1 -1"
     ]
    }
   ],
   "source": [
    "strin = input()\n",
    "strst = \"abcdefghijklmnopqrstuvwxyz\"\n",
    "\n",
    "for i in range(len(strst)):\n",
    "    if(i!=25):\n",
    "        print(strin.find(strst[i]), end=\" \")\n",
    "    else:\n",
    "        print(strin.find(strst[i]), end=\"\")"
   ]
  },
  {
   "cell_type": "markdown",
   "metadata": {},
   "source": [
    "알파벳의 유니코드 값을 이용하는 방법도 있었지만 요리조리 변환하는게 성가셔서 차라리 a부터 z까지의 알파벳을 나열한 문자열을 놓고, 탐색하려는 문자열에 a부터 z까지 존재하는지, 존재하면 그 첫번째 인덱스를 반환하도록 find로 탐색시켰다."
   ]
  },
  {
   "cell_type": "markdown",
   "metadata": {},
   "source": [
    "2. [ACM-ICPC 문제 2675번]\n",
    "    * 문자열 반복\n",
    "        - https://www.acmicpc.net/problem/2675"
   ]
  },
  {
   "cell_type": "markdown",
   "metadata": {},
   "source": [
    "[문제 정답 여부 사진](./capture/Screenshot 2018-10-18 at 23.17.53.jpg)"
   ]
  },
  {
   "cell_type": "code",
   "execution_count": 8,
   "metadata": {},
   "outputs": [
    {
     "name": "stdout",
     "output_type": "stream",
     "text": [
      "2\n",
      "4\n",
      "helloworld!\n",
      "hhhheeeelllllllloooowwwwoooorrrrlllldddd!!!!\n",
      "2\n",
      "imsohungry\n",
      "iimmssoohhuunnggrryy\n"
     ]
    }
   ],
   "source": [
    "casenum = int(input())\n",
    "\n",
    "for i in range(casenum):\n",
    "    loopnum = int(input())\n",
    "    strin = input()\n",
    "    for j in range(len(strin)):\n",
    "        print(strin[j]*loopnum, end='')\n",
    "    print()"
   ]
  },
  {
   "cell_type": "markdown",
   "metadata": {},
   "source": [
    "문제 로직도 결과도 문제가 없다고 생각하고, 주피터 에디터에서는 문제없이 돌아가는데 백준에서는 계속 런타임 에러가 나는데 왜 오류가 나는지도 안 알려주기 때문에(백준 사이트의 가장 큰 문제점이다...) 여러 번 시도하다가 결국 포기하고 제출하기로 마음을 먹었다.\n",
    "\n",
    "우선 로직은 이렇다.\n",
    "케이스 개수(casenum)을 입력받고, casenum만큼 반복을 하므로, 문자를 반복할 횟수(loopnum)과 반복할 문자열(strin)을 casenum번만큼 입력받는다.\n",
    "그 후, loopnum과 strin을 입력받아, strin의 각 문자(for i in range(len(strin)))를 loopnum번 출력시킨다.\n",
    "\n",
    "문제점은 딱히 없어 보이는데 대체 뭐가 문제인지 모르겠다..."
   ]
  },
  {
   "cell_type": "markdown",
   "metadata": {},
   "source": [
    "* * *"
   ]
  },
  {
   "cell_type": "markdown",
   "metadata": {},
   "source": [
    "### [문제 3] Incremental Project"
   ]
  },
  {
   "cell_type": "markdown",
   "metadata": {},
   "source": [
    "1. 웹 URL로 지정된 웹페이지를 문자열로 가져와 1) 모든 HTML 태그를 제외한 순수 텍스트 문자열만을 걸러내고, 2) 그 순수 텍스트 문자열 안에 존재하는 단어가 총 몇개인지 출력하는 프로그램을 작성하시오.\n",
    "\n",
    "    * HTML 태그는 다음 조건을 가지는 것이다.\n",
    "\n",
    "    * < 로 시작하여 >로 끝난다.\n",
    "    * 예를 들어, 아래와 같은 HTML 내용 내에 한 줄이 있다고 가정하자.\n",
    "        - ```<label for=\"keep_signed\">로그인 유지</label>```\n",
    "    * 위 소스에서 HTML 태그를 제외한 순수 텍스트 문자열은 아래와 같다.\n",
    "        - 로그인 유지\n",
    "    * 한편, 아래와 같은 HTML 한 줄이 있다고 가정하자.\n",
    "        - ```<link rel=\"stylesheet\" href=\"/common/css/xe.min.css?20150910092654\"/>```\n",
    "    * 위 한 줄은 HTML 태그로만 구성된 것이며 걸러낼 수 있는 순수 텍스 문자열은 존재하지 않는다.\n",
    "    * 단어를 나누는 기준은 오로지 공백문자 (whitespace)이다.\n",
    "    * 즉, 위 순수 텍스트 문자열인 \"로그인 유지\"에서 분리한 단어는 \"로그인\"과 \"유지\"이다.\n",
    "    * 중복을 고려하지 않고 무조건 모든 단어의 개수를 세어서 출력한다.\n",
    "    * 본 숙제를 위하여 HTML 파싱과 관련된 모듈 (예. BeautifulSoup) 사용 금지\n",
    "    * 다음은 URL로 지정된 웹페이지를 특정 문자열로 가져오는 코드이다.\n",
    "    * 즉, 숙제 코드는 아래 코드로 부터 시작해야 한다.\n",
    "    * 아래 코드 수행시 requests 모듈이 존재하지 않는 에러가 발생하면 command 창에서 다음 코드 입력하여 requests 모듈 설치후 아래 코드 수행\n",
    "        - pip install requests"
   ]
  },
  {
   "cell_type": "code",
   "execution_count": 1,
   "metadata": {},
   "outputs": [],
   "source": [
    "import requests\n",
    "\n",
    "req = requests.get('http://cse.koreatech.ac.kr')\n",
    "\n",
    "source = req.text"
   ]
  },
  {
   "cell_type": "code",
   "execution_count": 16,
   "metadata": {},
   "outputs": [],
   "source": [
    "def html_data_parser(source):\n",
    "    out = []\n",
    "    source = source.strip('\\n')\n",
    "    while (source.find('</')!=-1):\n",
    "        s = source[:source.find('</'):]\n",
    "        e = source[source.find('</')+2::]\n",
    "        e = e[:e.find('>'):]\n",
    "        e = e.strip(' ')\n",
    "        while(s.find('<')!=-1):\n",
    "            s = s[s.find('<')+1::]\n",
    "        if s[:len(e):] == e:\n",
    "            s = s[s.find('>')+1::]\n",
    "            s = s.strip()\n",
    "            if(s != ''):\n",
    "                out.append(s)\n",
    "        source = source[source.find('</')+2::]\n",
    "    return out\n",
    "        \n",
    "def count_word(source):\n",
    "    count = 1\n",
    "    while(source.find(' ')!=-1):\n",
    "        source = source[source.find(' ')+1::]\n",
    "        count = count + 1 \n",
    "    return count"
   ]
  },
  {
   "cell_type": "code",
   "execution_count": 17,
   "metadata": {},
   "outputs": [
    {
     "name": "stdout",
     "output_type": "stream",
     "text": [
      "['컴퓨터공학부', 'var current_url = \"https://cse.koreatech.ac.kr/\";\\nvar request_uri = \"https://cse.koreatech.ac.kr/\";\\nvar current_mid = \"home_2015\";\\nvar waiting_message = \"서버에 요청 중입니다. 잠시만 기다려주세요.\";\\nvar ssl_actions = new Array();\\nvar default_url = \"https://cse.koreatech.ac.kr/\";\\nvar http_port = 80;var https_port = 443;var enforce_ssl = true;', 'Schoolfun - Study and Fun', '로그인', '로그인', '아이디', '비밀번호', '로그인 유지', '브라우저를 닫더라도 로그인이 계속 유지될 수 있습니다. 로그인 유지 기능을 사용할 경우 다음 접속부터는 로그인할 필요가 없습니다. 단, 게임방, 학교 등 공공장소에서 이용 시 개인정보가 유출될 수 있으니 꼭 로그아웃을 해주세요.', '회원가입', 'ID/PW 찾기', 'Close', '소개', '구성원소개', '학사안내', '입학', '학부', '대학원', '학부광장', '자료실', '대학원', '공학교육인증', '학부서비스', 'Registration', '컴퓨터공학부', 'School of Computer Science and Engineering', 'IT 융합소프트웨어 인력양성사업', 'CK (Creative Korea)-I', '교육역량강화사업 온라인 컨텐츠', 'Online Contents for Education Capability Empowerment', 'IT 교육의 글로벌 메카', 'IT 융합소프트웨어 인력양성사업', '바로가기', '교육역량강화사업 컨텐츠', '교육역량강화사업 온라인 컨텐츠를 소개합니다.', '바로가기', '공지사항', '[졸업작품] 2018 졸업작품 산업체 평가회 결과에 따른 ...', '2018-10-19 14:09 14:09', '[특성화] 5차년도 IT융합 개도국 기술지원 봉사(해외) ...', '2018-10-17 13:57 13:57', '[특성화] 2018 졸업작품 산업체 평가회 결과 공지(졸작...', '2018-10-16 15:52 15:52', '[특성화] 5차년도 지식재산권(특허) 출원 지원 접수 알림', '2018-10-16 09:32 09:32', '[특성화] G-STAR 2018 전시회 선발 학생 공고', '2018-10-08 17:14 17:14', '자유게시판', '졸업작품전시회 기간 헤어/메이크업', '2018-10-07 14:48 14:48', '※모의토익비 지원 공지※', '2018-09-28 09:37 09:37', 'ACM-ICPC 예선 신청기간이 얼마 안 남았습니다!', '2018-09-13 11:36 11:36', '문화행사 취소 공지', '2018-09-10 19:17 19:17', '&amp;lt;2018학년도 2학기&amp;gt; 사물함 신청을 받겠...', '2018-09-06 13:06 13:06', '취업게시판', '[국가보안기술연구소] 정규직 채용', '2018-10-04 14:18 14:18', '한글과컴퓨터그룹 2018년 하반기 신입/경력 공채 ~10.10', '2018-09-27 13:13 13:13', '[구인]천안 충무병원 전산실', '2018-09-18 15:25 15:25', '[정부교육] K-Shield 주니어 교육생 모집(정보보호) ~9.5', '2018-09-03 07:53 07:53', '인천] 에이스테크놀로지 연구개발인력 모집 ~ 2018.9.9...', '2018-08-29 09:06 09:06', 'Platum', '네이버, 포춘이 선정한 ‘미래유망기업’ 6위에 선정', '2018-10-19 14:30 14:30', '10월 넷째 주 스타트업 이벤트(1022~1028)', '2018-10-19 10:59 10:59', '[10월 19일 스타트업 비즈니스 동향]두브레인,위드이노...', '2018-10-19 10:06 10:06', '호텔 연회장 예약 플랫폼 ‘루북’, 10월 22일 베타 서비...', '2018-10-19 09:57 09:57', '징둥닷컴, 스마트 도시 물류 시스템 구축 위한 연구소 ...', '2018-10-19 09:48 09:48', '전자신문', '최태원 회장 “사회적가치 추구로 BM 혁신 실행력 ...', '2018-10-19 18:00 18:00', \"SK텔레콤, 'SKT TEB 콘퍼런스' 개최...ICT 기술·...\", '2018-10-19 16:19 16:19', '[인사]과학기술정보통신부', '2018-10-19 16:13 16:13', '미피, 5G 기기·부품 호환성 확보하는 산업용 인터...', '2018-10-19 15:49 15:49', 'KT, 기지국 유지보수 협력사 계열사 편입···kt MO...', '2018-10-19 14:32 14:32', 'TechCrunch', 'Funderbeam CEO to talk about disrupting startu...', '2018-10-19 16:10 16:10', 'Jane VC, a new fund for female entrepreneurs, ...', '2018-10-19 13:30 13:30', 'E-moto startup Alta Motors reportedly powers down', '2018-10-19 10:05 10:05', 'The space pen became the space pen 50 years ago', '2018-10-19 08:52 08:52', 'Knotch launches Blueprint to help marketers fi...', '2018-10-19 06:55 06:55', 'Back to Top', 'for', 'Quick Navigation', '한국기술교육대학교 홈페이지', '한국기술교육대학교 WEBMAIL', '한국기술교육대학교 온라인 평생교육원', 'IT 융합소프트웨어 인력양성사업', '컴퓨터공학부 교직원 업무 자료실', '컴퓨터공학부 포트폴리오', 'Campus Location', 'Contact CSE', 'Facebook', 'Twitter', 'Google Plus', 'Linkedin', '(31253) 충청남도 천안시 동남구 병천면 충절로 1600 (가전리, 한국기술교육대학교) 컴퓨터공학부', 'Copyright © 2015. All rights reserved']\n"
     ]
    }
   ],
   "source": [
    "out = html_data_parser(source)\n",
    "print(out)"
   ]
  },
  {
   "cell_type": "code",
   "execution_count": 21,
   "metadata": {},
   "outputs": [
    {
     "name": "stdout",
     "output_type": "stream",
     "text": [
      "916\n"
     ]
    }
   ],
   "source": [
    "for i in range(len(out)):\n",
    "    total = total + count_word(out[i])\n",
    "print(total)"
   ]
  },
  {
   "cell_type": "markdown",
   "metadata": {},
   "source": [
    "우선 문자열 슬라이싱을 통해 </의 앞뒤를 구분시켜, </뒤의 태그가 </ 앞의 가장 가까운 <태그>일 때,  \n",
    "그 사이에 있는 요소는 data로 취급해서 리스트 out에 추가하여 리턴하도록 만들었다.  \n",
    "다만, 이 때에 빈 요소(공백으로 구성된 요소들, 혹은 비어있는 요소)들이 생길 수도 있으므로,  \n",
    "공백을 전부 삭제시키고, 요소가 비어있을 경우 리스트에 추가하지 않는 코드도 넣었다.\n",
    "\n",
    "그리고 count_word 함수로 list의 모든 문자열들을 순회하며, 그 문자열들이 몇 개의 단어로 구성되어 있는지 반환하고,\n",
    "그것을 모두 total에 합하여 모든 단어의 개수를 출력하도록 만들었다."
   ]
  },
  {
   "cell_type": "markdown",
   "metadata": {},
   "source": [
    "* * * "
   ]
  },
  {
   "cell_type": "markdown",
   "metadata": {},
   "source": [
    "문제 1과 2는 매우 쉬웠지만, 문제 3과같은 경우 이런 많은 양의 데이터를 처리하는 것은 많이 겪어본 적이 없어서  \n",
    "코드를 짜는 데에 많은 생각을 해야했다. 특히나 파이썬이 아직 익숙하지 않아 어떤 때에 어떤 메소드를 사용해야하는지 아직 잘 감이 오질 않아서  \n",
    "시간이 꽤 오래 걸렸다."
   ]
  }
 ],
 "metadata": {
  "kernelspec": {
   "display_name": "Python 3",
   "language": "python",
   "name": "python3"
  },
  "language_info": {
   "codemirror_mode": {
    "name": "ipython",
    "version": 3
   },
   "file_extension": ".py",
   "mimetype": "text/x-python",
   "name": "python",
   "nbconvert_exporter": "python",
   "pygments_lexer": "ipython3",
   "version": "3.6.5"
  }
 },
 "nbformat": 4,
 "nbformat_minor": 2
}
