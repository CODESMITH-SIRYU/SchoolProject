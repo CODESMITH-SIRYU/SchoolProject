{
 "cells": [
  {
   "cell_type": "markdown",
   "metadata": {},
   "source": [
    "## Assignment 3\n",
    "\n",
    "##### author : 2017136072 Hojin, Lyu"
   ]
  },
  {
   "cell_type": "markdown",
   "metadata": {},
   "source": [
    "### [문제 1]"
   ]
  },
  {
   "cell_type": "markdown",
   "metadata": {},
   "source": [
    "1. L=[1, 2, 3, 4, 5]일 때 다음 각 문장을 수행한 후의 결과를 보고 납득할 만한 이유를 설명하시오."
   ]
  },
  {
   "cell_type": "code",
   "execution_count": 10,
   "metadata": {},
   "outputs": [
    {
     "name": "stdout",
     "output_type": "stream",
     "text": [
      "[1, 100, 4, 5]\n"
     ]
    }
   ],
   "source": [
    "L=[1, 2, 3, 4, 5]\n",
    "\n",
    "L[1:3] = [100]\n",
    "print(L)"
   ]
  },
  {
   "cell_type": "markdown",
   "metadata": {},
   "source": [
    "리스트 L의 요소 1,2,3,4,5는 정수이지만, 리스트 스플릿을 호출한 것들은 리스트로 취급되며  \n",
    "1번에서 3번까지의(0번과 1번 인덱스)의 리스트의 위치에 마찬가지로 리스트로 취급될 수 있는 요소 100이 대체되었다."
   ]
  },
  {
   "cell_type": "code",
   "execution_count": 11,
   "metadata": {},
   "outputs": [
    {
     "name": "stdout",
     "output_type": "stream",
     "text": [
      "[1, 100, 5]\n"
     ]
    }
   ],
   "source": [
    "L[1:3] = [(100)]\n",
    "print(L)"
   ]
  },
  {
   "cell_type": "markdown",
   "metadata": {},
   "source": [
    "(100)의 타입은 정수이지만, 이를 리스트 내의 원소이면서, 그 자체가 리스트로 취급될 수 있다.  \n",
    "그리하여 위와 같이 리스트 스플릿을 호출하고 다시 리스트를 집어넣음으로서 1, 100, 5라는 결과가 나온다."
   ]
  },
  {
   "cell_type": "code",
   "execution_count": 12,
   "metadata": {},
   "outputs": [
    {
     "ename": "TypeError",
     "evalue": "can only assign an iterable",
     "output_type": "error",
     "traceback": [
      "\u001b[1;31m---------------------------------------------------------------------------\u001b[0m",
      "\u001b[1;31mTypeError\u001b[0m                                 Traceback (most recent call last)",
      "\u001b[1;32m<ipython-input-12-0d5d54f04635>\u001b[0m in \u001b[0;36m<module>\u001b[1;34m()\u001b[0m\n\u001b[1;32m----> 1\u001b[1;33m \u001b[0mL\u001b[0m\u001b[1;33m[\u001b[0m\u001b[1;36m1\u001b[0m\u001b[1;33m:\u001b[0m\u001b[1;36m3\u001b[0m\u001b[1;33m]\u001b[0m \u001b[1;33m=\u001b[0m \u001b[1;36m100\u001b[0m\u001b[1;33m\u001b[0m\u001b[0m\n\u001b[0m\u001b[0;32m      2\u001b[0m \u001b[0mprint\u001b[0m\u001b[1;33m(\u001b[0m\u001b[0mL\u001b[0m\u001b[1;33m)\u001b[0m\u001b[1;33m\u001b[0m\u001b[0m\n",
      "\u001b[1;31mTypeError\u001b[0m: can only assign an iterable"
     ]
    }
   ],
   "source": [
    "L[1:3] = 100\n",
    "print(L)"
   ]
  },
  {
   "cell_type": "markdown",
   "metadata": {},
   "source": [
    "리스트 스플릿으로 호출한 1번에서 3번까지의 인덱스는 리스트 타입인데, 여기에 정수형 타입을 대체하려고 하였기 때문에  \n",
    "계산이 불가능하여 오류를 발생시킨다."
   ]
  },
  {
   "cell_type": "code",
   "execution_count": null,
   "metadata": {},
   "outputs": [],
   "source": []
  },
  {
   "cell_type": "code",
   "execution_count": 5,
   "metadata": {},
   "outputs": [
    {
     "ename": "TypeError",
     "evalue": "can only assign an iterable",
     "output_type": "error",
     "traceback": [
      "\u001b[1;31m---------------------------------------------------------------------------\u001b[0m",
      "\u001b[1;31mTypeError\u001b[0m                                 Traceback (most recent call last)",
      "\u001b[1;32m<ipython-input-5-efd35df85453>\u001b[0m in \u001b[0;36m<module>\u001b[1;34m()\u001b[0m\n\u001b[1;32m----> 1\u001b[1;33m \u001b[0mL\u001b[0m\u001b[1;33m[\u001b[0m\u001b[1;36m1\u001b[0m\u001b[1;33m:\u001b[0m\u001b[1;36m3\u001b[0m\u001b[1;33m]\u001b[0m \u001b[1;33m=\u001b[0m \u001b[1;33m(\u001b[0m\u001b[1;36m100\u001b[0m\u001b[1;33m)\u001b[0m\u001b[1;33m\u001b[0m\u001b[0m\n\u001b[0m\u001b[0;32m      2\u001b[0m \u001b[0mprint\u001b[0m\u001b[1;33m(\u001b[0m\u001b[0mL\u001b[0m\u001b[1;33m)\u001b[0m\u001b[1;33m\u001b[0m\u001b[0m\n",
      "\u001b[1;31mTypeError\u001b[0m: can only assign an iterable"
     ]
    }
   ],
   "source": [
    "L[1:3] = (100)\n",
    "print(L)"
   ]
  },
  {
   "cell_type": "markdown",
   "metadata": {},
   "source": [
    "위와 같은 이유이다. 한 개의 정수형의 ()는 어떠한 타입 변환도 일어나지 않는다."
   ]
  },
  {
   "cell_type": "code",
   "execution_count": 6,
   "metadata": {},
   "outputs": [
    {
     "name": "stdout",
     "output_type": "stream",
     "text": [
      "[1, 100, 101, 102]\n"
     ]
    }
   ],
   "source": [
    "L[1:3] = (100, 101, 102)\n",
    "print(L)"
   ]
  },
  {
   "cell_type": "markdown",
   "metadata": {},
   "source": [
    "(100, 101, 102)의 경우에는 이는 tuple타입으로 선언된다. 그리고 tuple타입은 리스트로 캐스트 될 수 있기 때문에  \n",
    "리스트로 캐스트되어 리스트에 대체되었다."
   ]
  },
  {
   "cell_type": "code",
   "execution_count": 7,
   "metadata": {},
   "outputs": [
    {
     "name": "stdout",
     "output_type": "stream",
     "text": [
      "[1, 100, 101, 102, 102]\n"
     ]
    }
   ],
   "source": [
    "L[1:3] = [100, 101, 102]\n",
    "print(L)"
   ]
  },
  {
   "cell_type": "markdown",
   "metadata": {},
   "source": [
    "리스트 스플릿으로 호출한 리스트 영역에 새로운 리스트를 대입하는 것이므로 문제없이 동작한다."
   ]
  },
  {
   "cell_type": "code",
   "execution_count": 8,
   "metadata": {},
   "outputs": [
    {
     "name": "stdout",
     "output_type": "stream",
     "text": [
      "[1, (100, 101, 102), 102, 102]\n"
     ]
    }
   ],
   "source": [
    "L[1:3] = [(100, 101, 102)]\n",
    "print(L)"
   ]
  },
  {
   "cell_type": "markdown",
   "metadata": {},
   "source": [
    "리스트 1번과 2번 영역에 원래 들어있던 요소 대신 tuple타입 (100, 101, 102)을 요소로 갖는 '리스트'를 대체하는 것이므로 문제없이 동작한다."
   ]
  },
  {
   "cell_type": "code",
   "execution_count": 9,
   "metadata": {},
   "outputs": [
    {
     "name": "stdout",
     "output_type": "stream",
     "text": [
      "[1, [100, 101, 102], 102]\n"
     ]
    }
   ],
   "source": [
    "L[1:3] = [[100, 101, 102]]\n",
    "print(L)"
   ]
  },
  {
   "cell_type": "markdown",
   "metadata": {},
   "source": [
    "마찬가지로 리스트 스필릿으로 호출한 리스트 영역에 리스트를 요소로 갖는 '리스트'를 요소로 대체하였으므로 문제없이 동작한다."
   ]
  },
  {
   "cell_type": "markdown",
   "metadata": {},
   "source": [
    "* * * * *"
   ]
  },
  {
   "cell_type": "markdown",
   "metadata": {},
   "source": [
    "2. 문자열 S = 'Hello World and Python'에 대해 다음 요구사항에 대한 Python 코드를 제시하시오.  \n",
    "    1) 단어의 순서가 역순으로 되어진 문자열 ('Python and World Hello')을 만들고  \n",
    "    2) 1)의 결과 문자열에 대해 메소드 split과 join을 이용하여 공백을 모두 없엔 문자열 'PythonandWorldHello'을 만드시오."
   ]
  },
  {
   "cell_type": "code",
   "execution_count": 24,
   "metadata": {},
   "outputs": [
    {
     "name": "stdout",
     "output_type": "stream",
     "text": [
      "Hello Python and World\n",
      "HelloPythonandWorld\n"
     ]
    }
   ],
   "source": [
    "S = 'Hello World and Python'\n",
    "RS = ''\n",
    "RL = []\n",
    "splist = S.split(' ')\n",
    "for sr in range(len(splist)):\n",
    "    RS = RS + ' ' + splist[-sr]\n",
    "    RL.append(splist[-sr])\n",
    "RS = RS.strip()\n",
    "print(RS)\n",
    "print(''.join(RL))"
   ]
  },
  {
   "cell_type": "markdown",
   "metadata": {},
   "source": [
    "S를 공백을 기준으로 분리하여 각 문자열을 리스트로 만들어내고 RS에 리스트의 원소를 뒤에서부터 추가하도록 만들었다.  \n",
    "그 다음 RS에는 초기 선언때문에 공백이 생겼으므로 Strip으로 공백을 제거하고 RS를 출력하였다.  \n",
    "그리고 RL은 리스트의 요소를 거꾸로 받아서 저장하고, 빈 문자열을 기준으로 join되어 출력해서, 결국엔 여백이 없는 RS와 같은 문자를 출력한다."
   ]
  },
  {
   "cell_type": "markdown",
   "metadata": {},
   "source": [
    "* * *"
   ]
  },
  {
   "cell_type": "markdown",
   "metadata": {},
   "source": [
    "3. 다음 코드를 보고 물음에 답하시오.  \n",
    "    a = [1, 2, 3]  \n",
    "    b = a\\*3  \n",
    "    c = [a]\\*3  \n",
    "    print(b)  \n",
    "    print(c)  \n",
    "    \n",
    "    1) 위 코드를 수행한 이후 다음 코드를 수행한 후 b와 c의 내용을 확인하시오.  \n",
    "        a[0]=0  \n",
    "    2) b와 c 객체의 차이는 무엇인가?  "
   ]
  },
  {
   "cell_type": "code",
   "execution_count": 26,
   "metadata": {},
   "outputs": [
    {
     "name": "stdout",
     "output_type": "stream",
     "text": [
      "[1, 2, 3, 1, 2, 3, 1, 2, 3]\n",
      "[[1, 2, 3], [1, 2, 3], [1, 2, 3]]\n"
     ]
    }
   ],
   "source": [
    "a = [1, 2, 3]\n",
    "b = a*3\n",
    "c = [a]*3\n",
    "print(b)\n",
    "print(c)"
   ]
  },
  {
   "cell_type": "code",
   "execution_count": 27,
   "metadata": {},
   "outputs": [
    {
     "name": "stdout",
     "output_type": "stream",
     "text": [
      "[1, 2, 3, 1, 2, 3, 1, 2, 3]\n",
      "[[0, 2, 3], [0, 2, 3], [0, 2, 3]]\n"
     ]
    }
   ],
   "source": [
    "a[0]=0\n",
    "print(b)\n",
    "print(c)"
   ]
  },
  {
   "cell_type": "markdown",
   "metadata": {},
   "source": [
    "b와 c 객체의 차이점은 b는 a의 요소들을 순서대로 세 번 반복하여 그것을 요소로 갖는 리스트이고,  \n",
    "c는 a 객체를 참조하는 리스트를 세 번 반복하여 그것을 요소로 갖는 리스트이다."
   ]
  },
  {
   "cell_type": "markdown",
   "metadata": {},
   "source": [
    "* * *"
   ]
  },
  {
   "cell_type": "markdown",
   "metadata": {},
   "source": [
    "4. 다음 문자열을 ':'을 기준으로 분리하여 리스트로 만들고 각 문자열의 좌우 공백을 제거하시오 (즉, 문자열 S에서 l을 만들어라)  \n",
    "    s = '  first star   :   second star   :    third star  '  \n",
    "    l = \\['first star', 'second star', 'third star'\\]  \n",
    "    \n",
    "    1) for ~ in 문을 이용한 코드를 작성하시오.  \n",
    "    2) 리스트 내포(list comprehension)를 이용한 코드를 작성하시오.  "
   ]
  },
  {
   "cell_type": "code",
   "execution_count": 28,
   "metadata": {},
   "outputs": [
    {
     "ename": "SyntaxError",
     "evalue": "unexpected EOF while parsing (<ipython-input-28-ee1dae3b25b5>, line 3)",
     "output_type": "error",
     "traceback": [
      "\u001b[1;36m  File \u001b[1;32m\"<ipython-input-28-ee1dae3b25b5>\"\u001b[1;36m, line \u001b[1;32m3\u001b[0m\n\u001b[1;33m    \u001b[0m\n\u001b[1;37m    ^\u001b[0m\n\u001b[1;31mSyntaxError\u001b[0m\u001b[1;31m:\u001b[0m unexpected EOF while parsing\n"
     ]
    }
   ],
   "source": [
    "s = ' first star : second star : third star '\n",
    "\n",
    "    "
   ]
  },
  {
   "cell_type": "code",
   "execution_count": null,
   "metadata": {},
   "outputs": [],
   "source": []
  },
  {
   "cell_type": "code",
   "execution_count": null,
   "metadata": {},
   "outputs": [],
   "source": [
    "l = [for c in s]"
   ]
  },
  {
   "cell_type": "markdown",
   "metadata": {},
   "source": [
    "* * *"
   ]
  },
  {
   "cell_type": "markdown",
   "metadata": {},
   "source": [
    "5. 다음과 같이 0보다 큰 정수 리스트 변수 list를 인자로 받는 함수 addall(list)와 addallodd(list)를  \n",
    "    for ~ in 리터널과 리스트 내포 방식으로 각각 제시하시오.  \n",
    "    1) addall(list) 함수 (리스트 내의 모든 정수를 더하는 함수로서 해답으로는 for ~ in 리터럴과 리스트 내포 방식으로 각각 제시하시오.)\n",
    "        >>> addall([1])  \n",
    "            1  \n",
    "        >>> addall([1, 2, 3, 4, 5, 6, 7, 8, 9])  \n",
    "            45  \n",
    "    2) addallodd(list) 함수 \n",
    "        (리스트내의 모든 홀수를 더하는 함수로서 해답으로는 for ~ in 리터럴과 리스트 내포 방식으로 각각 제시하시오.)  \n",
    "        >>> addallodd([1])  \n",
    "            1  \n",
    "        >>> addallodd([1, 2, 3, 4, 5, 6, 7, 8, 9])  \n",
    "            25  \n",
    "        [참고 1]: 리스트 내포 방식으로 addall() 및 addallodd()함수를 만들 때엔 리스트 내포에 의해 생성된 리스트 결과에 대해  \n",
    "        내장 함수를 사용하는 방식을 고려해보시오  \n",
    "        (주의: 리스트 내포 방식의 addall() 및 addallodd() 함수의 몸체는 단 1줄로 작성되어야 한다.)  \n",
    "        [참고 2]: sum() 등의 내장함수 사용 가능함"
   ]
  },
  {
   "cell_type": "code",
   "execution_count": 58,
   "metadata": {},
   "outputs": [],
   "source": [
    "def addall_f(intlist):\n",
    "    total = 0\n",
    "    for i in range(len(intlist)):\n",
    "        total = total + intlist[i]\n",
    "    return total"
   ]
  },
  {
   "cell_type": "code",
   "execution_count": 59,
   "metadata": {},
   "outputs": [
    {
     "data": {
      "text/plain": [
       "130"
      ]
     },
     "execution_count": 59,
     "metadata": {},
     "output_type": "execute_result"
    }
   ],
   "source": [
    "addall_f([30, 40, 30, 20, 10])"
   ]
  },
  {
   "cell_type": "markdown",
   "metadata": {},
   "source": [
    "for in range를 이용해서 total에 모든 값을 더하게 해서 간단하게 해결했다."
   ]
  },
  {
   "cell_type": "code",
   "execution_count": 84,
   "metadata": {},
   "outputs": [],
   "source": [
    "def addall_l(intlist):\n",
    "    return sum([intlist[x] for x in range(len(intlist))])"
   ]
  },
  {
   "cell_type": "code",
   "execution_count": 85,
   "metadata": {},
   "outputs": [
    {
     "data": {
      "text/plain": [
       "167"
      ]
     },
     "execution_count": 85,
     "metadata": {},
     "output_type": "execute_result"
    }
   ],
   "source": [
    "addall_l([20, 10, 32, 41, 64])"
   ]
  },
  {
   "cell_type": "markdown",
   "metadata": {},
   "source": [
    "이거는 어떻게 해야하는지 잘 감이 오지 않았다. 한줄로 자기 자신을 반환하는 리스트 내포를 만들 의미가 있나  \n",
    "싶었지만 어쨌든 별다른 방법이 떠오르지 않아 거기에 sum()함수로 전부 더하게 했다."
   ]
  },
  {
   "cell_type": "code",
   "execution_count": 74,
   "metadata": {},
   "outputs": [],
   "source": [
    "def addallodd_f(intlist):\n",
    "    total = 0\n",
    "    for i in range(len(intlist)):\n",
    "        if(intlist[i]%2==1): total = total + intlist[i]\n",
    "    return total"
   ]
  },
  {
   "cell_type": "code",
   "execution_count": 76,
   "metadata": {},
   "outputs": [
    {
     "data": {
      "text/plain": [
       "53"
      ]
     },
     "execution_count": 76,
     "metadata": {},
     "output_type": "execute_result"
    }
   ],
   "source": [
    "addallodd_f([12, 134, 32, 13, 16, 17, 23])"
   ]
  },
  {
   "cell_type": "markdown",
   "metadata": {},
   "source": [
    "위에 것에서 if문 만을 추가해서 나머지가 1이면(홀수이면) total에 더하게 만들어서 출력했다."
   ]
  },
  {
   "cell_type": "code",
   "execution_count": 77,
   "metadata": {},
   "outputs": [],
   "source": [
    "def addallodd(intlist):\n",
    "    return sum([x for x in intlist if x%2==1 ])"
   ]
  },
  {
   "cell_type": "code",
   "execution_count": 78,
   "metadata": {},
   "outputs": [
    {
     "data": {
      "text/plain": [
       "53"
      ]
     },
     "execution_count": 78,
     "metadata": {},
     "output_type": "execute_result"
    }
   ],
   "source": [
    "addallodd([12, 134, 32, 13, 16, 17, 23])"
   ]
  },
  {
   "cell_type": "markdown",
   "metadata": {},
   "source": [
    "이것은 위의 리스트 내포에서 if조건을 붙여 x가 홀수이면 리스트에 저장하도록 해서 리스트를 재구성하고 이를 sum으로 전부 합하게 했다."
   ]
  },
  {
   "cell_type": "markdown",
   "metadata": {},
   "source": [
    "* * * "
   ]
  },
  {
   "cell_type": "markdown",
   "metadata": {},
   "source": [
    "6. 다음 코드를 보고 물음에 답하시오.\n",
    "\n",
    "    L1 = [1, 2, 3]  \n",
    "    L2 = [4, 5, 6]  \n",
    "    d = {'low':L1, 'high':L2}  \n",
    "    e = d  \n",
    "    f = d.copy()  \n",
    "    print(d)  \n",
    "    print(e)  \n",
    "    print(f)  \n",
    "    print()  \n",
    "    d['low'] = [10, 20, 30]  \n",
    "    d['high'][1] = 500  \n",
    "    print(d)  \n",
    "    print(e)  \n",
    "    print(f)  \n",
    "    \n",
    "    1\\) 위 코드의 수행 결과 d와 e는 항상 같은 결과를 출력한다. 그 이유는 무엇인가?  \n",
    "    2\\) 위 코드의 수행 결과 마지막 f의 내용은 다음과 같다.  \n",
    "    이 때 'high' 키의 값 내용 중 500이 출력된 이유와 'low' 키의 값 내용 중 [1, 2, 3]이 출력된 이유를 설명하시오  \n",
    "    ([hint]: shallow copy 관점에서 설명하시오.)  \n",
    "    {'high': [4, 500, 6], 'low': [1, 2, 3]}"
   ]
  },
  {
   "cell_type": "code",
   "execution_count": 88,
   "metadata": {},
   "outputs": [
    {
     "name": "stdout",
     "output_type": "stream",
     "text": [
      "{'low': [1, 2, 3], 'high': [4, 5, 6]}\n",
      "{'low': [1, 2, 3], 'high': [4, 5, 6]}\n",
      "{'low': [1, 2, 3], 'high': [4, 5, 6]}\n",
      "\n",
      "{'low': [10, 20, 30], 'high': [4, 500, 6]}\n",
      "{'low': [10, 20, 30], 'high': [4, 500, 6]}\n",
      "{'low': [1, 2, 3], 'high': [4, 500, 6]}\n"
     ]
    }
   ],
   "source": [
    "L1 = [1, 2, 3]\n",
    "L2 = [4, 5, 6]\n",
    "d = {'low':L1, 'high':L2}\n",
    "e = d\n",
    "f = d.copy()\n",
    "print(d)\n",
    "print(e)\n",
    "print(f)\n",
    "print()\n",
    "d['low'] = [10, 20, 30]\n",
    "d['high'][1] = 500\n",
    "print(d)\n",
    "print(e)\n",
    "print(f)"
   ]
  },
  {
   "cell_type": "markdown",
   "metadata": {},
   "source": [
    "   1\\) e는 d를 가리키고 있기 때문에 사실상 둘은 똑같다고 보면 된다. e를 변경시키고 둘 다 출력시켜도 둘은 같은 결과를  \n",
    "       출력한다. 마치 폴더 하나와 그 바로가기가 있는 느낌이다. 어느 쪽이든 폴더 내에 들어가서 폴더의 내용을 수정하면 변한다.  \n",
    "       하드링크와 소프트 링크같은 느낌이다.  \n",
    "\n",
    "   2\\) f는 d가 가리키고 있는 객체의 위치를 복사해서 자신이 가지고 있는데(copy()로 인한 복사는 얕은 복사가 이루어진다.),   \n",
    "       d의 low에 10,20,30을 넣을 때에는 새로운 리스트가 생성되어  \n",
    "       그 리스트를 d가 가리키게 되는데, 이 때 f는 그대로 원래 가리키고 있는 위치를 가리키고 있다.  \n",
    "       위의 바로가기를 다시 응용해서 설명해보자면, d는 어떤 폴더의 바로가기이고, f도 어떤 폴더의 바로가기인데,  \n",
    "       d가 가리키는 폴더의 경로를 수정해서 새로운 폴더를 가리킨다해도, f가 가리키는 것이 바뀔리는 없다.  \n",
    "       하지만 뒤의 경우에는 다르다. high의 경우 리스트 들어가서 1번째 인덱스가 가리키고 있는 것을 변경하였기 때문에  \n",
    "       폴더로 따지면 폴더에 들어가서 파일을 하나 수정한 것과 같다.  \n",
    "       그렇기 때문에 f에서 high에서는 500이 출력되지만, low에서는 1,2,3이 출력된다."
   ]
  },
  {
   "cell_type": "markdown",
   "metadata": {},
   "source": [
    "* * *"
   ]
  },
  {
   "cell_type": "markdown",
   "metadata": {},
   "source": [
    "7. 사전 d = {'one':1, 'two':2, 'three':3, 'four':4, 'five':5}가 주어졌을 때 다음 요구사항에 맞는 코드를 제시하시오  \n",
    "    [참고]: d.keys(), d.values()를 통해 리스트를 얻어낸 후 리스트가 지니고 있는 sort(cmp=None, key=None, reverse=False)함수를 활용하시오.  \n",
    "    1) 키의 알파벳 오름차순 순서대로 튜플 (키, 값)을 차례대로 출력하시오.  \n",
    "    2) 키의 알파벳 내림차순 순서대로 튜플 (키, 값)을 차례대로 출력하시오.  \n",
    "    3) 값의 오름차순 순서대로 튜플 (키, 값)을 차례대로 출력하시오.  \n",
    "    4) 값의 내림차순 순서대로 튜플 (키, 값)을 차례대로 출력하시오.  "
   ]
  },
  {
   "cell_type": "code",
   "execution_count": 132,
   "metadata": {},
   "outputs": [
    {
     "name": "stdout",
     "output_type": "stream",
     "text": [
      "five 5\n",
      "four 4\n",
      "one 1\n",
      "three 3\n",
      "two 2\n",
      "\n",
      "two 2\n",
      "three 3\n",
      "one 1\n",
      "four 4\n",
      "five 5\n",
      "\n",
      "one 1\n",
      "two 2\n",
      "three 3\n",
      "four 4\n",
      "five 5\n",
      "\n",
      "five 5\n",
      "four 4\n",
      "three 3\n",
      "two 2\n",
      "one 1\n",
      "\n"
     ]
    }
   ],
   "source": [
    "d = {'one':1, 'two':2, 'three':3, 'four':4, 'five':5}\n",
    "\n",
    "k = list(d.keys())\n",
    "\n",
    "k.sort()\n",
    "\n",
    "for i in range(len(k)):\n",
    "    print(k[i], d[k[i]])\n",
    "print()\n",
    "\n",
    "k.sort(reverse=True)\n",
    "\n",
    "for i in range(len(k)):\n",
    "    print(k[i], d[k[i]])\n",
    "print()\n",
    "\n",
    "\n",
    "sbv = [(k, d[k]) for k in sorted(d, key=d.get)]\n",
    "\n",
    "for k, v in sbv:\n",
    "    print(k, v)\n",
    "print()\n",
    "    \n",
    "sbv = [(k, d[k]) for k in sorted(d, key=d.get, reverse=True)]\n",
    "\n",
    "for k, v in sbv:\n",
    "    print(k, v)\n",
    "print()"
   ]
  },
  {
   "cell_type": "markdown",
   "metadata": {},
   "source": [
    "key를 통해서 value를 호출하는 것은 매우 쉬워서 keys()로 빼낸 다음 sort()로 정렬시키고 for문으로 d에 key를 집어넣어  \n",
    "호출해내면 되니 매우 간단했지만, 역으로 value로 key를 호출해내는 것은 꽤나 어려웠다.  \n",
    "key, value를 가진 쌍을 빼낸 다음, 이를 value에 따라 정렬시키고 그것을 sbv라는 리스트에서 저장하게 해서,\n",
    "그 정렬된 쌍을 출력하게 하는 방법으로 해결했다."
   ]
  },
  {
   "cell_type": "markdown",
   "metadata": {},
   "source": [
    "### [문제 2] ACM-ICPC"
   ]
  },
  {
   "cell_type": "markdown",
   "metadata": {},
   "source": [
    "1. [ACM-ICPC 문제 1673번]\n",
    "    * 치킨 쿠폰\n",
    "        - https://www.acmicpc.net/problem/1673"
   ]
  },
  {
   "cell_type": "markdown",
   "metadata": {},
   "source": [
    "[문제 정답 여부 사진](./capture/Screenshot 2018-10-28 at 22.22.40.jpg)"
   ]
  },
  {
   "cell_type": "code",
   "execution_count": 7,
   "metadata": {},
   "outputs": [
    {
     "name": "stdout",
     "output_type": "stream",
     "text": [
      "2 4\n",
      "2\n",
      "45 3\n",
      "67\n",
      "\n"
     ]
    }
   ],
   "source": [
    "while(True):\n",
    "    numstr = input()\n",
    "    \n",
    "    nlist = numstr.split()\n",
    "    if(numstr!=''):\n",
    "        n = int(nlist[0])\n",
    "        k = int(nlist[1])\n",
    "        chi = n\n",
    "        while(int(n/k) != 0):\n",
    "            chi = chi + int(n/k)\n",
    "            n = int(n/k) + n%k\n",
    "        print(chi)\n",
    "    else:\n",
    "        break"
   ]
  },
  {
   "cell_type": "markdown",
   "metadata": {},
   "source": [
    "왠지 알 수는 없지만 런타임 에러가 나를 괴롭힌다...  \n",
    "여러 줄을 입력을 받는 방법을 몰라서 무한 루프에다가 break를 설정해놨더니 break가 걸리지 않는 문제일지도 모른다.  \n",
    "아무튼 로직은 맞다고 생각한다. 주피터에서는 정상적으로 동작하고 있고...\n",
    "\n",
    "chi는 쿠폰의 개수(n)에서 시작해서 그 쿠폰으로 시켜먹은 치킨으로 얻은 도장(n/k, 나중에는 곧 n)으로 더 이상 시켜먹을 수 없을 때까지(n/k==0) 반복해서 치킨을 시켜서 그 값을 더해서 구한다."
   ]
  },
  {
   "cell_type": "markdown",
   "metadata": {},
   "source": [
    "* * * "
   ]
  },
  {
   "cell_type": "markdown",
   "metadata": {},
   "source": [
    "### [문제 3] Incremental Project"
   ]
  },
  {
   "cell_type": "markdown",
   "metadata": {},
   "source": [
    "전 Assignment 2의 마지막 문제는 웹 URL로 지정된 웹페이지를 문자열로 가져와 모든 HTML 태그를 제외한 순수 텍스트를 얻어내고   \n",
    "그 안에 존재하는 단어를 추출하고 단어들의 총 개수를 출력하는 프로그램을 작성하는 것이었다.  \n",
    "이번에는 그 마지막 숙제를 그대로 확장하여 웹 URL로 지정된 웹페이지 내 순수 텍스트 안에   \n",
    "존재하는 각 단어들에 대해 다음 요구사항 대로 출력하는 프로그램을 작성하시오.  \n",
    "\n",
    "요구사항\n",
    "\n",
    "   1. CSS와 Javascript 내용도 모두 제거하시오 (이전 숙제에서 이미 제외하였다면 본 요구사항 무시)\n",
    "\n",
    "즉, 아래와 같은 코드는 <style\\> 및 <script\\>태그 뿐만 아니라 그 안의 내용 전체를 모두 제거\n",
    "\n",
    "   <style\\>  \n",
    "    h1 {  \n",
    "      color: blue;  \n",
    "    }  \n",
    "    </style\\>  \n",
    "    <script\\>  \n",
    "    int a = 10;  \n",
    "    ...  \n",
    "    </script\\>  \n",
    "    \n",
    "요구사항 \n",
    "\n",
    "   2. 순수 텍스트 안에 존재하는 단어들에 대해 string 모듈을 활용하여 모든 punctuation (구두문자)를 완벽히 제거하시오.\n",
    "        예: \\['world!', ':', '+hello+', '~python\\$\\$\\$', '=', 'world'] ---> ['world', 'hello', 'python', 'world']\n",
    "        모든 punctuation을 확인하는 방법은 아래와 같다.  \n",
    "        import string  \n",
    "        print(string.punctuation)  \n",
    "        \n",
    "요구사항 \n",
    "\n",
    "    3. 만약 punctuation (구두문자)를 제거한 이후 공백으로 판명되는 단어들은 해당 단어 리스트에서 제거하시오.\n",
    "    예: ['컴퓨터공학부!', '---?', '\\%지향~', '...'] ---> ['컴퓨터공학부', '', '지향', ''] ---> ['컴퓨터공학부', '지향'] \n",
    "\n",
    "요구사항 \n",
    "\n",
    "    4. 각 단어들의 출현빈도를 사전형태로 저장하여 출력하시오.\n",
    "    예: ['world', 'hello', 'python', 'world', '컴퓨터공학부', '지향'] \n",
    "        ---> {'world': 2, 'hello': 1, 'python': 1, '컴퓨터공학부': 1, '지향': 1} \n",
    "\n",
    "요구사항 \n",
    "\n",
    "    5. 다음 5개의 사이트에 대한 단어 출현빈도 결과를 출력하시오.  \n",
    "    * http://cse.koreatech.ac.kr  \n",
    "    * https://www.koreatech.ac.kr  \n",
    "    * http://www.naver.com  \n",
    "    * http://www.daum.net  \n",
    "    * http://www.nytimes.com  "
   ]
  },
  {
   "cell_type": "code",
   "execution_count": 134,
   "metadata": {},
   "outputs": [],
   "source": [
    "import requests\n",
    "\n",
    "req = requests.get('http://cse.koreatech.ac.kr')\n",
    "\n",
    "source = req.text\n",
    "\n",
    "def html_data_parser(source):\n",
    "    out = []\n",
    "    source = source.strip('\\n')\n",
    "    while (source.find('</')!=-1):\n",
    "        s = source[:source.find('</'):]\n",
    "        e = source[source.find('</')+2::]\n",
    "        e = e[:e.find('>'):]\n",
    "        e = e.strip(' ')\n",
    "        if((e == 'style') or (e=='script')):\n",
    "            continue\n",
    "        while(s.find('<')!=-1):\n",
    "            s = s[s.find('<')+1::]\n",
    "        if s[:len(e):] == e:\n",
    "            s = s[s.find('>')+1::]\n",
    "            s = s.strip()\n",
    "            if(s != ''):\n",
    "                out.append(s)\n",
    "        source = source[source.find('</')+2::]\n",
    "    return out"
   ]
  },
  {
   "cell_type": "markdown",
   "metadata": {},
   "source": [
    "이것은 이전에 썼었던 parser였는데, 너무 느리고 오래걸려서(문자열 스플릿으로 메모리를 대량으로 잡아먹는 것은 물론 시간도 오래걸린다.)  \n",
    "커널이 맛이 가버릴 정도니... 아무래도 성능 개선이 필요할 것 같아서 정규표현식을 찾아서 새롭게 코드를 바꿔보았다.\n",
    "\n",
    "https://wikidocs.net/4308\n",
    "\n",
    "정규표현식은 위 링크에서 찾아보았는데, 파이썬에 대한 내용이 전체적으로 잘 정리되어 있다."
   ]
  },
  {
   "cell_type": "code",
   "execution_count": 2,
   "metadata": {},
   "outputs": [],
   "source": [
    "import re\n",
    "\n",
    "p = re.compile('>.*?<', re.S)"
   ]
  },
  {
   "cell_type": "code",
   "execution_count": 3,
   "metadata": {},
   "outputs": [],
   "source": [
    "import requests\n",
    "\n",
    "req = requests.get('http://cse.koreatech.ac.kr')\n",
    "\n",
    "source = req.text"
   ]
  },
  {
   "cell_type": "code",
   "execution_count": 4,
   "metadata": {},
   "outputs": [],
   "source": [
    "s = p.findall(source)"
   ]
  },
  {
   "cell_type": "code",
   "execution_count": 5,
   "metadata": {},
   "outputs": [],
   "source": [
    "c = []\n",
    "\n",
    "for i in range(len(s)):\n",
    "    s[i] = s[i].strip('><')\n",
    "    s[i] = s[i].strip()\n",
    "    if(s[i]!=''):\n",
    "        c.append(s[i])"
   ]
  },
  {
   "cell_type": "code",
   "execution_count": 6,
   "metadata": {},
   "outputs": [
    {
     "name": "stdout",
     "output_type": "stream",
     "text": [
      "['컴퓨터공학부', 'var current_url = \"https://cse.koreatech.ac.kr/\";\\nvar request_uri = \"https://cse.koreatech.ac.kr/\";\\nvar current_mid = \"home_2015\";\\nvar waiting_message = \"서버에 요청 중입니다. 잠시만 기다려주세요.\";\\nvar ssl_actions = new Array();\\nvar default_url = \"https://cse.koreatech.ac.kr/\";\\nvar http_port = 80;var https_port = 443;var enforce_ssl = true;', '//', 'Schoolfun - Study and Fun', '-->', '로그인', '로그인', '아이디', '비밀번호', '로그인 유지', '브라우저를 닫더라도 로그인이 계속 유지될 수 있습니다. 로그인 유지 기능을 사용할 경우 다음 접속부터는 로그인할 필요가 없습니다. 단, 게임방, 학교 등 공공장소에서 이용 시 개인정보가 유출될 수 있으니 꼭 로그아웃을 해주세요.', '회원가입', 'ID/PW 찾기', 'IT 교육의 글로벌 메카!', '한국기술교육대학교 컴퓨터공학부', 'Close', '소개', '구성원소개', '학사안내', '입학', '학부', '대학원', '학부광장', '자료실', '대학원', '공학교육인증', '학부서비스', 'Registration', '컴퓨터공학부', 'School of Computer Science and Engineering', 'IT 융합소프트웨어 인력양성사업', 'CK (Creative Korea)-I', '교육역량강화사업 온라인 컨텐츠', 'Online Contents for Education Capability Empowerment', 'IT 교육의 글로벌 메카', '한국기술교육대학교 컴퓨터공학부 홈페이지에 오신 것을', '환영합니다!', 'IT 융합소프트웨어 인력양성사업', '글로벌 수준의 IT전문인력 양성', 'IT융합분야에 대한 국제적인 경쟁력 고취', '바로가기', '교육역량강화사업 컨텐츠', '교육역량강화사업 온라인 컨텐츠를 소개합니다.', '바로가기', '공지사항', '[특성화] 2018 IT융합 아이디어 경진대회 안내(2학기 ...', '2018-10-25 15:01 15:01', '[특성화] 2018 IT융합 AR Co-Bot Intensive 캠프 모집 ...', '2018-10-22 15:30 15:30', '[졸업작품] 2018 졸업작품 산업체 평가회 결과에 따른 ...', '2018-10-19 14:09 14:09', '[특성화] 5차년도 IT융합 개도국 기술지원 봉사(해외) ...', '2018-10-17 13:57 13:57', '[특성화] 2018 졸업작품 산업체 평가회 결과 공지(졸작...', '2018-10-16 15:52 15:52', '자유게시판', '★문화의날 행사 공지★', '2018-10-19 20:31 20:31', '졸업작품전시회 기간 헤어/메이크업', '2018-10-07 14:48 14:48', '※모의토익비 지원 공지※', '2018-09-28 09:37 09:37', 'ACM-ICPC 예선 신청기간이 얼마 안 남았습니다!', '2018-09-13 11:36 11:36', '문화행사 취소 공지', '2018-09-10 19:17 19:17', '취업게시판', '㈜비즈테크파트너스 (LG CNS자회사) 신입 개발직 ~2018...', '2018-10-25 16:29 16:29', '[국가보안기술연구소] 정규직 채용', '2018-10-04 14:18 14:18', '한글과컴퓨터그룹 2018년 하반기 신입/경력 공채 ~10.10', '2018-09-27 13:13 13:13', '[구인]천안 충무병원 전산실', '2018-09-18 15:25 15:25', '[정부교육] K-Shield 주니어 교육생 모집(정보보호) ~9.5', '2018-09-03 07:53 07:53', 'Platum', '10월 마지막 주 스타트업 이벤트(1029~1104)', '2018-10-26 14:38 14:38', '中 신유통 흐름 속 롯데마트의 쓸쓸한 퇴장… 연내 중국...', '2018-10-26 14:36 14:36', '징둥닷컴, 한국지식재산보호원과 ‘2018 해외 온라인 지...', '2018-10-26 13:41 13:41', '부산의 차세대 스타트업 발굴한다… ’부스타락셀 2018’ ...', '2018-10-26 13:36 13:36', '[10월 26일 스타트업 비즈니스 동향]코드스테이츠, 어...', '2018-10-26 09:37 09:37', '전자신문', '신용현, \"5년간 소멸 이통사 마일리지 1744억원\"', '2018-10-28 20:12 20:12', \"SK텔레콤, '강남'과 '안산'에서 첫 5G 상용서비스...\", '2018-10-28 18:00 18:00', \"CJ헬로 UI '알래스카' 개별SO로 확산\", '2018-10-28 17:00 17:00', \"알뜰폰-이통사 '가격역전'···도매제공 제도 '논란'\", '2018-10-28 17:00 17:00', '박정호 사장 “SK텔레콤, 5G 스마트폰 상용화 1개...', '2018-10-28 15:00 15:00', 'TechCrunch', 'IBM to buy Red Hat for $34B in cash and debt, ...', '2018-10-29 04:15 04:15', 'Translating startup-speak for the corporate buyer', '2018-10-29 02:16 02:16', 'The tools, they are a-changing', '2018-10-28 22:00 22:00', 'Facial recognition startup Kairos founder cont...', '2018-10-28 05:33 05:33', 'The SaaS VC gap: China & other markets trail t...', '2018-10-28 02:09 02:09', 'Back to Top', 'Leading Together', 'for', 'Brighter Future', '-->', 'Quick Navigation', '한국기술교육대학교 홈페이지', '한국기술교육대학교 WEBMAIL', '한국기술교육대학교 온라인 평생교육원', 'IT 융합소프트웨어 인력양성사업', '컴퓨터공학부 교직원 업무 자료실', '컴퓨터공학부 포트폴리오', '-->', 'Campus Location', 'Contact CSE', '충청남도 천안시 동남구 병천면 충절로 1600', '한국기술교육대학교 컴퓨터공학부 학과사무실', 'TEL (041) 560 1460 ~ 1461', 'FAX (041) 560 1462', 'Facebook', 'Twitter', 'Google Plus', 'Linkedin', '-->', '(31253) 충청남도 천안시 동남구 병천면 충절로 1600 (가전리, 한국기술교육대학교) 컴퓨터공학부', 'Copyright © 2015. All rights reserved']\n"
     ]
    }
   ],
   "source": [
    "print(c)"
   ]
  },
  {
   "cell_type": "markdown",
   "metadata": {},
   "source": [
    "꽤나 만족스러운 결과다. 여기서 단어를 먼저 분리하고 하려고 했으나, 1번의 요구사항에 맞추어 스타일과 스크립트를 전부 지우고 하도록 한다.  \n",
    "원래는 스타일이나 스크립트는 멀티라인(여러 줄)으로 써서 여러 줄 입력이 되지 않게 하면 없어지지만, 그렇게하면 한 줄에 나오는 경우에는 처리할 수 없으므로 스타일 태그와 스크립트 태그의 내용을 가져오도록 하자.  \n",
    "다시 정규표현식의 힘이 필요하다."
   ]
  },
  {
   "cell_type": "code",
   "execution_count": 7,
   "metadata": {},
   "outputs": [],
   "source": [
    "stt = re.compile('<.*?style>.*?</style>', re.S)\n",
    "sct = re.compile('<script>.*?</script>', re.S)"
   ]
  },
  {
   "cell_type": "code",
   "execution_count": 8,
   "metadata": {},
   "outputs": [],
   "source": [
    "stts = stt.findall(source)\n",
    "scts = sct.findall(source)"
   ]
  },
  {
   "cell_type": "code",
   "execution_count": 9,
   "metadata": {},
   "outputs": [
    {
     "name": "stdout",
     "output_type": "stream",
     "text": [
      "[]\n"
     ]
    }
   ],
   "source": [
    "print(stts)"
   ]
  },
  {
   "cell_type": "code",
   "execution_count": 10,
   "metadata": {},
   "outputs": [
    {
     "name": "stdout",
     "output_type": "stream",
     "text": [
      "['<script>\\nvar current_url = \"https://cse.koreatech.ac.kr/\";\\nvar request_uri = \"https://cse.koreatech.ac.kr/\";\\nvar current_mid = \"home_2015\";\\nvar waiting_message = \"서버에 요청 중입니다. 잠시만 기다려주세요.\";\\nvar ssl_actions = new Array();\\nvar default_url = \"https://cse.koreatech.ac.kr/\";\\nvar http_port = 80;var https_port = 443;var enforce_ssl = true;</script>', '<script>\\n//<![CDATA[\\nxe.current_lang = \"ko\";\\nxe.cmd_find = \"찾기\";\\nxe.cmd_cancel = \"취소\";\\nxe.cmd_confirm = \"확인\";\\nxe.msg_no_root = \"루트는 선택 할 수 없습니다.\";\\nxe.msg_no_shortcut = \"바로가기는 선택 할 수 없습니다.\";\\nxe.msg_select_menu = \"대상 메뉴 선택\";\\n//]]>\\n</script>']\n"
     ]
    }
   ],
   "source": [
    "print(scts)"
   ]
  },
  {
   "cell_type": "markdown",
   "metadata": {},
   "source": [
    "스타일 태그 내에는 아무것도 없는 듯 하다. 하지만 스크립트 태그 내에는 있으니 이를 제거해보자.  \n",
    "우선 스타일이나 스크립트 태그 내에서 내용만을 가져오는 작업이 필요하다."
   ]
  },
  {
   "cell_type": "code",
   "execution_count": 11,
   "metadata": {},
   "outputs": [],
   "source": [
    "sttsl = []\n",
    "sctsl = []\n",
    "\n",
    "for i in range(len(stts)):\n",
    "    dummy = p.findall(stts[i])\n",
    "    for j in dummy:\n",
    "        sttsl.append(j)\n",
    "\n",
    "for i in range(len(scts)):\n",
    "    dummy = p.findall(scts[i])\n",
    "    for j in dummy:\n",
    "        j = j.strip('><')\n",
    "        j = j.strip()\n",
    "        if(j!=''):\n",
    "            sctsl.append(j)"
   ]
  },
  {
   "cell_type": "code",
   "execution_count": 12,
   "metadata": {},
   "outputs": [
    {
     "name": "stdout",
     "output_type": "stream",
     "text": [
      "['var current_url = \"https://cse.koreatech.ac.kr/\";\\nvar request_uri = \"https://cse.koreatech.ac.kr/\";\\nvar current_mid = \"home_2015\";\\nvar waiting_message = \"서버에 요청 중입니다. 잠시만 기다려주세요.\";\\nvar ssl_actions = new Array();\\nvar default_url = \"https://cse.koreatech.ac.kr/\";\\nvar http_port = 80;var https_port = 443;var enforce_ssl = true;', '//']\n"
     ]
    }
   ],
   "source": [
    "print(sctsl)"
   ]
  },
  {
   "cell_type": "markdown",
   "metadata": {},
   "source": [
    "무수한 시도의 끝에 스크립트의 내용만을 얻어오는 것을 성공했다. 그렇다면 이제 원래의 결과에서 이 스크립트에서 추출한 내용과 일치하는 곳을  \n",
    "제거한다."
   ]
  },
  {
   "cell_type": "code",
   "execution_count": 13,
   "metadata": {},
   "outputs": [],
   "source": [
    "for i in sctsl:\n",
    "    for j in c:\n",
    "        if(j==i):\n",
    "            c.remove(j)"
   ]
  },
  {
   "cell_type": "code",
   "execution_count": 14,
   "metadata": {},
   "outputs": [
    {
     "name": "stdout",
     "output_type": "stream",
     "text": [
      "['컴퓨터공학부', 'Schoolfun - Study and Fun', '-->', '로그인', '로그인', '아이디', '비밀번호', '로그인 유지', '브라우저를 닫더라도 로그인이 계속 유지될 수 있습니다. 로그인 유지 기능을 사용할 경우 다음 접속부터는 로그인할 필요가 없습니다. 단, 게임방, 학교 등 공공장소에서 이용 시 개인정보가 유출될 수 있으니 꼭 로그아웃을 해주세요.', '회원가입', 'ID/PW 찾기', 'IT 교육의 글로벌 메카!', '한국기술교육대학교 컴퓨터공학부', 'Close', '소개', '구성원소개', '학사안내', '입학', '학부', '대학원', '학부광장', '자료실', '대학원', '공학교육인증', '학부서비스', 'Registration', '컴퓨터공학부', 'School of Computer Science and Engineering', 'IT 융합소프트웨어 인력양성사업', 'CK (Creative Korea)-I', '교육역량강화사업 온라인 컨텐츠', 'Online Contents for Education Capability Empowerment', 'IT 교육의 글로벌 메카', '한국기술교육대학교 컴퓨터공학부 홈페이지에 오신 것을', '환영합니다!', 'IT 융합소프트웨어 인력양성사업', '글로벌 수준의 IT전문인력 양성', 'IT융합분야에 대한 국제적인 경쟁력 고취', '바로가기', '교육역량강화사업 컨텐츠', '교육역량강화사업 온라인 컨텐츠를 소개합니다.', '바로가기', '공지사항', '[특성화] 2018 IT융합 아이디어 경진대회 안내(2학기 ...', '2018-10-25 15:01 15:01', '[특성화] 2018 IT융합 AR Co-Bot Intensive 캠프 모집 ...', '2018-10-22 15:30 15:30', '[졸업작품] 2018 졸업작품 산업체 평가회 결과에 따른 ...', '2018-10-19 14:09 14:09', '[특성화] 5차년도 IT융합 개도국 기술지원 봉사(해외) ...', '2018-10-17 13:57 13:57', '[특성화] 2018 졸업작품 산업체 평가회 결과 공지(졸작...', '2018-10-16 15:52 15:52', '자유게시판', '★문화의날 행사 공지★', '2018-10-19 20:31 20:31', '졸업작품전시회 기간 헤어/메이크업', '2018-10-07 14:48 14:48', '※모의토익비 지원 공지※', '2018-09-28 09:37 09:37', 'ACM-ICPC 예선 신청기간이 얼마 안 남았습니다!', '2018-09-13 11:36 11:36', '문화행사 취소 공지', '2018-09-10 19:17 19:17', '취업게시판', '㈜비즈테크파트너스 (LG CNS자회사) 신입 개발직 ~2018...', '2018-10-25 16:29 16:29', '[국가보안기술연구소] 정규직 채용', '2018-10-04 14:18 14:18', '한글과컴퓨터그룹 2018년 하반기 신입/경력 공채 ~10.10', '2018-09-27 13:13 13:13', '[구인]천안 충무병원 전산실', '2018-09-18 15:25 15:25', '[정부교육] K-Shield 주니어 교육생 모집(정보보호) ~9.5', '2018-09-03 07:53 07:53', 'Platum', '10월 마지막 주 스타트업 이벤트(1029~1104)', '2018-10-26 14:38 14:38', '中 신유통 흐름 속 롯데마트의 쓸쓸한 퇴장… 연내 중국...', '2018-10-26 14:36 14:36', '징둥닷컴, 한국지식재산보호원과 ‘2018 해외 온라인 지...', '2018-10-26 13:41 13:41', '부산의 차세대 스타트업 발굴한다… ’부스타락셀 2018’ ...', '2018-10-26 13:36 13:36', '[10월 26일 스타트업 비즈니스 동향]코드스테이츠, 어...', '2018-10-26 09:37 09:37', '전자신문', '신용현, \"5년간 소멸 이통사 마일리지 1744억원\"', '2018-10-28 20:12 20:12', \"SK텔레콤, '강남'과 '안산'에서 첫 5G 상용서비스...\", '2018-10-28 18:00 18:00', \"CJ헬로 UI '알래스카' 개별SO로 확산\", '2018-10-28 17:00 17:00', \"알뜰폰-이통사 '가격역전'···도매제공 제도 '논란'\", '2018-10-28 17:00 17:00', '박정호 사장 “SK텔레콤, 5G 스마트폰 상용화 1개...', '2018-10-28 15:00 15:00', 'TechCrunch', 'IBM to buy Red Hat for $34B in cash and debt, ...', '2018-10-29 04:15 04:15', 'Translating startup-speak for the corporate buyer', '2018-10-29 02:16 02:16', 'The tools, they are a-changing', '2018-10-28 22:00 22:00', 'Facial recognition startup Kairos founder cont...', '2018-10-28 05:33 05:33', 'The SaaS VC gap: China & other markets trail t...', '2018-10-28 02:09 02:09', 'Back to Top', 'Leading Together', 'for', 'Brighter Future', '-->', 'Quick Navigation', '한국기술교육대학교 홈페이지', '한국기술교육대학교 WEBMAIL', '한국기술교육대학교 온라인 평생교육원', 'IT 융합소프트웨어 인력양성사업', '컴퓨터공학부 교직원 업무 자료실', '컴퓨터공학부 포트폴리오', '-->', 'Campus Location', 'Contact CSE', '충청남도 천안시 동남구 병천면 충절로 1600', '한국기술교육대학교 컴퓨터공학부 학과사무실', 'TEL (041) 560 1460 ~ 1461', 'FAX (041) 560 1462', 'Facebook', 'Twitter', 'Google Plus', 'Linkedin', '-->', '(31253) 충청남도 천안시 동남구 병천면 충절로 1600 (가전리, 한국기술교육대학교) 컴퓨터공학부', 'Copyright © 2015. All rights reserved']\n"
     ]
    }
   ],
   "source": [
    "print(c)"
   ]
  },
  {
   "cell_type": "markdown",
   "metadata": {},
   "source": [
    "무사히 스크립트 부분을 제거했다. 이제 첫번째 요구사항이 끝났다는 것이 믿기질 않는다.  \n",
    "이어서 두번째 요구사항이 구두문자를 제거하는 것이다.  \n",
    "그 전에 공백을 기준으로 단어로 나누어 둘 필요가 있을 것 같다."
   ]
  },
  {
   "cell_type": "code",
   "execution_count": 15,
   "metadata": {},
   "outputs": [],
   "source": [
    "word = []\n",
    "\n",
    "for i in c:\n",
    "    dummy = i.split()\n",
    "    for j in dummy:\n",
    "        j = j.strip()\n",
    "        word.append(j)"
   ]
  },
  {
   "cell_type": "markdown",
   "metadata": {},
   "source": [
    "결과 화면이 너무 길어지니 이번에는 출력을 생략한다."
   ]
  },
  {
   "cell_type": "code",
   "execution_count": 16,
   "metadata": {},
   "outputs": [
    {
     "name": "stdout",
     "output_type": "stream",
     "text": [
      "!\"#$%&'()*+,-./:;<=>?@[\\]^_`{|}~\n"
     ]
    }
   ],
   "source": [
    "import string\n",
    "\n",
    "print(string.punctuation)"
   ]
  },
  {
   "cell_type": "code",
   "execution_count": 17,
   "metadata": {},
   "outputs": [
    {
     "name": "stdout",
     "output_type": "stream",
     "text": [
      "['컴퓨터공학부', 'Schoolfun', 'Study', 'and', 'Fun', '로그인', '로그인', '아이디', '비밀번호', '로그인', '유지', '브라우저를', '닫더라도', '로그인이', '계속', '유지될', '수', '있습니다', '로그인', '유지', '기능을', '사용할', '경우', '다음', '접속부터는', '로그인할', '필요가', '없습니다', '단', '게임방', '학교', '등', '공공장소에서', '이용', '시', '개인정보가', '유출될', '수', '있으니', '꼭', '로그아웃을', '해주세요', '회원가입', 'IDPW', '찾기', 'IT', '교육의', '글로벌', '메카', '한국기술교육대학교', '컴퓨터공학부', 'Close', '소개', '구성원소개', '학사안내', '입학', '학부', '대학원', '학부광장', '자료실', '대학원', '공학교육인증', '학부서비스', 'Registration', '컴퓨터공학부', 'School', 'of', 'Computer', 'Science', 'and', 'Engineering', 'IT', '융합소프트웨어', '인력양성사업', 'CK', 'Creative', 'KoreaI', '교육역량강화사업', '온라인', '컨텐츠', 'Online', 'Contents', 'for', 'Education', 'Capability', 'Empowerment', 'IT', '교육의', '글로벌', '메카', '한국기술교육대학교', '컴퓨터공학부', '홈페이지에', '오신', '것을', '환영합니다', 'IT', '융합소프트웨어', '인력양성사업', '글로벌', '수준의', 'IT전문인력', '양성', 'IT융합분야에', '대한', '국제적인', '경쟁력', '고취', '바로가기', '교육역량강화사업', '컨텐츠', '교육역량강화사업', '온라인', '컨텐츠를', '소개합니다', '바로가기', '공지사항', '특성화', '2018', 'IT융합', '아이디어', '경진대회', '안내2학기', '20181025', '1501', '1501', '특성화', '2018', 'IT융합', 'AR', 'CoBot', 'Intensive', '캠프', '모집', '20181022', '1530', '1530', '졸업작품', '2018', '졸업작품', '산업체', '평가회', '결과에', '따른', '20181019', '1409', '1409', '특성화', '5차년도', 'IT융합', '개도국', '기술지원', '봉사해외', '20181017', '1357', '1357', '특성화', '2018', '졸업작품', '산업체', '평가회', '결과', '공지졸작', '20181016', '1552', '1552', '자유게시판', '★문화의날', '행사', '공지★', '20181019', '2031', '2031', '졸업작품전시회', '기간', '헤어메이크업', '20181007', '1448', '1448', '※모의토익비', '지원', '공지※', '20180928', '0937', '0937', 'ACMICPC', '예선', '신청기간이', '얼마', '안', '남았습니다', '20180913', '1136', '1136', '문화행사', '취소', '공지', '20180910', '1917', '1917', '취업게시판', '㈜비즈테크파트너스', 'LG', 'CNS자회사', '신입', '개발직', '2018', '20181025', '1629', '1629', '국가보안기술연구소', '정규직', '채용', '20181004', '1418', '1418', '한글과컴퓨터그룹', '2018년', '하반기', '신입경력', '공채', '1010', '20180927', '1313', '1313', '구인천안', '충무병원', '전산실', '20180918', '1525', '1525', '정부교육', 'KShield', '주니어', '교육생', '모집정보보호', '95', '20180903', '0753', '0753', 'Platum', '10월', '마지막', '주', '스타트업', '이벤트10291104', '20181026', '1438', '1438', '中', '신유통', '흐름', '속', '롯데마트의', '쓸쓸한', '퇴장…', '연내', '중국', '20181026', '1436', '1436', '징둥닷컴', '한국지식재산보호원과', '‘2018', '해외', '온라인', '지', '20181026', '1341', '1341', '부산의', '차세대', '스타트업', '발굴한다…', '’부스타락셀', '2018’', '20181026', '1336', '1336', '10월', '26일', '스타트업', '비즈니스', '동향코드스테이츠', '어', '20181026', '0937', '0937', '전자신문', '신용현', '5년간', '소멸', '이통사', '마일리지', '1744억원', '20181028', '2012', '2012', 'SK텔레콤', '강남과', '안산에서', '첫', '5G', '상용서비스', '20181028', '1800', '1800', 'CJ헬로', 'UI', '알래스카', '개별SO로', '확산', '20181028', '1700', '1700', '알뜰폰이통사', '가격역전···도매제공', '제도', '논란', '20181028', '1700', '1700', '박정호', '사장', '“SK텔레콤', '5G', '스마트폰', '상용화', '1개', '20181028', '1500', '1500', 'TechCrunch', 'IBM', 'to', 'buy', 'Red', 'Hat', 'for', '34B', 'in', 'cash', 'and', 'debt', '20181029', '0415', '0415', 'Translating', 'startupspeak', 'for', 'the', 'corporate', 'buyer', '20181029', '0216', '0216', 'The', 'tools', 'they', 'are', 'achanging', '20181028', '2200', '2200', 'Facial', 'recognition', 'startup', 'Kairos', 'founder', 'cont', '20181028', '0533', '0533', 'The', 'SaaS', 'VC', 'gap', 'China', 'other', 'markets', 'trail', 't', '20181028', '0209', '0209', 'Back', 'to', 'Top', 'Leading', 'Together', 'for', 'Brighter', 'Future', 'Quick', 'Navigation', '한국기술교육대학교', '홈페이지', '한국기술교육대학교', 'WEBMAIL', '한국기술교육대학교', '온라인', '평생교육원', 'IT', '융합소프트웨어', '인력양성사업', '컴퓨터공학부', '교직원', '업무', '자료실', '컴퓨터공학부', '포트폴리오', 'Campus', 'Location', 'Contact', 'CSE', '충청남도', '천안시', '동남구', '병천면', '충절로', '1600', '한국기술교육대학교', '컴퓨터공학부', '학과사무실', 'TEL', '041', '560', '1460', '1461', 'FAX', '041', '560', '1462', 'Facebook', 'Twitter', 'Google', 'Plus', 'Linkedin', '31253', '충청남도', '천안시', '동남구', '병천면', '충절로', '1600', '가전리', '한국기술교육대학교', '컴퓨터공학부', 'Copyright', '©', '2015', 'All', 'rights', 'reserved']\n"
     ]
    }
   ],
   "source": [
    "puc = set(string.punctuation)\n",
    "nword = []\n",
    "\n",
    "for i in word:\n",
    "    dummy = ''.join(char for char in i if char not in puc)\n",
    "    if(dummy!=''):\n",
    "        nword.append(dummy)\n",
    "\n",
    "print(nword)"
   ]
  },
  {
   "cell_type": "markdown",
   "metadata": {},
   "source": [
    "숙제에서 했던 내용을 이용해 각 문자열 중 구두문자에 포함하지 않는 것들을 다시 문자열로 만들어, 이를 새로운 문자열에 포함시키도록 했다.  \n",
    "비어있다면 포함하지 않게하기도 하였으니 3번 요건도 동시에 충족한다. 그 다음은 4번 요구사항이다.\n",
    "각 단어의 등장 빈도수를 딕셔너리로 저장하는 것."
   ]
  },
  {
   "cell_type": "code",
   "execution_count": 19,
   "metadata": {},
   "outputs": [],
   "source": [
    "dic = dict()\n",
    "\n",
    "for i in nword:\n",
    "    if(i not in dic):\n",
    "        dic[i] = 1\n",
    "    else:\n",
    "        dic[i] = dic[i] + 1"
   ]
  },
  {
   "cell_type": "code",
   "execution_count": 20,
   "metadata": {},
   "outputs": [
    {
     "name": "stdout",
     "output_type": "stream",
     "text": [
      "{'컴퓨터공학부': 8, 'Schoolfun': 1, 'Study': 1, 'and': 3, 'Fun': 1, '로그인': 4, '아이디': 1, '비밀번호': 1, '유지': 2, '브라우저를': 1, '닫더라도': 1, '로그인이': 1, '계속': 1, '유지될': 1, '수': 2, '있습니다': 1, '기능을': 1, '사용할': 1, '경우': 1, '다음': 1, '접속부터는': 1, '로그인할': 1, '필요가': 1, '없습니다': 1, '단': 1, '게임방': 1, '학교': 1, '등': 1, '공공장소에서': 1, '이용': 1, '시': 1, '개인정보가': 1, '유출될': 1, '있으니': 1, '꼭': 1, '로그아웃을': 1, '해주세요': 1, '회원가입': 1, 'IDPW': 1, '찾기': 1, 'IT': 5, '교육의': 2, '글로벌': 3, '메카': 2, '한국기술교육대학교': 7, 'Close': 1, '소개': 1, '구성원소개': 1, '학사안내': 1, '입학': 1, '학부': 1, '대학원': 2, '학부광장': 1, '자료실': 2, '공학교육인증': 1, '학부서비스': 1, 'Registration': 1, 'School': 1, 'of': 1, 'Computer': 1, 'Science': 1, 'Engineering': 1, '융합소프트웨어': 3, '인력양성사업': 3, 'CK': 1, 'Creative': 1, 'KoreaI': 1, '교육역량강화사업': 3, '온라인': 4, '컨텐츠': 2, 'Online': 1, 'Contents': 1, 'for': 4, 'Education': 1, 'Capability': 1, 'Empowerment': 1, '홈페이지에': 1, '오신': 1, '것을': 1, '환영합니다': 1, '수준의': 1, 'IT전문인력': 1, '양성': 1, 'IT융합분야에': 1, '대한': 1, '국제적인': 1, '경쟁력': 1, '고취': 1, '바로가기': 2, '컨텐츠를': 1, '소개합니다': 1, '공지사항': 1, '특성화': 4, '2018': 5, 'IT융합': 3, '아이디어': 1, '경진대회': 1, '안내2학기': 1, '20181025': 2, '1501': 2, 'AR': 1, 'CoBot': 1, 'Intensive': 1, '캠프': 1, '모집': 1, '20181022': 1, '1530': 2, '졸업작품': 3, '산업체': 2, '평가회': 2, '결과에': 1, '따른': 1, '20181019': 2, '1409': 2, '5차년도': 1, '개도국': 1, '기술지원': 1, '봉사해외': 1, '20181017': 1, '1357': 2, '결과': 1, '공지졸작': 1, '20181016': 1, '1552': 2, '자유게시판': 1, '★문화의날': 1, '행사': 1, '공지★': 1, '2031': 2, '졸업작품전시회': 1, '기간': 1, '헤어메이크업': 1, '20181007': 1, '1448': 2, '※모의토익비': 1, '지원': 1, '공지※': 1, '20180928': 1, '0937': 4, 'ACMICPC': 1, '예선': 1, '신청기간이': 1, '얼마': 1, '안': 1, '남았습니다': 1, '20180913': 1, '1136': 2, '문화행사': 1, '취소': 1, '공지': 1, '20180910': 1, '1917': 2, '취업게시판': 1, '㈜비즈테크파트너스': 1, 'LG': 1, 'CNS자회사': 1, '신입': 1, '개발직': 1, '1629': 2, '국가보안기술연구소': 1, '정규직': 1, '채용': 1, '20181004': 1, '1418': 2, '한글과컴퓨터그룹': 1, '2018년': 1, '하반기': 1, '신입경력': 1, '공채': 1, '1010': 1, '20180927': 1, '1313': 2, '구인천안': 1, '충무병원': 1, '전산실': 1, '20180918': 1, '1525': 2, '정부교육': 1, 'KShield': 1, '주니어': 1, '교육생': 1, '모집정보보호': 1, '95': 1, '20180903': 1, '0753': 2, 'Platum': 1, '10월': 2, '마지막': 1, '주': 1, '스타트업': 3, '이벤트10291104': 1, '20181026': 5, '1438': 2, '中': 1, '신유통': 1, '흐름': 1, '속': 1, '롯데마트의': 1, '쓸쓸한': 1, '퇴장…': 1, '연내': 1, '중국': 1, '1436': 2, '징둥닷컴': 1, '한국지식재산보호원과': 1, '‘2018': 1, '해외': 1, '지': 1, '1341': 2, '부산의': 1, '차세대': 1, '발굴한다…': 1, '’부스타락셀': 1, '2018’': 1, '1336': 2, '26일': 1, '비즈니스': 1, '동향코드스테이츠': 1, '어': 1, '전자신문': 1, '신용현': 1, '5년간': 1, '소멸': 1, '이통사': 1, '마일리지': 1, '1744억원': 1, '20181028': 8, '2012': 2, 'SK텔레콤': 1, '강남과': 1, '안산에서': 1, '첫': 1, '5G': 2, '상용서비스': 1, '1800': 2, 'CJ헬로': 1, 'UI': 1, '알래스카': 1, '개별SO로': 1, '확산': 1, '1700': 4, '알뜰폰이통사': 1, '가격역전···도매제공': 1, '제도': 1, '논란': 1, '박정호': 1, '사장': 1, '“SK텔레콤': 1, '스마트폰': 1, '상용화': 1, '1개': 1, '1500': 2, 'TechCrunch': 1, 'IBM': 1, 'to': 2, 'buy': 1, 'Red': 1, 'Hat': 1, '34B': 1, 'in': 1, 'cash': 1, 'debt': 1, '20181029': 2, '0415': 2, 'Translating': 1, 'startupspeak': 1, 'the': 1, 'corporate': 1, 'buyer': 1, '0216': 2, 'The': 2, 'tools': 1, 'they': 1, 'are': 1, 'achanging': 1, '2200': 2, 'Facial': 1, 'recognition': 1, 'startup': 1, 'Kairos': 1, 'founder': 1, 'cont': 1, '0533': 2, 'SaaS': 1, 'VC': 1, 'gap': 1, 'China': 1, 'other': 1, 'markets': 1, 'trail': 1, 't': 1, '0209': 2, 'Back': 1, 'Top': 1, 'Leading': 1, 'Together': 1, 'Brighter': 1, 'Future': 1, 'Quick': 1, 'Navigation': 1, '홈페이지': 1, 'WEBMAIL': 1, '평생교육원': 1, '교직원': 1, '업무': 1, '포트폴리오': 1, 'Campus': 1, 'Location': 1, 'Contact': 1, 'CSE': 1, '충청남도': 2, '천안시': 2, '동남구': 2, '병천면': 2, '충절로': 2, '1600': 2, '학과사무실': 1, 'TEL': 1, '041': 2, '560': 2, '1460': 1, '1461': 1, 'FAX': 1, '1462': 1, 'Facebook': 1, 'Twitter': 1, 'Google': 1, 'Plus': 1, 'Linkedin': 1, '31253': 1, '가전리': 1, 'Copyright': 1, '©': 1, '2015': 1, 'All': 1, 'rights': 1, 'reserved': 1}\n"
     ]
    }
   ],
   "source": [
    "print(dic)"
   ]
  },
  {
   "cell_type": "markdown",
   "metadata": {},
   "source": [
    "아주 간단하게 해결을 맺었다. 딕셔너리를 생성하고 문자열이 그 딕셔너리 내에 있으면 값을 더하고, 없으면 추가를 해주는 방식이다."
   ]
  },
  {
   "cell_type": "markdown",
   "metadata": {},
   "source": [
    "요구사항 5번째, 각 링크에 대해서 문자의 출현 빈도를 출력하는 것.\n",
    "그 전에 지금까지의 모든 코드를 함수 하나로 묶어 두었다."
   ]
  },
  {
   "cell_type": "code",
   "execution_count": 21,
   "metadata": {},
   "outputs": [],
   "source": [
    "def html_parser(link):\n",
    "    \n",
    "    import re\n",
    "\n",
    "    p = re.compile('>.*?<', re.S)\n",
    "\n",
    "    import requests\n",
    "\n",
    "    req = requests.get(link)\n",
    "\n",
    "    source = req.text\n",
    "\n",
    "    s = p.findall(source)\n",
    "\n",
    "    c = []\n",
    "\n",
    "    for i in range(len(s)):\n",
    "        s[i] = s[i].strip('><')\n",
    "        s[i] = s[i].strip()\n",
    "        if(s[i]!=''):\n",
    "            c.append(s[i])\n",
    "\n",
    "    stt = re.compile('<.*?style>.*?</style>', re.S)\n",
    "    sct = re.compile('<script>.*?</script>', re.S)\n",
    "\n",
    "    stts = stt.findall(source)\n",
    "    scts = sct.findall(source)\n",
    "\n",
    "    sttsl = []\n",
    "    sctsl = []\n",
    "\n",
    "    for i in range(len(stts)):\n",
    "        dummy = p.findall(stts[i])\n",
    "        for j in dummy:\n",
    "            sttsl.append(j)\n",
    "\n",
    "    for i in range(len(scts)):\n",
    "        dummy = p.findall(scts[i])\n",
    "        for j in dummy:\n",
    "            j = j.strip('><')\n",
    "            j = j.strip()\n",
    "            if(j!=''):\n",
    "                sctsl.append(j)\n",
    "\n",
    "    for i in sctsl:\n",
    "        for j in c:\n",
    "            if(j==i):\n",
    "                c.remove(j)\n",
    "\n",
    "    word = []\n",
    "\n",
    "    for i in c:\n",
    "        dummy = i.split()\n",
    "        for j in dummy:\n",
    "            j = j.strip()\n",
    "            word.append(j)\n",
    "\n",
    "    import string\n",
    "\n",
    "    puc = set(string.punctuation)\n",
    "    nword = []\n",
    "\n",
    "    for i in word:\n",
    "        dummy = ''.join(char for char in i if char not in puc)\n",
    "        if(dummy!=''):\n",
    "            nword.append(dummy)\n",
    "\n",
    "    dic = dict()\n",
    "\n",
    "    for i in nword:\n",
    "        if(i not in dic):\n",
    "            dic[i] = 1\n",
    "        else:\n",
    "            dic[i] = dic[i] + 1\n",
    "\n",
    "    print(dic)"
   ]
  },
  {
   "cell_type": "code",
   "execution_count": 22,
   "metadata": {},
   "outputs": [
    {
     "name": "stdout",
     "output_type": "stream",
     "text": [
      "{'컴퓨터공학부': 8, 'Schoolfun': 1, 'Study': 1, 'and': 3, 'Fun': 1, '로그인': 4, '아이디': 1, '비밀번호': 1, '유지': 2, '브라우저를': 1, '닫더라도': 1, '로그인이': 1, '계속': 1, '유지될': 1, '수': 2, '있습니다': 1, '기능을': 1, '사용할': 1, '경우': 1, '다음': 1, '접속부터는': 1, '로그인할': 1, '필요가': 1, '없습니다': 1, '단': 1, '게임방': 1, '학교': 1, '등': 1, '공공장소에서': 1, '이용': 1, '시': 1, '개인정보가': 1, '유출될': 1, '있으니': 1, '꼭': 1, '로그아웃을': 1, '해주세요': 1, '회원가입': 1, 'IDPW': 1, '찾기': 1, 'IT': 5, '교육의': 2, '글로벌': 3, '메카': 2, '한국기술교육대학교': 7, 'Close': 1, '소개': 1, '구성원소개': 1, '학사안내': 1, '입학': 1, '학부': 1, '대학원': 2, '학부광장': 1, '자료실': 2, '공학교육인증': 1, '학부서비스': 1, 'Registration': 1, 'School': 1, 'of': 1, 'Computer': 1, 'Science': 1, 'Engineering': 1, '융합소프트웨어': 3, '인력양성사업': 3, 'CK': 1, 'Creative': 1, 'KoreaI': 1, '교육역량강화사업': 3, '온라인': 4, '컨텐츠': 2, 'Online': 1, 'Contents': 1, 'for': 4, 'Education': 1, 'Capability': 1, 'Empowerment': 1, '홈페이지에': 1, '오신': 1, '것을': 1, '환영합니다': 1, '수준의': 1, 'IT전문인력': 1, '양성': 1, 'IT융합분야에': 1, '대한': 1, '국제적인': 1, '경쟁력': 1, '고취': 1, '바로가기': 2, '컨텐츠를': 1, '소개합니다': 1, '공지사항': 1, '특성화': 4, '2018': 5, 'IT융합': 3, '아이디어': 1, '경진대회': 1, '안내2학기': 1, '20181025': 2, '1501': 2, 'AR': 1, 'CoBot': 1, 'Intensive': 1, '캠프': 1, '모집': 1, '20181022': 1, '1530': 2, '졸업작품': 3, '산업체': 2, '평가회': 2, '결과에': 1, '따른': 1, '20181019': 2, '1409': 2, '5차년도': 1, '개도국': 1, '기술지원': 1, '봉사해외': 1, '20181017': 1, '1357': 2, '결과': 1, '공지졸작': 1, '20181016': 1, '1552': 2, '자유게시판': 1, '★문화의날': 1, '행사': 1, '공지★': 1, '2031': 2, '졸업작품전시회': 1, '기간': 1, '헤어메이크업': 1, '20181007': 1, '1448': 2, '※모의토익비': 1, '지원': 1, '공지※': 1, '20180928': 1, '0937': 4, 'ACMICPC': 1, '예선': 1, '신청기간이': 1, '얼마': 1, '안': 1, '남았습니다': 1, '20180913': 1, '1136': 2, '문화행사': 1, '취소': 1, '공지': 1, '20180910': 1, '1917': 2, '취업게시판': 1, '㈜비즈테크파트너스': 1, 'LG': 1, 'CNS자회사': 1, '신입': 1, '개발직': 1, '1629': 2, '국가보안기술연구소': 1, '정규직': 1, '채용': 1, '20181004': 1, '1418': 2, '한글과컴퓨터그룹': 1, '2018년': 1, '하반기': 1, '신입경력': 1, '공채': 1, '1010': 1, '20180927': 1, '1313': 2, '구인천안': 1, '충무병원': 1, '전산실': 1, '20180918': 1, '1525': 2, '정부교육': 1, 'KShield': 1, '주니어': 1, '교육생': 1, '모집정보보호': 1, '95': 1, '20180903': 1, '0753': 2, 'Platum': 1, '10월': 2, '마지막': 1, '주': 1, '스타트업': 3, '이벤트10291104': 1, '20181026': 5, '1438': 2, '中': 1, '신유통': 1, '흐름': 1, '속': 1, '롯데마트의': 1, '쓸쓸한': 1, '퇴장…': 1, '연내': 1, '중국': 1, '1436': 2, '징둥닷컴': 1, '한국지식재산보호원과': 1, '‘2018': 1, '해외': 1, '지': 1, '1341': 2, '부산의': 1, '차세대': 1, '발굴한다…': 1, '’부스타락셀': 1, '2018’': 1, '1336': 2, '26일': 1, '비즈니스': 1, '동향코드스테이츠': 1, '어': 1, '전자신문': 1, '신용현': 1, '5년간': 1, '소멸': 1, '이통사': 1, '마일리지': 1, '1744억원': 1, '20181028': 7, '2012': 2, 'SK텔레콤': 1, '강남과': 1, '안산에서': 1, '첫': 1, '5G': 2, '상용서비스': 1, '1800': 2, 'CJ헬로': 1, 'UI': 1, '알래스카': 1, '개별SO로': 1, '확산': 1, '1700': 4, '알뜰폰이통사': 1, '가격역전···도매제공': 1, '제도': 1, '논란': 1, '박정호': 1, '사장': 1, '“SK텔레콤': 1, '스마트폰': 1, '상용화': 1, '1개': 1, '1500': 2, 'TechCrunch': 1, 'Original': 1, 'Content': 1, 'podcast': 1, 'There’s': 1, 'spooky': 1, 'fun': 1, 'i': 1, '20181029': 3, '0500': 2, 'IBM': 1, 'to': 2, 'buy': 1, 'Red': 1, 'Hat': 1, '34B': 1, 'in': 1, 'cash': 1, 'debt': 1, '0415': 2, 'Translating': 1, 'startupspeak': 1, 'the': 1, 'corporate': 1, 'buyer': 1, '0216': 2, 'The': 1, 'tools': 1, 'they': 1, 'are': 1, 'achanging': 1, '2200': 2, 'Facial': 1, 'recognition': 1, 'startup': 1, 'Kairos': 1, 'founder': 1, 'cont': 1, '0533': 2, 'Back': 1, 'Top': 1, 'Leading': 1, 'Together': 1, 'Brighter': 1, 'Future': 1, 'Quick': 1, 'Navigation': 1, '홈페이지': 1, 'WEBMAIL': 1, '평생교육원': 1, '교직원': 1, '업무': 1, '포트폴리오': 1, 'Campus': 1, 'Location': 1, 'Contact': 1, 'CSE': 1, '충청남도': 2, '천안시': 2, '동남구': 2, '병천면': 2, '충절로': 2, '1600': 2, '학과사무실': 1, 'TEL': 1, '041': 2, '560': 2, '1460': 1, '1461': 1, 'FAX': 1, '1462': 1, 'Facebook': 1, 'Twitter': 1, 'Google': 1, 'Plus': 1, 'Linkedin': 1, '31253': 1, '가전리': 1, 'Copyright': 1, '©': 1, '2015': 1, 'All': 1, 'rights': 1, 'reserved': 1}\n",
      "{'한국기술교육대학교': 3, '홈페이지': 3, 'documentcreateElementheader': 1, 'documentcreateElementnav': 1, 'documentcreateElementsection': 1, 'documentcreateElementarticle': 1, 'documentcreateElementfooter': 1, '주요메뉴': 1, '바로가기': 3, '본문': 1, '하단메뉴': 1, 'function': 1, 'fnSubmit': 1, 'var': 1, 'f': 1, 'documentlogoutFrm': 1, 'fsubmit': 1, '현재': 1, '스크립트가': 1, '꺼져': 1, '있는': 1, '상태입니다': 1, '스크립트를': 1, '사용하지': 1, '않으시면': 1, '이용에': 1, '불편사항이': 1, '있습니다': 1, '스크립트': 1, '사용을': 1, '권장합니다': 1, 'KOREATECH': 21, '탑': 2, '유틸메뉴': 2, '오류신고': 1, 'HOME': 1, 'LOGIN': 3, 'WEBMAIL': 2, 'SITEMAP': 1, 'ENGLISH': 2, 'CHINESE': 2, '통합검색': 1, '입력폼': 1, 'facebook': 2, 'daum': 2, 'naver': 2, 'youtube': 2, '대학소개': 4, '대한민국': 1, '기술리더': 1, '세계를': 1, '품다': 1, 'KOREATECH소개': 2, '총장실': 2, '대학현황': 2, 'VISION2020': 2, 'KOREATECH20년': 2, '대학조직': 2, '국제교류': 2, '코리아텍발전기금': 2, 'KOREATECH부패방지': 2, '입학안내': 6, '학생이': 5, '행복한': 1, '대학': 11, '학생중심': 1, '교육중심': 2, '대학원': 4, '대학대학원': 6, '기업이': 1, '신뢰하는': 1, '1위': 3, '일학습병행대학': 3, '대학생활': 4, '대한민국의': 1, '미래를': 1, '선도하는': 1, '행복대학': 1, '학사안내': 2, '해외연수': 4, '장학제도': 4, '캠퍼스생활': 2, '병사안내': 2, '커뮤니티': 4, '도전': 1, '열정': 1, '창의': 1, '재학생': 5, '만족도': 1, '취업률': 1, '공지사항': 2, '참여게시판': 2, '자료실': 2, '휴먼아카데미명사특강': 2, '취업역량강화동영상': 2, '교수·학습역량강화특강': 2, '학부모님': 2, '의견란': 2, '고객의': 2, '소리제안': 2, '대학홍보': 4, '대학민국': 1, 'NO1': 1, '교육중심대학': 2, 'NEWS': 3, '홍보영상물': 4, '홍보대사': 2, '언론보도모음집': 2, '대학소식지': 2, '사이버투어': 2, '홍보브로셔': 2, '코리아텍학부모초청의날': 2, '정보공개': 6, '투명한': 1, '학교운영': 1, '공공데이터개방': 2, '행정공시': 2, '지방대특성화': 2, '사업': 2, '사업실명제': 2, '이전': 3, '다음': 4, 'bannerbtnNext': 1, 'prev': 1, 'bannerbtnPrev': 1, 'next': 1, 'bannerbtnStop': 1, 'stop': 1, 'bannerinitialize': 1, '팝업닫기': 1, '팝업열기': 1, '코리아텍': 6, '언론보도': 1, '예비대학생': 4, '교직원': 4, '일반인': 4, '자세히보기': 1, '온라인교육지원': 5, '생활관': 7, '교내인증': 4, 'SW': 4, '무선랜신청': 4, '원격지원': 4, '오늘의': 4, '식단': 4, '시설보수신청': 4, '학사종합서비스': 4, '인터넷증명발급': 5, '시설물신청': 2, '동아리안내': 2, 'IPP센터': 5, '학부소개': 4, '언론기사': 4, '국제교육센터': 3, '전화번호찾기': 4, '캠퍼스투어': 4, '찾아오시는길': 4, '캠퍼스사진': 2, '아우누리': 2, '전자출결RFID': 2, '학교차량신청': 2, '교육장비검색': 2, '코리아텍소개': 2, 'VISION': 2, '2020': 2, '대학원소개': 2, '고용노동연수원': 3, '능력개발교육원': 3, '직업능력': 1, '심사평가원': 1, '온라인평생교육원': 3, 'BUS': 2, '닫기': 3, 'Foreigner': 1, '직업능력심사평가원': 2, '만족하는': 4, '사실에': 4, '근거하여': 4, '진리를': 4, '탐구하는': 4, '현장중심과': 4, '실험실습을': 4, '강조하는': 4, '1': 5, '2': 5, '4': 3, '3': 3, '재생': 2, '정지': 3, '데스크탑': 1, '태블릿': 1, '비주얼': 2, '모바일': 1, '일반공지': 1, '2018': 1, '하반기': 1, '외국계기업amp영어면접': 1, '취업캠프': 1, '2018년': 3, '2학기': 4, '기계공학부': 2, '유체역학': 1, '중간고사': 1, '시험일정': 1, '끌어올림【교수학습센터】단기근로장학생': 1, '모집': 1, '1029': 1, '온라인': 2, '상담': 1, '안내': 7, '행복연구행복에': 1, '관한': 1, '설문에': 1, '참여': 1, '부탁드려요': 1, '던킨': 1, '네트워크': 3, '긴급': 3, '패치': 3, '작업으로': 3, '인한': 3, '서비스안내': 3, '제3기': 1, 'KOTRA': 1, 'IPP': 3, '설명회': 2, '2014학년도': 2, '상반기': 2, '신청': 5, '안내IPP센터': 1, '인문향연': 1, '인디밴드': 1, '콘서트': 1, 'THE': 1, '현장실습': 2, '동계': 2, '인턴': 1, '및': 2, 'HRD': 1, '개최': 1, '우리말': 1, '뽐내기': 1, '준비를': 1, '위한': 1, '글쓰기': 1, '특강': 1, '더보기': 7, '장학공지': 1, '20182학기': 1, '중소기업': 1, '취업연계': 1, '장학사업희망사다리장': 1, '제18기': 1, '대학생': 1, '재능봉사': 1, '국가장학생': 1, '캠': 1, '교내장학': 2, '2018학년도': 5, '2차': 1, '신문고': 1, '장학': 2, '신': 1, '나∙우리': 1, '입학생': 1, '입학금감축대응지원': 1, '장학금': 1, '4차': 1, '취업공지': 1, '학사공지': 1, '제2차': 1, '교직적성': 1, '인성검사': 1, '결과': 1, '알림': 1, '강의': 1, '중간': 1, '설문조사': 1, '실시': 1, '자격증': 1, '준비': 1, '수험자': 1, '필독': 1, '국가기술자격검정': 1, '제도': 1, '개선': 1, '2019학년도': 1, '학교현장실습': 1, '중등교직이수': 1, '중등교직과정': 1, '이수예정자': 1, '추가': 1, '선발': 1, '충청남도청과': 1, '＇제3회': 1, '수소에너지': 1, '국제포럼＇': 1, '개': 1, '독립기념관과': 1, '청렴업무': 1, '강화': 1, 'MOU체결': 1, '메카트로닉스공학부': 2, '학생': 1, '수원정보과학축제': 1, '대상': 1, '‘2018': 1, '산학협력': 3, '페스티벌’': 1, '성료': 1, '인도네시아': 1, '‘지진': 1, '피해': 1, '구호': 1, '성금’': 1, '전달': 1, '팝업존': 1, '플레이': 1, 'UNIVERSITY': 1, 'OF': 1, 'Cyber': 1, 'Tour': 1, '자주찾는': 3, '서비스': 4, '온라인교육': 1, '학사일정': 2, '발전기금': 2, '학과안내': 2, '사이버감사실': 2, '학사종합': 1, '교육': 1, '인터넷': 1, '증명발급': 1, 'LINC': 1, '관련사이트': 1, '전기전자통신공학부': 1, '컴퓨터공학부': 1, '디자인공학전공': 1, '건축공학전공': 1, '에너지신소재화학공학부': 1, '산업경영학부': 1, '교양학부': 1, '일반대학원': 1, '테크노인력개발전문대학원': 1, 'IT융합과학경영대학원': 1, '최고경영자과정': 1, '주요사이트': 2, '공식카페': 1, '네이버': 1, '공식블로그': 1, '웹갤러리': 1, '동문홈페이지': 1, '웹메일': 1, '고용부': 2, '잡영': 1, '워크넷': 1, '잡코리아': 1, '사람인': 1, '인크루트': 1, '교내주요기관': 2, '다산정보관': 1, '대학교육개발단': 1, '산학협력단': 1, 'LINC사업단': 1, '생활협동조합': 1, '공학교육혁신센터': 2, 'PSM사업단': 1, '반도체장비교육센터': 1, '개도국기술이전연구소': 1, 'HRD센터': 1, '상담진로개발센터': 1, 'IPP포털': 2, '사회봉사센터': 1, 'CIGMA': 1, 'CENTER': 1, '다담창의센터': 1, 'IPP·UniTech허브사업단': 1, '창업지원센터': 1, '듀얼공동훈련센터허브사업단': 1, 'ACE사업단': 1, '학생자치단체': 2, '총학생회': 1, '총여학생회': 1, '총동아리연합회': 1, '코리아텍방송국': 1, '코리아텍신문사': 1, '교지편집위원회': 1, '생활관자치회': 1, '전국대학생하이브리드자동차경진대회': 1, '졸준위08': 1, '졸준위07': 1, '대외유관기관': 2, '고용노동부': 1, '산업통상자원부': 1, '기획재정부': 1, '한국산업인력공단': 1, '한국폴리텍대학': 1, '한국교육개발원': 1, '한국노동연구원': 1, '근로복지공단': 1, '한국산업안전보건공단': 1, '한국고용정보원': 1, '한국직업능력개발원': 1, '장애인고용공단': 1, '충청남도청': 1, '천안시청': 1, '국민권익위원회': 1, '교과부': 1, 'NTIS': 1, '원격훈련심사센터': 1, 'Footer': 2, 'link': 2, '개인정보처리방침': 2, '이메일무단수집거부': 2, '윤리헌장': 2, '행정서비스헌장': 2, '알리오': 2, '대학알리미': 1, '대학정보공시': 2, '공학교육인증안내': 1, '도로명주소안내': 2, '31253': 1, '충청남도': 1, '천안시': 1, '동남구': 1, '병천면': 1, '충절로': 1, '1600': 1, '가전리': 1, '한국기술교육대학교nbspnbspnbspTel': 1, '0415601114': 1, 'Copyrightⓒ2014': 1, 'All': 1, 'rights': 1, 'reserved': 1}\n"
     ]
    },
    {
     "name": "stdout",
     "output_type": "stream",
     "text": [
      "{'var': 15, 'nsc': 1, 'navertopv3': 1, 'documentdomain': 1, 'navercom': 1, 'jindoAll': 1, 'if': 3, 'windowconsole': 1, 'windowconsolewindowconsolelogfunction': 1, 'isLogin': 1, 'false': 1, 'function': 4, 'refreshLcsetc': 1, 'etc': 4, 'ifdocumentcookieindexOfnrefreshx1': 1, '1': 4, 'etcmrf1': 1, 'else': 1, 'etcpansowreturn': 1, 'lcsdorefreshLcs': 1, 'NAVER': 3, '뉴스스탠드': 2, '바로가기': 6, '주제별캐스트': 1, '타임스퀘어': 2, '쇼핑캐스트': 2, '로그인': 4, '네이버': 10, '네이버를': 1, '시작페이지로': 1, '쥬니어네이버': 1, '해피빈': 1, '검색': 2, '통합검색': 1, '블로그': 3, '카페': 2, '카페명': 1, '카페글': 1, '지식iN': 1, '뉴스': 6, '사이트': 2, '카테고리': 1, '영화': 4, '웹문서': 1, '사전': 2, '백과사전': 1, '영어사전': 1, '영영사전': 1, '국어사전': 1, '일본어사전': 1, '한자사전': 1, '용어사전': 1, '책': 2, '음악': 1, '전문자료': 1, '쇼핑': 2, '지역': 2, '동영상': 1, '이미지': 1, '내PC': 1, '자동차': 2, '게임': 2, '건강': 2, '인물': 1, '긍정부정검색': 1, '자동완성': 17, '펼치기': 5, '한글': 1, '입력기': 1, '생각한대로': 1, '검색해': 1, '보세요': 2, 'Beta': 1, 'txt': 5, '시간대와': 1, '관심사에': 2, '맞춘': 1, '컨텍스트': 3, '도움말': 6, '보기': 22, 'ON': 1, '선택됨': 1, 'OFF': 1, '동일한': 1, '시간대연령남녀별': 1, '사용자': 1, '그룹의': 1, '맞춰': 1, '자동완성을': 1, '제공합니다': 1, '자세히': 2, 'ONOFF설정은': 1, '해당': 1, '기기브라우저에': 1, '저장됩니다': 1, '레이어': 1, '닫기': 3, '신고': 4, '검색어저장': 6, '켜기': 5, '끄기': 7, '기능을': 5, '다시': 4, '켤': 4, '때는': 4, '을': 4, '클릭하세요': 4, '현재': 1, '사용하고': 1, '계십니다': 1, '기능이': 4, '활성화되었습니다': 1, '꺼져': 3, '있습니다': 5, '최근검색어': 2, '내': 9, '검색어': 10, '등록': 3, 'date': 1, '삭제': 4, 'intxt': 2, '내역이': 1, '없습니다': 3, '저장': 2, '해제': 1, '설정된': 1, '검색어가': 1, '최근검색어에서': 1, '를': 3, '선택하여': 1, '자주': 1, '찾는': 1, '검색어를': 2, '검색어로': 1, '저장해': 1, '알림': 1, '공용': 1, 'PC에서는': 1, '개인정보': 1, '보호를': 1, '위하여': 1, '반드시': 1, '로그아웃을': 1, '해': 1, '주세요': 1, '기록': 3, '전체': 5, '완료': 2, '검색어는': 1, '최대': 1, '10': 8, '개': 1, '까지': 1, '저장할': 1, '수': 3, '추가하시려면': 1, '기존': 1, '지워주세요': 1, '613': 1, '지방선거·국회의원선거': 1, '투표종료시까지': 1, '후보자명에': 1, '대한': 1, '자동완성검색어': 1, '노출이': 1, '중단됩니다': 1, '자세히보기': 1, 'image7': 1, '6': 5, '12': 4, '7': 6, '8': 6, '9': 6, '11': 5, '5회차': 1, '13': 3, '14': 3, 'money': 1, '원': 1, '기온': 2, '℃': 2, '5': 4, 'displaylink': 1, '사이트로': 1, '바로': 2, '이동': 3, 'query': 1, 'intend': 1, '바로이동': 1, 'mismatchbefore': 2, 'match': 2, 'mismatchafter': 2, '메일': 1, '지식인': 1, '네이버페이': 1, '네이버TV': 1, '증권금융': 1, '부동산': 2, '지도': 1, '뮤직': 3, '만화': 1, '웹툰': 2, '더보기': 1, '급상승': 4, '런닝맨': 2, '2': 2, '엘클라시코': 2, '3': 2, '유혜주': 2, '4': 2, '바르셀로나': 2, '레알마드리드': 4, '신서유기6': 2, '신의한수': 2, '신재은': 2, '이수지': 2, '김주혁': 2, '인셉션': 2, '신의탑': 2, '라리가': 2, '1박': 2, '2일': 2, '장자연': 2, '15': 2, '원피스': 2, '859화': 2, '애니': 2, '16': 2, '내사랑': 2, '치유기': 2, '17': 2, '배정남': 2, '18': 2, '19': 2, '로스트아크': 2, '20': 2, '미운우리새끼': 2, 'DataLab': 1, '트래킹': 1, '110위': 2, '1120위': 1, '데이터랩': 20, '그래프': 20, '20181029': 1, '050400': 1, '기준': 1, '연합뉴스': 1, '안': 1, '다쳐': 1, '천만다행…무사': 1, '귀국한': 1, '사이판': 1, '관광객들': 1, '안도의': 1, '한숨': 1, '문대통령': 1, '남은': 1, '두': 1, '달': 1, '국정': 1, '초점': 1, '평화프로세스·민생경제': 1, '유치원': 1, '휴업할': 1, '땐': 1, '학부모': 1, '사전동의': 1, '받게': 1, '한다': 1, '29일': 1, '더': 1, '춥고': 1, '곳곳': 1, '비·우박…대관령': 1, '2도': 1, 'JSA': 1, '이르면': 1, '내달부터': 1, '자유왕래…비무장화': 1, '공동검증': 1, '특별재판부': 1, '추진': 1, '산': 1, '넘어': 1, '산…국정조사와': 1, '빅딜도': 1, '안갯속': 1, '비건': 1, '美대북대표': 1, '방한…기자질문에': 1, '답할수없어': 1, '신중모드': 1, '72시간동안': 1, '美': 1, '뒤흔든': 1, '범죄': 1, '3건…용의자': 1, '공통점은': 1, '증오': 1, '이재명': 1, '촛불정부의': 1, '경찰': 1, '맞나…국민법정에': 1, '맡긴다': 1, '왜': 1, '새치기해…인천공항': 1, '면세구역서': 1, '중국인': 1, '9명': 1, '패싸움': 1, '네이버뉴스': 1, '연예': 1, '스포츠': 2, '경제': 1, '언론사': 5, 'MY': 1, '이미지형': 1, '리스트형': 1, '설정': 3, '이전': 2, '페이지': 2, '다음': 2, '목록': 3, '구독': 19, '해지': 18, '기사보기': 18, '종합경제': 1, '방송통신': 1, 'IT': 1, '영자지': 1, '스포츠연예': 1, '매거진전문지': 1, '설정한': 3, '언론사가': 1, '설정에서': 1, 'MY언론사를': 1, '추가하면': 1, '언론사의': 1, '기사들을': 1, '홈에서': 1, '보실': 1, '추가': 1, 'Sign': 3, 'in': 2, 'Connect': 1, 'with': 1, 'people': 1, 'up': 1, 'Forgot': 1, 'Username': 1, 'or': 1, 'Password': 1, '1029': 1, '월': 1, '앞의': 1, '목록으로': 2, '뒤의': 1, 'TV뉴스': 1, '저녁': 1, '메인': 1, '다시보기': 1, '학습': 1, '최신': 1, '시사상식': 1, '영어로': 1, '듣는': 1, '영어톡톡': 1, '고민': 1, '깊은': 1, '장기보유': 1, '1주택자': 1, 'quot집': 1, '팔까': 1, '거주요건': 1, '채울까quot': 1, '주제형': 1, '캐스트': 1, '관심': 4, '주제': 9, '선택': 1, '리빙': 1, '푸드': 1, '패션뷰티': 1, '부모i': 1, 'TV연예': 1, '책문화': 1, '함께N': 1, '여행': 1, '디자인': 1, '경제M': 1, 'JOB': 1, '과학': 1, '중국': 1, '비즈니스': 3, 'FARM': 1, '스쿨잼': 1, '공연전시': 3, '법률': 1, '동물공감': 1, '연애·결혼': 1, '테크': 1, '감성충전': 1, '열기': 1, 'name': 4, 'isNewPanel': 1, 'NEW': 1, '관심주제로': 1, '설정하시겠습니까': 1, '확인': 3, '취소': 3, '모바일에서': 1, '가져오시겠습니까': 1, '관심주제': 1, '모바일': 3, '가져오기': 2, '후': 2, '사용': 2, '가능합니다': 2, '초기화': 1, '전체선택': 1, '공식': 1, '공연': 2, 'TV': 1, '아트윈도': 2, '예매': 2, '헬로아티스트': 1, '주아티션': 1, '연극': 1, '골든타임': 1, '나는': 1, '소방관의': 1, '아내입니다우리들의': 1, '영웅': 1, '애환과': 1, '눈물': 1, '세계': 1, '최고의': 1, '박물관': 1, '전쟁의': 1, '야만성': 1, '말하는': 1, '깡기념관': 1, '박물관의': 1, '창': 1, '목숨': 1, '건': 1, '묘기': 1, '뒤엔': 1, '1mm단위': 1, '치밀함이': 1, '태양의서커스': 1, '뒷무대': 1, 'isUnderIE9': 1, 'AgentDetectISIE': 1, 'AgentDetectsearchBrowserVersion': 1, '0': 2, 'dadomid': 1, 'typeof': 2, 'nbpad': 1, 'undefined': 2, 'nbpadmobilenetworkaddivid': 1, 'adwda': 1, 'tarEl': 1, 'NBPCORPuId': 2, 'util': 1, 'navercorpdaUtil': 2, 'new': 3, 'NBPCORPNimp': 1, 'iftarEl': 1, 'ActiveView': 1, 'acenddate': 2, '20301231235959': 2, 'adenddate': 2, 'scrolltarget': 2, 'dascrolltarget': 1, 'dascrolltargettargetEl': 1, 'window': 1, 'orientationchangetime': 2, '500': 1, 'callback': 3, 'url': 2, 'httpsnvvetanavercomfxvieweuEU10030107calpac7560751src3184385evtcdC1073xti944tbSHOW1oidsid1sid2rkaed8dbb9fbb843a65552d5c7b453ca32elttstX3VG2B6w4GagrtA2BlL4nlQ3D3DbrsYeidV900xev': 1, 'xev': 4, 'try': 1, 'target': 2, 'parseInttargetgetBoundingClientRectheight': 1, 'targetoffsetHeight': 1, '000': 3, '111': 1, 'catche': 1, 'finally': 1, 'utillogurl': 1, 'callbackForInValid': 3, 'navercorpdaactiveViewsuId': 4, 'null': 2, 'ifnavercorpdaactiveViewsuId': 1, 'navercorpdaactiveViewsuIdclearActiveView': 1, 'navercorpdaActiveView': 1, 'adDivId': 1, 'uId': 1, 'acEndDate': 1, 'adEndDate': 1, 'scrollTarget': 1, 'activeViewTime': 1, '1000': 1, 'activeViewPercentage': 1, '05': 1, 'orientationChangeTime': 1, 'navercorpdaactiveViewsuIdcheckActiveView': 1, '할리우드를': 1, '위해': 1, '태어나': 1, '할리우드에': 1, '의해': 1, '죽은': 1, '배우': 1, '도로시': 1, '주디': 1, '갈란드': 1, '매일': 1, '화장하는': 1, '남자': 1, '트런치불': 1, '최재림': 1, '편': 1, '뮤지컬': 1, '마틸다': 1, '소실·붕괴로': 1, '이젠': 1, '볼': 1, '없는': 1, '우리': 1, '문화재들': 1, '문화재': 1, '이야기': 2, '조선의': 1, '모나리자는': 1, '어떤': 1, '모습일까': 1, '한국': 1, '근·현대': 1, '미인도': 1, '전': 1, '노벨상': 1, '수상자': 1, '마리': 1, '퀴리': 1, '뮤지컬로': 1, '돌아온다': 1, '한': 2, '주간의': 2, '소식': 2, '억대': 1, '예술품이': 1, '임원실에': 1, '코트라': 1, '출처': 1, '불명': 1, '고古': 1, '예술품': 1, '보유': 1, '전시': 1, '올해의': 1, '신작': 1, '창작오페라': 1, '미리': 1, '2018': 1, '창작산실': 1, '세상의': 1, '모든': 1, '것은': 1, '춤이다': 1, 'SPAF': 1, '공상물리적': 1, '춤': 1, '새로운': 4, '작품세계를': 1, '만나요': 1, '이벤트': 1, '클래식': 1, '교육극': 1, '쿵짝쿵짝': 1, '트레인': 1, '10쌍을': 1, '모십니다': 1, '황나라': 1, '我한정판': 1, '에디션': 1, '예술과': 1, '쇼핑이': 1, '만나다': 1, '리처드': 1, '커티스의': 1, '가슴': 1, '따뜻한': 1, '산타와': 1, '빈': 1, '양말': 1, 'httpscastboxshoppingnavercomshopboxmainnhn': 1, '파트너스퀘어': 1, '광주': 1, '비누만들기오픈클래스': 1, '피부에': 1, '맞는': 1, '천연비누를': 1, '직접만드는': 1, '1DAY': 1, '클래스': 1, '커넥트재단': 1, '부스트코스': 2, '코드': 2, '리뷰어': 2, '핵심': 1, '파트너': 2, '온라인': 1, '모집': 1, '공지사항': 1, '모바일에': 1, '따른': 1, '변화에': 1, '대해': 1, '안내': 3, '드립니다': 1, '서비스': 1, '전체보기': 1, '프로젝트': 2, '꽃': 2, '네이버모바일': 1, '다운로드': 1, 'Creators': 1, '크리에이터': 1, '스몰비즈니스': 1, 'Partners': 1, '·': 1, '광고': 1, '스토어': 1, '개설': 1, '지역업체': 1, 'Developers': 1, '개발자센터': 1, '오픈': 1, 'API': 1, '오픈소스': 1, 'D2': 1, '랩스': 1, '정책': 2, '및': 1, '약관': 1, '회사소개': 1, '인재채용': 1, '제휴제안': 1, '이용약관': 1, '개인정보처리방침': 1, '청소년보호정책': 1, '고객센터': 1, 'ⓒ': 1, 'Corp': 1}\n",
      "{'Daum': 1, 'charset': 1, 'utf8': 1, 'bodydivdldtddulollih1h2h3h4h5h6precodeformfieldsetlegendtextareapblockquotethtdinputselectbuttonmargin0padding0': 1, 'fieldsetimgborder0': 1, 'none': 5, 'dlulolmenuliliststylenone': 1, 'blockquote': 1, 'qquotes': 1, 'blockquotebefore': 1, 'blockquoteafterqbefore': 1, 'qaftercontentcontentnone': 1, 'inputselecttextareabuttonborderradius0verticalalignmiddle': 1, 'inputmscleardisplaynone': 1, 'buttonborder0': 1, 'nonebackgroundcolortransparentcursorpointer': 1, 'bodybackgroundfffdirectionltrwebkittextsizeadjustnone': 1, 'bodythtdinputselecttextareabuttonfontsize13pxlineheight15fontfamilyAppleSDGothicNeoRegularMalgun': 1, 'Gothic맑은': 1, '고딕dotum돋움sansserifcolor222letterspacing1px': 1, 'osmac': 168, 'bodyosmac': 1, 'thosmac': 1, 'tdosmac': 1, 'inputosmac': 1, 'selectosmac': 1, 'textareaosmac': 1, 'buttonletterspacing0': 1, 'acolor222textdecorationnone': 1, 'ahovercolor118efftextdecorationunderline': 1, 'aactivebackgroundcolortransparent': 1, 'addresscaptioncitecodedfnemvarfontstylenormalfontweightnormal': 1, 'irpmdisplayblockoverflowhiddenfontsize1pxlineheight0textindent9999px': 1, 'irwadisplayblockoverflowhiddenpositionrelativewidth100height100zindex1': 1, 'screenoutoverflowhiddenpositionabsolutewidth0height0lineheight0textindent9999px': 1, 'showdisplayblock': 1, 'hidedisplaynone': 1, 'dindexpositionrelativewidth100': 1, 'dindex': 7, 'shortcutgpositionabsolutetop34pxleft0height33pxpadding0': 1, '20px': 13, '0': 234, '26pxborderbottom1px': 1, 'solid': 54, '3f4243fontsize11pxlineheight14pxbackgroundcolor26292acolorfffletterspacing1pxtextaligncenter': 1, 'shortcutgactive': 2, 'shortcutgfocusoverflowhiddentop0textdecorationnonezindex101': 1, 'shortcutghovercolorfff': 1, 'shortcutg': 2, 'innershortcutdisplayinlineblockpaddingright10pxmargintop8pxbackgroundposition100': 1, '220pxverticalaligntop': 1, 'innershortcutmargintop11pxbackgroundposition100': 1, '223px': 1, 'icopctopoverflowhiddenbackgroundurlt1daumcdnnetdaumtopdecoimagestop2017icopctop180423png': 1, 'norepeat': 24, 'icovertoverflowhiddenbackgroundurlt1daumcdnnetdaumtopdecoimagestop2017icopctopvert170724png': 1, 'txtpctopoverflowhiddenbackgroundurlt1daumcdnnetdaumtopdecoimagestop2017txtpctop170915png': 1, '0letterspacing1pxwhitespacenowrap': 1, 'bgpctopbackgroundurlt1daumcdnnetdaumtopdecoimagestop2017bgpctop170328png': 1, 'numpctopoverflowhiddenbackgroundurlt1daumcdnnetdaumtopdecoimagestop2017numpctop170405png': 1, 'imgthumbdisplayblockverticalaligntop': 1, 'framegpositionabsolutetop0left0border1px': 1, '000opacity008filteralphaopacity8': 1, 'thumbgdisplayblockpositionrelative': 1, 'daumWrappositionrelativeminwidth1080px': 1, 'daumWraptransformtranslate3d0px': 1, '0px': 5, 'headdaumpositionrelativezindex100': 1, 'contmainpositionrelativewidth990pxmargin15px': 1, 'auto': 7, 'conttopicoverflowhiddenpositionrelativezindex0width100bordertop1px': 1, 'ecececbackgroundcolorfbfbfcbackgroundposition50': 1, '100backgroundrepeatnorepeat': 1, 'featuretmpdisplayinlineblockverticalaligntop': 1, 'wrapmainpaddingbottom40pxclearbothzoom1': 1, 'wrapmainafterdisplayblockvisibilityhiddenheight0fontsize0clearbothcontent': 1, 'cmaintmpfloatleftwidth655pxmarginright35px': 1, 'wingtmpfloatleftwidth300px': 1, 'footdaumbordertop1px': 1, '888': 5, 'footdaum': 26, 'innerfootoverflowhiddenpositionrelativewidth990pxmargin0': 1, 'autopadding37px': 1, '78px': 1, 'linklogofloatleft': 1, 'infonoticeoverflowhiddenpadding0': 1, '250px': 3, '30px': 28, 'titnoticefloatleftfontsize13px': 1, 'linknoticedisplayblockpaddingright9pxbackgroundposition100': 1, '169px': 1, 'linknoticehovercolor222': 1, 'listnoticeoverflowhiddenwidth542pxheight19pxpaddingleft9px': 1, 'listnotice': 10, 'linkinfodisplayblockoverflowhiddentextoverflowellipsiswhitespacenowrap': 1, 'linkinfohovercolor222': 1, 'searchfootpositionabsolutetop32pxright0': 1, 'boxsearchpositionrelativezindex1width209pxheight28pxborder1px': 1, 'c8c8c8': 1, 'searchonbordercolor0089ff': 1, 'tfkeywordfloatleftwidth164pxmargin5px': 1, '9pxborder1px': 1, 'transparentlineheight19pxoutline0': 1, 'btnsearchfloatrightwidth32pxheight28pxlineheight28pxbackgroundposition0': 1, '230pxbackgroundcolortransparent': 1, 'linksvcallpositionabsolutetop81pxright0paddingright10pxfontweightboldcolor888backgroundposition100': 1, '194px': 1, 'infopolicypadding23px': 1, 'infopolicy': 2, 'linkpolicyfontsize12pxcolor888': 1, 'txtdotpadding0': 1, '2pxfontsize12pxcolor888': 1, 'txtcopyrightdisplayblockpaddingtop6pxfontsize11pxcolor888': 1, 'txtcopyright': 1, 'linkkakaocolor888': 1, 'infonoticepadding3px': 1, '31px': 1, 'linknoticepaddingright12pxbackgroundpositiony172px': 1, 'tfkeywordmargintop4px': 1, 'linksvcalltop83pxbackgroundpositiony196px': 1, 'infopolicypaddingtop24px': 1, 'txtcopyrightpaddingtop5px': 1, 'dheadborderbottom1px': 1, 'ececec': 9, 'dhead': 1, 'innerheadpositionrelativezindex1width1080pxheight150pxmargin0': 1, 'titdaumoverflowhiddenfloatleftwidth180pxheight150pxtextaligncenter': 1, 'linkdaumoverflowhiddendisplayblockmargin28px': 1, 'linklaunchpositionabsolutetop6pxleft45pxpaddingright8pxfontsize11pxcolor888backgroundposition100': 1, '18px': 3, 'linklaunchtop9pxbackgroundposition100': 1, '21px': 1, 'wrapsearchfloatleftpositionrelativemargintop50px': 1, 'wrapsearch': 1, 'dschbackgroundcolorfff': 1, 'headdaum': 17, 'boxsearchpositionrelativeheight44pxmargin1px': 1, '1px': 5, '0border1px': 2, '0089ffborderradius1px': 1, 'boxsearch': 2, 'innersearchpositionrelativezindex10height44pxpadding0': 1, '80px': 10, '14px': 5, 'boxsearchbefore': 1, 'innersearchbefore': 1, 'boxsearchafterpositionabsoluteleft0right100height1pxcontentbackgroundcolor0089ff': 1, 'boxsearchbeforetop1px': 1, 'boxsearchafterbottom1px': 1, 'boxsearchhoverbefore': 1, 'boxsearchhoverafterright0transitionpropertyrighttransitionduration08sbackgroundlineargradientto': 1, 'right': 1, '86aaff': 1, '70bc4c': 1, 'ffbe00': 1, 'f46e85': 1, 'boxsearchhover': 1, 'innersearchbeforetop1pxbottom1pxleftautoright1pxwidth1pxheight46pxbackgroundcolorf46e85transitionpropertyheighttransitiondelay08s': 1, 'tfkeywordfloatleftwidth422pxmargintop7pxborder1px': 1, 'transparentfontsize18pxlineheight24pxbackgroundcolortransparentoutline0imemodeactivewebkitappearancenone': 1, 'btnsearchpositionabsolutetop0right0width49pxheight42pxmargin1pxlineheight44pxbackgroundposition40px': 1, '231pxbackgroundcolortransparent': 1, 'slidefavorschoverflowhiddenwidth480pxheight28px': 1, 'listfavorschoverflowhiddenpaddingtop7px': 1, 'listfavorsch': 3, 'lifloatleftpaddingright10px': 1, 'linkfavorschdisplayblockfontsize12pxcolor555': 1, 'pagepctopzindex1right1pxbottom3px': 1, 'headbnrpositionabsolutetop33pxright45px': 1, 'headbnr': 1, 'linkheadbnrdisplayblock': 1, 'boxsearchmargintop0': 1, 'tfkeywordmargintop11px': 1, 'listfavorschpaddingtop10px': 1, 'lipaddingright14px': 1, 'imgkeyboardbackgroundimageurlt1daumcdnnetdaumtopdecoimagestop2017imgkeyboard171229png': 1, 'btnkeypositionabsolutetop0right58pxwidth29pxheight42pxmargin1pxlineheight44pxbackgroundposition0': 1, 'btnkeybtnonbackgroundposition0': 1, '50px': 3, 'keyboardlayerpositionabsolutetop45pxleft382pxzindex10000': 1, 'keyboardlayer': 78, 'groupkeyboarddisplaynonepadding49px': 1, '16px': 5, '20pxwidth435pxheight166pxborder1px': 1, '888backgroundcolorfff': 4, 'groupkeyboardondisplayblock': 1, 'groupkeyboard': 47, 'titkeyboardpositionabsolutetop20pxleft20pxwidth24pxheight13pxbackgroundposition0': 1, '120px': 7, 'engbasic': 7, 'titkeyboardkeyboardlayer': 1, 'engshift': 7, 'titkeyboardbackgroundposition0': 1, '140px': 5, 'btncloseoverflowhiddenpositionabsolutetop19pxright20pxwidth13pxheight13pxbackgroundposition0': 1, '100px': 16, 'keyboardlineoverflowhiddenmargintop4px': 1, 'keyboard1ndoverflowhiddenmargin0': 1, 'keyboard2ndpaddingleft15px': 1, 'keyboard3ndpaddingleft30px': 1, 'btnkeyboardoverflowhiddenfloatleftwidth26pxheight30pxmarginright4pxtextaligncentertextindent9999px': 1, 'korbasic': 6, 'btnkeyboardbackgroundimageurlt1daumcdnnetdaumtopdecoimagestop2017imgkor171226png': 1, 'btnkeyboardhoverkeyboardlayer': 8, 'btnkeyboardactivebackgroundimageurlt1daumcdnnetdaumtopdecoimagestop2017imgkorhover171226png': 1, 'korshift': 6, 'btnkeyboardbackgroundimageurlt1daumcdnnetdaumtopdecoimagestop2017imgkorshift171229png': 1, 'btnkeyboardactivebackgroundimageurlt1daumcdnnetdaumtopdecoimagestop2017imgkorshifthover171229png': 1, 'btnkeyboardbackgroundimageurlt1daumcdnnetdaumtopdecoimagestop2017imgeng171226png': 1, 'btnkeyboardactivebackgroundimageurlt1daumcdnnetdaumtopdecoimagestop2017imgenghover180122png': 1, 'btnkeyboardbackgroundimageurlt1daumcdnnetdaumtopdecoimagestop2017imgengshift171226png': 1, 'btnkeyboardactivebackgroundimageurlt1daumcdnnetdaumtopdecoimagestop2017imgengshifthover171226png': 1, 'keyboard1backgroundposition30px': 1, 'keyboard2backgroundposition60px': 1, 'keyboard3backgroundposition90px': 1, 'keyboard4backgroundposition120px': 1, 'keyboard5backgroundposition150px': 1, 'keyboard6backgroundposition180px': 1, 'keyboard7backgroundposition210px': 1, 'keyboard8backgroundposition240px': 1, 'keyboard9backgroundposition270px': 1, 'keyboard10backgroundposition300px': 1, 'keyboard11backgroundposition330px': 1, 'keyboard12backgroundposition360px': 1, 'keyboard13backgroundposition15px': 1, '34px': 13, 'keyboard14backgroundposition45px': 1, 'keyboard15backgroundposition75px': 1, 'keyboard16backgroundposition105px': 1, 'keyboard17backgroundposition135px': 1, 'keyboard18backgroundposition165px': 1, 'keyboard19backgroundposition195px': 1, 'keyboard20backgroundposition225px': 1, 'keyboard21backgroundposition255px': 1, 'keyboard22backgroundposition285px': 1, 'keyboard23backgroundposition315px': 1, 'keyboard24backgroundposition345px': 1, 'keyboard25backgroundposition375px': 1, 'keyboard26backgroundposition30px': 1, '68px': 11, 'keyboard27backgroundposition60px': 1, 'keyboard28backgroundposition90px': 1, 'keyboard29backgroundposition120px': 1, 'keyboard30backgroundposition150px': 1, 'keyboard31backgroundposition180px': 1, 'keyboard32backgroundposition210px': 1, 'keyboard33backgroundposition240px': 1, 'keyboard34backgroundposition270px': 1, 'keyboard35backgroundposition300px': 1, 'keyboard36backgroundposition330px': 1, 'keyboard37backgroundposition75px': 1, '102px': 12, 'keyboard38backgroundposition105px': 1, 'keyboard39backgroundposition135px': 1, 'keyboard40backgroundposition165px': 1, 'keyboard41backgroundposition195px': 1, 'keyboard42backgroundposition225px': 1, 'keyboard43backgroundposition255px': 1, 'keyboard44backgroundposition285px': 1, 'keyboard45backgroundposition315px': 1, 'keyboard46backgroundposition345px': 1, 'keyboardspebkspwidth41pxbackgroundposition390px': 1, 'keyboardspeshiftwidth71pxbackgroundposition0': 1, 'keyboardspeshift2width56pxbackgroundposition375px': 1, 'keyboardspelangwidth86pxbackgroundposition0': 1, '136px': 3, 'keyboardspespacewidth251pxbackgroundposition90px': 1, 'keyboardspeenterwidth86pxbackgroundposition345px': 1, 'daumSuggestWrappositionrelativemarginright90pxclearboth': 1, 'suggestBoxpositionabsolutetop45pxleft0zindex9999width520pxpadding0backgroundnone': 1, 'baseBoxbordertop1px': 1, 'dcdcdcfontsize12pxlineheight17pxfontfamily굴림gulimsansserifbackgroundcolorfff': 1, 'baseBoxfontfamilyApple': 1, 'SD': 6, 'Gothic': 6, 'Neosansserif': 6, 'suggestBox': 96, 'listpadding7px': 1, '13pxborderleft1px': 1, 'dcdcdcborderright1px': 2, 'dcdcdccolor333backgroundcolorfff': 1, 'suggestBoxreverseType': 2, 'listpadding3px': 1, '7pxcolor333': 1, 'baseBox': 4, 'lioverflowhiddenheight26pxpadding0': 1, '16pxlineheight26pxtextalignleftcursorpointer': 1, 'li': 8, 'itemdisplayblockheight100': 1, 'itemhovertextdecorationnone': 1, 'list': 1, 'onbackgroundcolorf6f6f6': 1, 'strongfontweightnormalcolor0089ff': 1, 'lineoverflowhiddenheight1pxmargin7px': 1, '6pxpadding0fontsize1pxlineheight1pxbackgroundcolore5e5e5': 1, 'guidepadding15px': 1, '10pxcolor555': 1, 'footerpositionrelativeheight20pxpadding8px': 1, '12px': 10, '4px': 13, '7pxborder1px': 1, 'dcdcdcbordertop1px': 1, 'ecececfontsize11pxbackgroundcolorfbfbfbletterspacing1pxclearboth': 1, 'footerbordertopcolordcdcdcborderbottomcolorededed': 1, 'footer': 7, 'flfloatleft': 1, 'frfloatright': 1, 'btnclosepaddingleft12pxbackgroundposition0': 1, '939px': 1, 'bardisplaynonepadding0': 1, '2pxcolorddd': 1, 'fl': 1, 'barpadding0': 1, '2px': 12, 'offGuidedisplaynonepositionabsoluteright0bottom19pxwidth211pxheight27pxbackgroundurlsearch1daumcdnnetsearchstaticscommonpisuggestservicegif': 1, 'norepeattextindent999em': 1, 'offSuggestdisplaynone': 1, 'listpadding9px': 1, '11px': 3, 'lipadding0': 2, '17px': 2, 'acolor777': 1, 'answerborderleft1px': 1, 'dcdcdc': 1, 'answer': 1, 'spancursorpointer': 1, 'afontsize14pxcolor333fontfamily돋움dotumsansseriftextdecorationnone': 1, 'afontfamilyApple': 1, 'linedisplayblockoverflowhiddenclearboth': 1, 'blineborderbottom1px': 1, 'ededed': 1, 'suggestexactdisplayblockoverflowhiddenheight40pxpadding12px': 1, 'suggestexacthovertextdecorationnone': 1, 'eonbackgroundcolorf8f8f8textdecorationnone': 1, 'suggestexact': 56, 'txtexactoverflowhiddenfloatleftheight44pxmargintop0backgroundposition0': 1, 'txtunitfontsize14pxfontfamilyarialsansserif': 1, 'titmarginleft1pxfontweightnormalfontsize12pxlineheight18pxfontfamily굴림gulimsansserifcolor333': 1, 'contdisplayblock': 1, 'txtcontmarginright4pxfontweightboldfontsize14pxlineheight16pxfontfamily돋움dotumsansserifcolor333': 1, 'txtnum1fontsize18pxlineheight20pxfontfamilytahomasansserifcolor333': 1, 'txtnum2marginleft3pxfontsize12pxlineheight14pxfontfamily굴림gulimsansserifcolor333': 1, 'txtnum3fontsize20pxlineheight23pxfontfamilyarialsansserifcolor333': 1, 'txtnum4marginleft3pxfontsize12pxlineheight14pxfontfamily굴림gulimsansserifcolor333': 1, 'txtexact': 5, 'icosuggest2backgroundurlsearch1daumcdnnetsearchstaticscommonpiicoicosuggest20110721gif': 1, 'icocelsiusbackgroundnone': 1, 'icoarrowuppaddingleft11pxbackgroundposition0': 1, '58px': 1, 'icoarrowdownpaddingleft11pxbackgroundposition0': 1, '98px': 1, 'icoarrowequalpaddingleft11pxbackgroundposition0': 1, '75px': 1, 'txtbluecolor007aff': 1, 'txtblue2color007aff': 1, 'txtredcolore52d38': 1, 'txtred2colore52d38': 1, 'txttimefloatrightmargin25px': 1, '0fontsize11pxfontfamily돋움dotumsansserifcolora1a1a1': 1, 'icocelsiuswidth12pxheight13pxfontfamilyarialsansserifbackgroundpositionright': 1, '5px': 9, 'barfontsize14pxcolordedede': 1, 'wraptodayoverflowhiddenheight21pxpadding4px': 1, '10px': 2, '9pxlineheight21px': 1, 'wraptoday': 2, 'contfontsize14pxcolor333textdecorationnone': 1, 'contimportfontweightnormalcolorea570a': 1, 'titfontfamilyApple': 1, 'txtnum2fontfamilyApple': 1, 'txtnum4fontfamilyApple': 1, 'txttimefontfamilyApple': 1, 'icolottofloatleftwidth28pxheight28pxmargin6px': 1, '0borderradius20pxtextaligncenter': 1, 'icolotto': 1, 'txtnumdisplayinlineblockmargintop7pxfontsize14pxlineheight1fontfamilyarialsansserifcolorfffverticalaligntop': 1, 'num1backgroundcolorf6a800': 1, 'num10backgroundcolor4155cb': 1, 'num20backgroundcolorf64d61': 1, 'num30backgroundcolor585d6e': 1, 'num40backgroundcolorf6a800': 1, 'pluswidth8pxheight8pxmargin16px': 1, '8px': 10, '4pxbackgroundurlsearch1daumcdnnetsearchstaticscommonpiicoicosuggest20110721gif': 1, '40pxtextindent9999pxopacity05': 1, 'icosuggestpaddingleft59pxcolor555backgroundurlsearch1daumcdnnetsearchstaticscommonpiweathericoweathermpng': 1, 'icosuggest': 1, 'cont': 1, 'screenoutpositionstaticfontsize14pxfontfamilyarialsansseriftextindent0': 1, 'txtexactoverflowhiddenfloatleftheight44pxmargintop0': 1, 'icow00backgroundposition0': 1, '1620px': 1, 'icow01backgroundposition0': 2, 'night': 24, '60px': 18, 'icow02backgroundposition0': 2, '180px': 5, 'icow03backgroundposition0': 2, '240px': 3, '300px': 3, 'icow04backgroundposition0': 1, '360px': 2, 'icow05backgroundposition0': 2, '420px': 1, '480px': 2, 'icow06backgroundposition0': 2, '540px': 1, '600px': 1, 'icow07backgroundposition0': 1, '660px': 1, 'icow08backgroundposition0': 1, '720px': 1, 'icow09backgroundposition0': 1, '780px': 1, 'icow10backgroundposition0': 2, '840px': 1, '900px': 1, 'icow11backgroundposition0': 1, '960px': 1, 'icow12backgroundposition0': 1, '1020px': 1, 'icow13backgroundposition0': 2, '1080px': 1, '1140px': 1, 'icow14backgroundposition0': 1, '1200px': 1, 'icow15backgroundposition0': 1, '1260px': 1, 'icow16backgroundposition0': 2, '1320px': 1, '1380px': 1, 'icow17backgroundposition0': 1, '1440px': 1, 'icow18backgroundposition0': 1, '1500px': 1, 'icow19backgroundposition0': 1, '1560px': 1, 'daumSuggestWrapdisplaynone': 1, 'dserviceborderbottom1px': 1, 'dservice': 1, 'innerservicepositionrelativewidth990pxheight45pxmargin0': 1, 'menuservicefloatleftpositionrelativewidth660px': 1, 'menuservice': 1, 'linkmoreoverflowhiddenfloatleftwidth60pxheight25pxpadding10px': 1, '9pxlineheight20pxbackgroundposition0': 1, '8pxbackgroundcolortransparenttextaligncenter': 1, 'menuon': 2, 'linkmorebackgroundposition60px': 1, 'listmainsvcfloatleft': 1, 'listmainsvc': 16, 'lifloatleftheight45px': 1, 'txtpctopdisplayblockheight25pxpadding10px': 1, '0fontweightboldfontsize13pxlineheight25pxbackgroundcolortransparenttextaligncenter': 1, 'linkcafewidth30pxbackgroundposition0': 1, 'linkmailwidth36pxbackgroundposition30px': 1, 'linknewswidth37pxbackgroundposition66px': 1, 'linkmapwidth36pxbackgroundposition103px': 1, 'linkstockwidth37pxbackgroundposition139px': 1, 'linkshoppingwidth36pxbackgroundposition176px': 1, 'linkkakaotvwidth64pxbackgroundposition212px': 1, 'linkwebtoonwidth37pxbackgroundposition276px': 1, 'linkblogwidth48pxbackgroundposition313px': 1, 'linkbrunchwidth47pxbackgroundposition361px': 1, 'linkdicwidth36pxbackgroundposition408px': 1, 'linkgamewidth37pxbackgroundposition444px': 1, 'linkstarplaywidth59pxbackgroundposition481px': 1, 'linktogetherwidth59pxbackgroundposition540px': 1, 'servicelayerdisplaynonepositionabsolutetop45pxleft0width653pxborder1px': 1, 'servicelayerdisplayblock': 1, 'servicelayer': 21, 'layerbodyoverflowhiddenbackgroundurlt1daumcdnnetdaumtopdecoimagestop2017bglinegif': 1, 'repeaty': 1, 'collsvcfloatleftwidth109px': 1, 'sortserviceoverflowhiddenpadding0': 1, '15px': 5, 'sortservice': 8, 'dtmargin11px': 1, '4pxfontweightboldfontsize12px': 1, 'ddclearbothfontsize12pxlineheight22px': 1, 'titsplitfloatleftpaddingright9pxbackgroundposition100': 1, 'linksvccolor555': 1, 'linksvchovercolor118eff': 1, 'iconewdisplayinlineblockwidth11pxheight11pxmargin2px': 1, '2pxfontsize0lineheight0backgroundposition160px': 1, '80pxverticalalignmiddletextindent9999px': 1, 'sorttype2height146pxpaddingbottom0': 1, 'collsvcfstwidth108px': 1, 'collsvcfst': 1, 'sortservicepaddingleft14px': 1, 'layerfootoverflowhiddenheight32pxbordertop1px': 1, 'ecececbackgroundcolorfbfbfb': 5, 'layerfoot': 4, 'linktotalfloatleftpaddingright8pxmarginleft13pxfontsize11pxlineheight29pxcolor555backgroundposition100': 1, 'btnclosefloatrightpadding0': 1, '13pxmargin2pxfontsize11pxlineheight24pxcolor888': 1, 'sortservicepaddingbottom12px': 1, 'dtmargin14px': 1, 'titsplitbackgroundposition100': 1, '3px': 5, 'sorttype2paddingbottom0': 1, 'linktotalpaddingright10pxmarginleft14pxlineheight32pxbackgroundposition100': 1, 'btnclosepadding0': 1, '12pxlineheight28px': 1, 'todaybasefloatrightpositionrelativeheight45px': 1, 'todaybase': 5, 'compbasedisplayinlineblockverticalaligntop': 1, 'imgweatherbackgroundimageurlt1daumcdnnetdaumtopdecoimagestop2017imgweather170628pngbackgroundrepeatnorepeatfontsize0lineheight0textindent9999px': 1, 'txttemperfloatleftfontsize14pxfontfamilytahomaarialsansserifletterspacing0': 1, 'txttemperfontfamilyhelveticaarialsansserif': 1, 'infotodayfloatleftfontsize13px': 1, 'infotoday': 43, 'datetodayfloatleftheight24pxpaddingtop10pxlineheight20pxletterspacing0': 1, 'txtpartfloatleftmarginright5pxfontweightboldlineheight24px': 1, 'linkweatherfloatleftheight25pxmarginleft16pxpadding8px': 1, '12pxlineheight24pxtextalignright': 1, 'linkweatherhovercolor222textdecorationnone': 2, 'listweatherfloatleftoverflowhiddenheight25px': 1, 'listweather': 1, 'lioverflowhiddenheight25px': 1, 'datetodaylineheight26px': 1, 'txtpartlineheight30px': 1, 'linkweatherlineheight26px': 1, 'linkweather': 5, 'icomoremargintop10px': 1, 'icowsbackgroundimageurlt1daumcdnnetdaumtopdecoimagestop2017icows1801023pngbackgroundrepeatnorepeatfontsize0lineheight0textindent9999px': 1, 'icowsfloatleftwidth26pxheight26pxmargin1px': 1, '0verticalaligntop': 2, 'icowm01backgroundposition0': 2, 'icowm01backgroundposition30px': 1, 'icowm02backgroundposition60px': 1, 'icowm02backgroundposition90px': 1, 'icowm03backgroundposition120px': 1, 'icowm03backgroundposition150px': 1, 'icowm04backgroundposition180px': 1, 'icowm05backgroundposition210px': 1, 'icowm05backgroundposition240px': 1, 'icowm06backgroundposition0': 2, 'icowm06backgroundposition30px': 1, 'icowm07backgroundposition60px': 1, 'icowm08backgroundposition90px': 1, 'icowm09backgroundposition120px': 1, 'icowm10backgroundposition150px': 1, 'icowm10backgroundposition180px': 1, 'icowm11backgroundposition210px': 1, 'icowm12backgroundposition240px': 1, 'icowm13backgroundposition0': 1, 'icowm13backgroundposition30px': 1, 'icowm14backgroundposition60px': 1, 'icowm15backgroundposition90px': 1, 'icowm16backgroundposition120px': 1, 'icowm16backgroundposition150px': 1, 'icowm17backgroundposition180px': 1, 'icowm18backgroundposition210px': 1, 'icowm19backgroundposition240px': 1, 'txttempermargintop1px': 2, 'icodegreefloatleftwidth17pxheight15pxmargin7px': 1, '0fontsize12pxlineheight17pxbackgroundposition210px': 1, '270pxbackgroundcolortransparenttextaligncentertextindent0': 1, 'icomorewidth13pxheight9pxmargin9px': 1, '1pxbackgroundposition138px': 1, '292px': 2, 'todayon': 2, 'icomorebackgroundposition138px': 1, '304px': 1, 'todaylayerdisplaynonepositionabsolutetop45pxright0width298pxborder1px': 1, 'todaylayer': 78, 'icowmbackgroundimageurlt1daumcdnnetdaumtopdecoimagestop2017icowm1801023pngbackgroundrepeatnorepeatfontsize0lineheight0textindent9999px': 1, 'layerbodyoverflowhidden': 1, 'layerbodyafterpositionabsolutetop0right0width42pxheight42pxcontent': 1, 'weatherpartpositionrelativeheight135px': 1, 'btnlocatepositionabsolutetop17pxleft18pxwidth21pxheight21pxfontsize0lineheight0backgroundposition176px': 1, '246pxtextindent9999px': 1, 'btnlocateonbackgroundposition176px': 1, '286px': 1, 'linkweatherdisplayblockoverflowhiddenheight135px': 1, 'txtplacedisplayblockheight20pxmargin17px': 1, '22pxfontweightboldfontsize13pxlineheight19px': 1, 'txtplace': 1, 'txtlocaldisplayinlineblock': 1, 'icowmfloatleftwidth90pxheight90pxmarginleft22px': 1, 'icowm01backgroundposition100px': 1, 'icowm02backgroundposition200px': 1, 'icowm02backgroundposition300px': 1, 'icowm03backgroundposition400px': 1, 'icowm03backgroundposition500px': 1, 'icowm04backgroundposition600px': 1, 'icowm05backgroundposition700px': 1, 'icowm05backgroundposition800px': 1, 'icowm06backgroundposition100px': 1, 'icowm07backgroundposition200px': 1, 'icowm08backgroundposition300px': 1, 'icowm09backgroundposition400px': 1, 'icowm10backgroundposition500px': 1, 'icowm10backgroundposition600px': 1, 'icowm11backgroundposition700px': 1, 'icowm12backgroundposition800px': 1, 'icowm13backgroundposition': 2, '200px': 18, 'icowm14backgroundposition200px': 1, 'icowm15backgroundposition300px': 1, 'icowm16backgroundposition400px': 1, 'icowm16backgroundposition500px': 1, 'icowm17backgroundposition600px': 1, 'icowm18backgroundposition700px': 1, 'icowm19backgroundposition800px': 1, 'infotemperdisplayblockoverflowhiddenheight32pxmargin19px': 1, '130pxfontfamilytahomaarialsansserif': 1, 'infotemper': 13, 'imgweatherfloatleftwidth22pxheight32pxmargin0': 1, 'num0backgroundposition260px': 1, 'num1backgroundposition260px': 1, '40px': 8, 'num2backgroundposition260px': 1, 'num3backgroundposition260px': 1, 'num4backgroundposition260px': 1, '160px': 6, 'num5backgroundposition260px': 1, 'num6backgroundposition260px': 1, 'num7backgroundposition260px': 1, '280px': 3, 'num8backgroundposition260px': 1, '320px': 1, 'num9backgroundposition260px': 1, 'icominuswidth22pxheight32pxbackgroundposition260px': 1, '400px': 1, 'icodegreewidth39pxheight32pxbackgroundposition210px': 1, 'statedescdisplayblockoverflowhiddenmargin7px': 1, '130pxlineheight16px': 1, 'statedesc': 4, 'icodegreefloatleftwidth14pxheight12pxmargin3px': 1, '0backgroundposition240px': 1, '208px': 1, 'txtdescfloatleftmarginright2px': 1, 'layerfootoverflowhiddenbordertop1px': 1, 'linkstatefloatleftoverflowhiddenwidth50height39pxcolor101010textdecorationnone': 1, 'infowmoverflowhiddenheight22pxpaddingtop8pxlineheight21px': 1, 'infowm': 5, 'dtfloatleftpaddingright9px': 1, 'ddfloatleft': 2, 'imgweatherdisplayinlineblockverticalaligntop': 1, 'infodustpaddingleft18px': 1, 'icodustwidth20pxheight20pxmargintop3pxmarginright6pxbackgroundposition140px': 1, 'icoairwidth21pxheight21pxmargin1px': 1, '7px': 7, '2pxbackgroundposition140px': 1, '264px': 1, 'stategoodcolor0078ff': 1, 'statenormalcolor27aa1d': 1, 'statebadcolorfecc3d': 1, 'stateworstcolore30000': 1, 'btnclosepositionabsolutetop18pxright18pxwidth16pxheight16pxbackgroundposition0': 2, 'txtplacemargintop20pxlineheight18px': 1, 'infotempermargintop15px': 1, 'statedescmargintop10px': 1, 'icodegreemargintop1px': 1, 'infowmpaddingtop11px': 1, 'icodustmargintop0': 1, 'icoairmargintop2px': 1, 'todaylayerdisplayblock': 1, 'adverttmpfloatleftpositionrelativewidth655pxheight120pxmarginright35px': 1, 'adverttmp': 1, 'bglinepositionabsolutetop0left0zindex1width653pxheight118pxborder1px': 1, 'advertstationdisplayinlineblockpositionrelativewidth300pxheight150pxmargintop15pxfontsize0lineheight0verticalaligntop': 1, 'advertstation': 1, 'bglinepositionabsolutetop0left0zindex1width298pxheight148pxborder1px': 1, 'boxshoppingdisplayinlineblockpositionrelativewidth300pxheight1177pxmargintop15pxverticalaligntop': 1, 'boxshopping': 2, 'bgline1positionabsolutetop0left0zindex1width298pxheight775pxborder1px': 1, 'bgline2positionabsolutetop792pxleft0zindex1width298pxheight383pxborder1px': 1, 'advertsvcbnrmargintop15px': 1, 'advertsvcbnr': 2, 'linkbnrdisplayblockpositionrelativeheight60px': 1, 'framegwidth298pxheight58px': 1, 'advertbnrmargintop15px': 1, 'advertbnr': 2, 'linkbnrdisplayblockoverflowhiddenpositionrelativeheight143px': 1, 'framegwidth298pxheight141px': 1, 'wraptiercontpositionrelativezindex99width990pxmargin0': 1, 'logintmpfloatrightpositionrelativezindex0width300pxheight120pxletterspacing1px': 1, 'loginmyzindex10backgroundurlt1daumcdnnetdaumtopdecoimagestop2017bgpctop170328png': 1, 'loginmy': 22, 'wrapmywidth285pxheight45pxpadding15px': 1, 'infomyfloatleftpadding1px': 1, 'relmyfloatrightpaddingright15px': 1, 'nameuserfloatleftmarginright4pxfontweightbold': 1, 'linkmyinfofloatleftfontsize11pxmargin2px': 1, '0lineheight14pxcolor555textdecorationunderline': 1, 'linkssopositionabsolutetop41pxleft15pxwidth68pxheight22pxfontsize11pxlineheight22pxbackgroundposition100px': 1, '235pxwhitespacenowrap': 2, 'linkssoingbackgroundposition100px': 1, '205px': 1, 'linkssohelppositionabsolutetop41pxleft85pxwidth6pxheight22pxpadding0': 1, '6pxfontsize12pxlineheight22pxbackgroundposition180px': 1, 'layerssopositionabsolutetop77pxleft0zindex11width298pxheight82pxborder1px': 1, '118effbackgroundcolorfff': 1, 'layersso': 4, 'boxhelpdisplaytablewidth100height100': 1, 'txthelpdisplaytablecellpadding0': 1, '2pxfontsize12pxlineheight16pxcolor555verticalalignmiddle': 1, 'btnclosepositionabsolutetop5pxright5pxwidth21pxheight21pxpadding0': 1, '6pxbackgroundposition210px': 1, '235px': 1, 'linkempathyfloatleftmargin5px': 1, '0fontsize11pxlineheight14pxcolor5b6473': 1, 'btnlogoutfloatleftwidth56pxheight24pxfontsize11pxlineheight24pxbackgroundposition180px': 1, '30pxbackgroundcolortransparent': 1, 'listbasisoverflowhiddenpositionabsolutetop43pxright9pxheight30pxletterspacing012em': 1, 'listbasis': 6, 'lifloatleftpaddingright8pxlineheight15px': 1, 'linkbasisfloatleftfontsize12pxcolor555': 1, 'numbasismarginleft3pxcolor118eff': 1, 'nummsgwidth30px': 1, 'linknumfontweightboldcolor118eff': 1, 'mymileage': 1, 'linkbasismarginright8px': 1, 'wrapmysvcpositionrelativezindex10width300px': 1, 'mysvclistpositionrelativewidth300pxheight43px': 1, 'listmysvcdisplayinlineblockpositionrelativewidth300pxheight43pxverticalaligntopletterspacing1px': 1, 'listmysvc': 13, 'lipositionrelativefloatleftwidth100pxheight43px': 1, 'linkmysvcdisplayblockoverflowhiddenheight31pxpaddingtop12pxfontsize12pxlineheight18pxtextaligncentercolor555': 1, 'linkmysvchovertextdecorationnone': 1, 'cafeg': 5, 'linkmysvcheight30pxpaddingtop13pxlineheight16px': 1, 'txtmysvcdisplayinlineblockheight26pxcolor555verticalaligntop': 1, 'txtmysvcpaddingleft24pxbackgroundposition0': 1, 'stockg': 1, 'txtmysvcpaddingleft27pxbackgroundposition0': 1, '109px': 1, 'blogg': 1, 'txtmysvcpaddingleft29pxbackgroundposition0': 1, '139px': 1, 'iconewdisplaynonewidth11pxheight11pxmargin5px': 1, '4pxbackgroundposition160px': 1, '80pxtextindent9999pxverticalaligntop': 1, 'newg': 1, 'iconewdisplayinlineblock': 1, 'iconewmargintop4px': 2, 'mycafeonbackgroundurlt1daumcdnnetdaumtopdecoimagestop2017bgpctop170328png': 1, '310px': 15, 'mystockonbackgroundurlt1daumcdnnetdaumtopdecoimagestop2017bgpctop170328png': 1, 'myblogonbackgroundurlt1daumcdnnetdaumtopdecoimagestop2017bgpctop170328png': 1, 'layermycontpositionabsolutetop120pxleft0width300pxheight353pxbackgroundposition0': 1, '130px': 11, 'layermycont': 2, 'btnclosepositionabsolutetop320pxright0width46pxheight32pxpadding3px': 1, '4pxfontsize11pxlineheight18pxcolor888': 1, 'txthelppaddingtop2pxpaddingbottom0': 1, 'logintmpletterspacing0': 1, 'infomypaddingtop4px': 1, 'nameusermarginright7px': 1, 'linkprivacymargintop0': 1, 'listbasistop45pxright6pxletterspacing0': 1, 'lipaddingright9px': 1, 'linkmysvclineheight21px': 1, 'linkmysvclineheight20px': 1, 'iconewmargintop3px': 1, 'btnclosepaddingtop5px': 1, 'panelblocpositionrelativepaddingtop61px': 1, 'tittabcontpositionabsolutetop15pxfontsize16px': 1, 'tittabcont': 1, 'linktitdisplayblockheight36pxlineheight36pxbackgroundcolortransparenttextaligncenter': 1, 'wraptabcontdisplaynonewidth655px': 1, 'icoviewoverflowhiddenpositionabsoluteright8pxbottom8pxwidth23pxheight23pxbackgroundposition40px': 1, '0textindent9999pxcursorpointer': 3, 'icovideooverflowhiddenpositionabsoluteright8pxbottom8pxwidth23pxheight23pxbackgroundposition70px': 1, 'icoliveoverflowhiddenpositionabsoluteright8pxbottom8pxwidth23pxheight23pxbackgroundposition130px': 1, 'colorg1colore30000': 1, 'colorg2color118eff': 1, 'icolabeloverflowhiddenpositionabsolutetop15pxleft15pxheight22pxpadding0': 1, '8pxfontsize11pxlineheight19pxcolorfffbackgroundcolor118eff': 1, 'icolabel2overflowhiddenpositionabsolutetop0left0height20pxpadding0': 1, '7pxfontsize11pxlineheight17pxcolorfffbackgroundcolorrgba00006filterprogidDXImageTransformMicrosoftgradientstartColorstr99000000endColorstr99000000GradientType0': 1, 'icolabel3overflowhiddenpositionabsolutetop15pxleft15pxheight22pxpadding0': 1, '8pxfontsize11pxlineheight19pxcolorfffbackgroundcolore8493d': 1, 'icolabelosmac': 1, 'icolabel3lineheight23px': 1, 'icolabel2lineheight21px': 1, 'taglivewidth30pxheight15pxbackgroundposition120px': 1, '70px': 3, 'tagnewwidth31pxheight15pxbackgroundposition120px': 1, '90px': 4, 'tageventwidth40pxheight15pxbackgroundposition120px': 1, '110px': 4, 'tagissuewidth37pxheight15pxbackgroundposition120px': 1, 'taghotwidth28pxheight15pxbackgroundposition208px': 1, '260px': 3, 'taglive2width33pxheight17pxbackgroundposition120px': 1, 'tagnew2width34pxheight17pxbackgroundposition120px': 1, 'tagevent2width45pxheight17pxbackgroundposition160px': 1, 'tagissue2width41pxheight17pxbackgroundposition160px': 1, 'icoadpositionabsoluteright10pxbottom10pxwidth25pxheight16pxfontsize0lineheight0backgroundposition0': 1, '40pxtextindent9999px': 1, 'pagepctoppositionabsolutewidthautoheight16px': 1, 'pagepctop': 13, 'btnpagefloatleftwidth16pxheight16pxlineheight16pxbackgroundcolortransparentbackgroundposition210px': 1, 'btnnextwidth15pxbackgroundposition226px': 2, 'infopagefloatleftpadding2px': 1, '0fontsize12pxlineheight16pxcolor555fontfamilytahomaarialsansserif': 1, 'infopage': 1, 'txtslashpadding0': 1, 'infopagelineheight16pxfontfamilyhelveticaarialsansserif': 1, 'pagebtypetop20pxright0height26px': 1, 'pagebtype': 4, 'btnpagewidth26pxheight26pxlineheight26pxbackgroundposition110px': 1, '170pxtextindent10px': 1, 'btnnextwidth25pxbackgroundposition136px': 1, '170px': 4, 'infopagepaddingtop1pxpaddingright8pxfontsize14pxlineheight22px': 1, 'infopagelineheight24px': 1, 'pagetabcontpositionabsolutezindex1top16pxleft30pxcursorpointer': 1, 'pagetabcont': 2, 'btnpageoverflowhiddenfloatleftwidth7pxheight7pxmargin9px': 1, '0fontsize10pxlineheight7pxbackgroundposition100px': 1, '170pxbackgroundcolortransparent': 1, 'onpositionrelativebackgroundposition100px': 1, '177px': 1, 'listthumboverflowhidden': 1, 'listthumb': 12, 'lifloatleftwidth154pxheight146pxmarginleft13px': 1, 'fstmarginleft0': 2, 'linkitemdisplayblock': 1, 'thumbgwidth154pxheight94px': 2, 'framegwidth152pxheight92px': 3, 'contitempadding4px': 2, 'tititemdisplayblockoverflowhiddenmaxheight36pxpaddingright12pxfontweightnormallineheight18pxwordbreakkeepallwordwrapbreakword': 2, 'contitempaddingtop6px': 3, 'tititempaddingright14px': 3, 'listtxtfloatleft': 1, 'listtxt': 13, 'lioverflowhiddenheight20pxpadding4px': 1, '2pxwhitespacenowraptextoverflowellipsis': 1, 'icopctopdisplayinlineblockmargin3px': 1, '0textindent9999pxverticalaligntop': 4, 'splittxtpaddingleft10pxmarginleft10pxcolor888backgroundurlt1daumcdnnetdaumtopdecoimagestop2017icopctopvert170724png': 1, '46px': 1, 'splittxthovercolor118eff': 1, 'partmidpaddingtop18pxlineheight16px': 1, 'splitpartdisplayinlineblockoverflowhiddenverticalaligntop': 1, 'splitpart': 3, 'linktxtmarginright3px': 1, 'splitfstfloatleftoverflowhiddenmaxwidth222pxtextoverflowellipsis': 1, 'lilineheight20px': 1, 'splittxtbackgroundposition0': 1, '49px': 1, 'partmidlineheight22px': 1, 'splitpartletterspacing003em': 1, 'linktxtmarginright7px': 1, 'liststxtmargintop7px': 1, 'liststxt': 2, 'lioverflowhiddenpaddingbottom4pxlineheight19pxwhitespacenowraptextoverflowellipsis': 1, 'txtmarkfontsize12pxcolor888': 2, 'linksectordisplayblockpositionrelativezindex0width321pxheight131px': 1, 'linksector': 11, 'framegwidth319pxheight129px': 1, 'contitempositionabsoluteright0left0bottom0width100height100pxbackgroundurlt1daumcdnnetdaumtopdecoimagestop2017bgplate2png': 1, '100': 7, 'tititemoverflowhiddenpositionabsoluteleft0bottom13pxright0padding0': 1, '15pxfontweightnormalfontsize14pxlineheight20pxcolorfff': 1, 'icolabel': 1, 'icolabel2': 1, 'icolabel3': 1, 'icopctopzindex1': 1, 'tititembottom10px': 2, 'listranking': 24, 'liheight20pxpaddingbottom5px': 1, 'linkrankingdisplayblockoverflowhiddenlineheight18px': 1, 'txtrankingoverflowhiddenfloatleftwidth288pxwhitespacenowraptextoverflowellipsis': 1, 'linkrankinghover': 2, 'txtrankingtextdecorationunderline': 1, 'numpctopfloatleftwidth16pxheight16pxmargin3px': 2, 'num1backgroundposition0': 3, 'num2backgroundposition0': 3, 'num3backgroundposition0': 3, 'num4backgroundposition0': 2, 'num5backgroundposition0': 2, 'num6backgroundposition0': 1, 'num7backgroundposition0': 1, 'num8backgroundposition0': 1, 'num9backgroundposition0': 1, 'num10backgroundposition0': 1, 'numpctopmargintop0': 3, 'lilineheight22px': 1, 'boxstoryoverflowhiddenborder1px': 1, 'ecececbackgroundcolorfbfbfc': 2, 'boxstory': 5, 'titsubjectoverflowhiddenmargintop7pxfontsize13px': 1, 'titsubject': 2, 'linktitfloatleftpaddingright9pxbackgroundposition100': 1, 'titsubjectmargintop10px': 1, 'linktitbackgroundposition100': 1, 'liststxtmargintop10px': 1, 'sectionmediapositionrelative': 1, 'sectionmedia': 5, 'pagebtypetop15px': 1, 'panelblocpadding57px': 1, '25px': 1, 'tittabconttop11pxleft0': 1, 'panelbloc': 48, 'titnewsleft5px': 1, 'titentertainleft55px': 1, 'titsportsleft94px': 1, 'titmovieleft147px': 1, 'titautoleft186px': 1, 'titrealestateleft240px': 1, 'titnews': 2, 'linktitwidth36pxbackgroundposition0': 2, 'titentertain': 2, 'linktitwidth36pxbackgroundposition36px': 1, 'titsports': 2, 'linktitwidth50pxbackgroundposition72px': 1, 'titmovie': 2, 'linktitwidth36pxbackgroundposition122px': 1, 'titauto': 2, 'linktitwidth51pxbackgroundposition158px': 1, 'titrealestate': 2, 'linktitwidth48pxbackgroundposition209px': 1, 'newson': 2, 'linktitbackgroundposition0': 3, '166px': 14, 'entertainon': 2, 'linktitbackgroundposition36px': 2, 'sportson': 2, 'linktitbackgroundposition72px': 1, 'movieon': 2, 'linktitbackgroundposition122px': 1, 'autoon': 2, 'linktitbackgroundposition158px': 1, 'realestateon': 2, 'linktitbackgroundposition209px': 1, 'wrapnews': 8, 'wrapentertain': 1, 'wrapsports': 1, 'wrapmovie': 1, 'wrapauto': 1, 'wraprealestatedisplayblock': 1, 'infospecialoverflowhidden': 1, 'infospecial': 5, 'icopctopfloatleftmargin3px': 1, '0textindent9999px': 3, 'linkspecialdisplayblockoverflowhiddenheight20pxfontweightboldfontsize13pxlineheight18pxcolor222letterspacing1px': 1, 'linkspecialhovercolor118eff': 1, 'icopctopmarginright6px': 1, 'linkspeciallineheight24pxletterspacing0': 1, 'infospecialpositionabsolutetop17pxright99pxmaxwidth250px': 1, 'wraptabcontheight480px': 1, 'groupnewsdisplayinlineblockheight292pxverticalaligntop': 1, 'newsprimeheight438px': 1, 'newsprime': 2, 'listtxtwidth316pxpaddingleft4px': 1, 'tititemwordbreaknormal': 1, 'boxsectoroverflowhiddenfloatleftwidth321pxmarginright13px': 1, 'boxsector': 4, 'listthumbwidth334pxmarginleft13px': 1, 'linksectormarginbottom15px': 1, 'newsflowoverflowhiddenpositionrelativeheight40pxborder1px': 1, 'ecececlineheight35pxbackgroundcolorfbfbfb': 1, 'unithomefloatleftpaddingleft12px': 1, 'unithome': 7, 'tithomefloatleftmarginright10px': 1, 'tithome': 2, 'linkhomepaddingright7pxbackgroundposition100': 1, '6px': 4, 'listhomefloatleft': 1, 'listhome': 2, 'lifloatleftpadding0': 1, 'linkhomecolor555': 1, 'linkhomehovercolor118eff': 1, 'unitlivefloatleftpaddingleft25px': 1, 'unitlive': 3, 'icopctopfloatleftmargin12px': 1, 'linklivemarginright5pxcolor555': 1, 'linklivehovercolor118eff': 1, 'newsflow': 1, 'linkhashpadding0': 1, '7pxcolor118eff': 1, 'newsflowlineheight40px': 1, 'linkhomepaddingright9pxbackgroundposition100': 1, 'boxissuefloatleftpositionrelativemarginright13px': 1, 'boxissue': 8, 'linkissuedisplayblockoverflowhiddenpositionrelativewidth321pxheight277px': 1, 'covergpositionabsoluteleft0bottom0width100height132pxbackgroundurlt1daumcdnnetdaumtopdecoimagestop2017bgplate8png': 1, 'framegwidth319pxheight275px': 1, 'icolabelheight27pxfontsize14pxlineheight25pxbackgroundcolorrgba171422559': 1, 'contitemoverflowhiddenpositionabsoluteright0bottom14pxleft0': 1, 'contitem': 5, 'tititemdisplayblockoverflowhiddenmaxheight44pxpadding0': 1, '16pxfontweightnormalfontsize16pxlineheight22pxcolorfff': 1, 'icolabellineheight29px': 1, 'contitembottom10px': 1, 'specialissue': 7, 'titissueoverflowhiddenpositionabsolutetop25pxleft21pxmaxheight60pxpaddingright20pxfontsize22pxcolorfff': 1, 'contitembottom12px': 1, 'listitempadding0': 1, 'listitem': 4, 'lioverflowhiddenmargintop3pxfontsize14px': 1, 'fstfontsize16pxlineheight26px': 1, 'linkitemdisplayblockoverflowhiddencolorfffwhitespacenowraptextoverflowellipsis': 1, 'fstlineheight23px': 1, 'newsprimefloatleftwidth501pxheight438px': 1, 'newsflowclearboth': 1, 'boxsectorwidth154px': 1, 'listthumbwidthautomarginleft0': 1, 'lifloatnonemarginleft0': 1, 'linksectorwidth154pxheight277pxmarginbottom0': 1, 'framegwidth152pxheight275px': 1, 'rankingnewsoverflowhiddenpositionrelativeheight148pxpadding0': 1, '148px': 1, 'ranknewstitpositionabsolutetop3pxleft0width148px': 1, 'ranknewstit': 2, 'titrankingfloatleftlineheight17pxcolor118eff': 1, 'linktitcolor118eff': 1, 'helppartdisplayinlinefloatleftmargin3px': 1, 'helppart': 1, 'linkhelpdisplayblockwidth31pxheight15pxfontsize11pxbackgroundcolortransparentbackgroundposition0': 1, '265px': 2, 'helplayeroverflowhiddenpositionabsolutetop27pxleft0width126pxheight48pxborder1px': 1, '888backgroundcolorfbfbfb': 1, 'helplayer': 2, 'txthelppadding8px': 1, '13px': 8, '13pxfontsize11pxlineheight15pxcolor888': 1, 'btnclosepositionabsolutetop8pxright8pxwidth16pxheight16pxbackgroundposition0': 1, 'rankingnews': 2, 'listrankingmargintop3px': 1, 'tabrankingpositionabsolutetop30pxleft0width64px': 1, 'tabranking': 6, 'limarginbottom3px': 2, 'linktabdisplayinlineblockoverflowhiddenfontweightboldlineheight16pxcolor888': 1, 'on': 12, 'linktabcolor222textdecorationunderline': 1, 'icopctopfloatleftwidth6pxheight6pxmargin6px': 1, '0backgroundposition100px': 1, '190px': 1, 'contrankingdisplaynoneoverflowhidden': 1, 'contrankingondisplayblock': 1, 'helppartmargintop0': 1, 'helplayertop25px': 1, 'ranknewstittop6px': 1, 'listrankingmargintop5px': 1, 'tabrankingtop33px': 1, 'limarginbottom1px': 1, 'icopctopmargintop4px': 1, 'castsportspositionrelativewidth321pxmarginbottom15px': 1, 'castsports': 8, 'headcastheight35pxborder1px': 1, 'titcastmargin6px': 1, '11pxfontsize13px': 1, 'pagepctoptop11pxright14pxbottomauto': 1, 'btnpagewidth16pxheight16pxlineheight16pxbackgroundposition210px': 1, 'linkmorepositionabsolutetop9pxright13pxpaddingright7pxfontsize11pxcolor888backgroundposition100': 1, 'listrelayborder1px': 1, 'ecececbordertop0': 1, 'listrelay': 33, 'lioverflowhidden': 1, 'linkrelayhovercolor222textdecorationnone': 1, 'txtteamoverflowhiddenfontsize12pxlineheight26pxwhitespacenowraptextoverflowellipsis': 1, 'txttimefloatleftfontsize11pxfontfamilytahomaarialsansserifletterspacing0': 1, 'txtleaguefloatleftpaddingleft3pxfontsize11pxcolor888': 1, 'txtscore': 13, 'innerscoredisplayinlineblockverticalaligntop': 1, 'numpctopfloatleftwidth11pxheight16pxbackgroundcolortransparent': 1, 'num0backgroundposition60px': 1, 'num1backgroundposition60px': 1, 'num2backgroundposition60px': 1, 'num3backgroundposition60px': 1, 'num4backgroundposition60px': 1, 'num5backgroundposition60px': 1, 'num6backgroundposition60px': 1, 'num7backgroundposition60px': 1, 'num8backgroundposition60px': 1, 'num9backgroundposition60px': 1, 'numnonebackgroundposition60px': 1, 'tagcastwidth56pxheight15pxfontsize11pxbackgroundcolortransparenttextaligncenter': 1, 'cast1backgroundposition0': 1, 'cast2backgroundposition0': 1, 'cast3backgroundposition0': 1, 'cast4backgroundposition0': 1, 'cast5backgroundposition0': 1, '150px': 5, 'cast6backgroundposition60px': 1, 'cast7backgroundposition60px': 1, 'cast8backgroundposition60px': 1, 'cast9backgroundposition60px': 1, 'titcastmargin9px': 1, 'linkmoretop11pxbackgroundposition100': 1, 'txttimefontfamilyhelveticaarialsansserif': 1, 'relaygeneralheight93px': 1, 'relaygeneral': 9, 'linkrelayoverflowhiddenfloatleftpositionrelativewidth147pxheight84pxpadding9px': 1, '11pxborderleft1px': 1, 'f5f5f5': 2, 'linkrelayfstwidth146pxpaddingleft12pxborderleft0': 1, 'eventteamoverflowhiddenpositionabsoluteleft11pxtop57pxright0height25px': 1, 'eventteamfstleft11pxtop30px': 1, 'eventteam': 6, 'imgthumbfloatleft': 1, 'txtteamfloatleftwidth69pxlineheight22pxmargin0': 1, 'txtscorefloatleftwidth33pxmargintop5pxtextalignright': 1, 'tagcastfloatrightmargin1px': 1, 'relayspecial': 14, 'linkrelaydisplayblockoverflowhiddenpositionrelativeheight47pxbordertop1px': 1, 'linkrelayfstbordertop0': 1, 'eventteamoverflowhiddenpositionabsoluteleft159pxtop0width52pxheight47pxpaddingleft107px': 1, 'imgthumbpositionabsolutetop10pxright53px': 1, 'txtteamfloatleftwidth45pxmargin8px': 1, 'txtscorepositionabsolutetop15pxleft38pxwidth33pxtextaligncenter': 1, 'eventteamfstleft0width53pxpadding0': 1, '106px': 1, 'eventteamfst': 3, 'txtscoreleft89px': 1, 'imgthumbleft53pxrightauto': 1, 'txtteamtextalignright': 1, 'txttimedisplayblockfloatnonemargintop3pxtextaligncenter': 1, 'tagcastdisplayblockmargin2px': 1, 'linkviewwidth158pxheight66pxpadding27px': 1, '0fontsize12pxcolor888textaligncenter': 1, 'linkviewhovercolor888textdecorationnone': 1, 'linkview': 1, 'txtviewdisplayblockcolor118efftextdecorationunderline': 1, 'txtteamlineheight27px': 1, 'txtteammargintop12px': 1, 'txttimemargintop5px': 1, 'linkviewheight63pxpaddingtop30px': 1, 'boxspecialoverflowhiddenpositionrelativezindex0width641pxheight93pxmarginbottom15pxpadding36px': 1, '12pxborder1px': 1, 'boxspecial': 14, 'titspecialpositionabsolutetop7pxleft12pxfontsize13px': 1, 'linkspecialmarginright3px': 1, 'linkspecial2color888': 1, 'packslideoverflowhidden': 1, 'pagepctoptop8pxright12pxheight19px': 1, 'btnpagewidth19pxheight19pxlineheight19pxbackgroundposition40px': 1, 'btnnextwidth18pxbackgroundposition59px': 1, 'infopagecolor888': 1, 'numindexfontweightnormal': 1, 'linkbannerfloatleftpositionrelativewidth308pxheight80pxmarginleft5px': 1, 'linkbanner': 1, 'framegwidth306pxheight78px': 1, 'bannerwidewidth419pxheight80pxmarginleft11px': 1, 'bannerwide': 1, 'framegwidth417pxheight78px': 1, 'listspecialfloatleft': 1, 'listspecial': 8, 'lifloatleft': 2, 'linkthumbfloatleftpositionrelative': 1, 'linkthumb': 27, 'framegwidth54pxheight78px': 1, 'numgpositionabsolutetop0left0width16pxheight16pxfontsize11pxlineheight16pxcolorffffontfamilytahomaarialsansseriftextaligncenter': 1, 'continfooverflowhiddenwordbreakkeepall': 1, 'titinfodisplayblockoverflowhiddenmaxheight33pxfontweightnormalfontsize13pxlineheight17pxwordbreakbreakall': 1, 'txtinfodisplayblockoverflowhiddenfontsize12pxlineheight16pxcolor888whitespacenowraptextoverflowellipsis': 1, 'listmovie1': 9, 'liwidth146pxpaddingright12px': 2, 'numgbackgroundposition20px': 2, 'numpointbackgroundposition0': 2, 'continfopositionrelativepadding36px': 1, '9px': 2, 'titinfopositionabsolutetop0left9px': 1, 'txtinfofloatleftwidth100letterspacing0': 1, 'gradestardisplayblockoverflowhiddenpositionrelativewidth62pxheight12pxbackgroundposition40px': 1, 'innerstarpositionabsolutetop0left0widthautoheight12pxfontsize0lineheight0backgroundposition40px': 1, '50pxtextindent9999px': 1, 'listmovie2': 6, 'continfopadding0': 1, 'titinfomargin2px': 1, 'txtinfomaxheight31pxwhitespacenormal': 1, 'listmovie3': 10, 'limarginleft10px': 1, 'lifstmarginleft0': 2, 'linkthumbwidth203pxheight80px': 1, 'framegwidth201pxheight78px': 1, 'icoplaypositionabsoluteright10pxbottom10pxwidth22pxheight22pxfontsize0lineheight0backgroundposition100px': 1, 'continfopositionabsolutetop38pxleft0width152pxpadding0': 1, '10pxcolorfff': 1, 'txtinfocolorfff': 1, 'titinfodisplayinline': 1, 'txtruntimedisplayblockoverflowhiddenfontsize11pxlineheight13pxfontfamilytahomaarialsansserifwhitespacenowraptextoverflowellipsisletterspacing0': 1, 'listauto': 8, 'liwidth199pxpaddingleft10pxborderleft1px': 1, 'lifstpaddingleft0borderleft0': 1, 'linkthumbwidth120pxheight80px': 1, 'continfopadding13px': 1, 'titinfomarginbottom2px': 1, 'listrealestate': 8, 'liwidth203pxmarginleft8px': 1, 'linkthumbwidth110pxheight80px': 1, 'framegwidth108pxheight78px': 1, 'continfopaddingleft8px': 1, 'titinfomargintop2pxmarginbottom4px': 1, 'txtinfomargintop2pxlineheight14px': 1, 'titspecialtop10px': 1, 'numgfontfamilyhelveticaarialsansserif': 1, 'gradestarmarginbottom3px': 1, 'continfopaddingtop1px': 1, 'titinfomargintop0': 1, 'txtruntimemarginbottom2pxfontfamilyhelveticaarialsansserif': 1, 'continfopaddingtop16px': 1, 'titinfomargintop1pxlineheight16px': 1, 'listhotissueoverflowhiddenpositionrelativewidth180pxheight280px': 1, 'listhotissue': 33, 'lioverflowhiddenpositionrelativewidth100height20pxmarginbottom8px': 1, 'rolltxtpositionrelative': 1, 'rankcontoverflowhiddenpositionrelativeheight20px': 1, 'numpctopfloatleftwidth16pxheight16pxmargintop1pxfontsize12pxlineheight17pxfontfamilytahomaarialsansserifbackgroundcolortransparenttextaligncenter': 1, 'rank1backgroundposition20px': 1, 'rank2backgroundposition0': 1, 'rank3backgroundposition0': 1, 'rank4backgroundposition0': 1, 'rank5backgroundposition0': 1, 'rank6backgroundposition0': 1, 'rank7backgroundposition0': 1, 'rank8backgroundposition0': 1, 'rank9backgroundposition0': 1, 'rank10backgroundposition0': 1, 'txtissueoverflowhiddenfloatleftwidth119pxpaddingleft6pxlineheight15px': 1, 'linkissuedisplayblockoverflowhiddenpaddingbottom1pxwhitespacenowraptextoverflowellipsis': 1, 'rankresultfloatrightmargin1px': 1, '0fontweightnormalfontsize13pxlineheight14pxcolor888fontfamilytahomaarialsansserifbackgroundcolortransparentletterspacing005em': 1, 'rankresult': 1, 'icopctopdisplayinlineblockbackgroundcolortransparentverticalaligntop': 1, 'icoupwidth11pxheight14pxmarginright3pxbackgroundposition120px': 1, 'icodownwidth11pxheight14pxmarginright3pxbackgroundposition140px': 1, 'icosteadywidth11pxheight6pxmargin5px': 1, '0lineheight10pxbackgroundposition160px': 1, 'iconewwidth27pxheight12pxmargin2px': 1, '0backgroundposition120px': 1, 'txtissuelineheight20px': 1, 'rankresultlineheight16pxfontfamilyhelveticasansserif': 1, 'hotissuepositionabsolutetop19pxright90pxzindex1': 1, 'hotissueminioverflowhiddenpositionrelativewidth161pxheight20pxbackgroundcolorfff': 1, 'hotissuemini': 17, 'listhotissuewidth117px': 1, 'txtissuewidth95px': 1, 'txtrealtimefloatleftwidth44pxheight18pxlineheight18pxbackgroundposition325px': 1, '80pxbackgroundcolortransparenttextaligncenter': 1, 'rank2backgroundposition20px': 1, 'rank3backgroundposition20px': 1, 'rank4backgroundposition20px': 1, 'rank5backgroundposition20px': 1, 'rank6backgroundposition20px': 1, 'rank7backgroundposition20px': 1, 'rank8backgroundposition20px': 1, 'rank9backgroundposition20px': 1, 'rank10backgroundposition20px': 1, 'hotissuelayerdisplaynonepositionabsolutetop38pxright90pxwidth198pxheight384pxpaddingleft20pxborder1px': 1, 'hotissuelayer': 4, 'tithotissuepositionstaticwidth104pxheight34pxmargin10px': 1, '0fontsize13pxlineheight34pxbackgroundposition210px': 1, '80pxbackgroundcolortransparenttextindent0': 1, 'txtstandarddisplayblockpositionstaticwidthautoheightautomargintop5pxfontsize12pxlineheight14pxcolor888textindent0letterspacing0': 1, 'txtstandardmargintop8px': 1, 'issueopen': 1, 'hotissuelayerdisplayblock': 1, 'hotissuebuiltinpositionabsolutetop57pxright0width153pxheight424pxborderleft1px': 1, 'realtimepartheight292pxmarginleft14px': 1, 'realtimepart': 5, 'tithotissuepadding2px': 1, '6pxfontsize13pxcolor118eff': 1, 'listhotissuewidth138pxheight240px': 1, 'liwidth138pxmarginbottom4px': 1, 'txtissuewidth114px': 1, 'tithotissuepadding5px': 1, 'stockpartheight102pxmarginleft15px': 1, 'stockpart': 11, 'linkstockdisplayblockheight40pxmarginbottom8px': 1, 'linkstockhovercolor222textdecorationnone': 1, 'titstockdisplayblockmarginbottom1pxfontweightboldfontsize13pxlineheight15px': 1, 'numstockfontweightnormalfontsize14pxfontfamilytahomaarialsansserifletterspacing003em': 1, 'numstatuspaddingleft3pxfontsize12pxletterspacing0': 1, 'numstatus': 4, 'icoarrowdisplayinlineblockwidth9pxheight10pxmargin8px': 1, '0fontsize0lineheight0textindent9999pxverticalaligntop': 1, 'stockup': 2, 'numstatuscolore30000': 1, 'stockdown': 2, 'numstatuscolor118eff': 1, 'icoarrowbackgroundposition120px': 1, 'icoarrowbackgroundposition130px': 1, 'stockstay': 1, 'icoarrowbackgroundposition140px': 1, 'relpartoverflowhiddenwidth136pxheight28pxmarginleft14pxborder1px': 1, 'relpart': 3, 'itemreldisplayblockwidth139pxheight28px': 1, 'linkrelfloatleftwidth45pxheight28pxborderright1px': 1, 'ecececfontsize12pxlineheight26pxcolor888textaligncenter': 1, 'linkrellineheight29px': 1, 'sectionmultipositionrelativebordertop1px': 1, 'sectionmulti': 1, 'wraptabcontheight157px': 1, 'titkakaotv': 2, 'linktitwidth82pxbackgroundposition380px': 1, 'kakaotvon': 2, 'linktitbackgroundposition380px': 1, 'wrapkakaotv': 2, 'melonon': 1, 'wrapmelondisplayblock': 1, 'tabmultipositionabsolutetop14pxleft90pxheight36px': 1, 'tabmulti': 5, 'lidisplayinlinefloatleftmarginleft13px': 1, 'linktitdisplayblockoverflowhiddenheight36pxfontweightboldlineheight33pxcolor888textdecorationnone': 1, 'linktitcolor222textdecorationunderline': 1, 'linktitlineheight38px': 1, 'boximgspefloatleftmarginright13px': 1, 'boximgspe': 1, 'icolabelboximgspe': 1, 'icolabel3fontsize12px': 1, 'icovideobackgroundposition0': 1, 'sectionblogpositionrelativebordertop1px': 1, 'sectionblog': 2, 'wraptabcontoverflowhiddenheight179px': 1, 'titcafeleft5px': 1, 'titmiznetleft34px': 1, 'titkakaostoryleft87px': 1, 'tittistoryleft178px': 1, 'titbrunchleft243px': 1, 'titstoryfundingleft296px': 1, 'titcafe': 2, '220px': 7, 'titmiznet': 2, 'linktitwidth50pxbackgroundposition36px': 1, 'titkakaostory': 2, 'linktitwidth88pxbackgroundposition86px': 1, 'tittistory': 2, 'linktitwidth62pxbackgroundposition174px': 1, 'titbrunch': 2, 'linktitwidth50pxbackgroundposition236px': 1, 'titstoryfunding': 2, 'linktitwidth74pxbackgroundposition336px': 1, 'cafeon': 2, '256px': 6, 'mizneton': 2, 'kakaostoryon': 2, 'linktitbackgroundposition86px': 1, 'tistoryon': 2, 'linktitbackgroundposition174px': 1, 'brunchon': 2, 'linktitbackgroundposition236px': 1, 'storyfundingon': 2, 'linktitbackgroundposition336px': 1, 'wrapmiznet': 1, 'wrapcafe': 1, 'wrapkakaostory': 1, 'wraptistory': 1, 'wrapbrunch': 1, 'wrapstoryfundingdisplayblock': 1, 'boxstoryfloatrightwidth297pxheight152pxpadding0': 1, 'liststoryoverflowhiddenfloatleft': 1, 'liststory': 17, 'lifloatleftheight160pxmarginleft13px': 1, 'linkitemdisplayblockpositionrelativewidth154pxcursorpointer': 1, 'linkitemhovercolor222textdecorationnone': 2, 'contitemheight56pxpadding4px': 1, 'originitemdisplayblockoverflowhiddenpositionrelativemargintop4pxfontsize12pxlineheight18pxcolor888whitespacenowraptextoverflowellipsis': 1, 'originitem': 4, 'txttellerdisplayblockoverflowhiddenwhitespacenowraptextoverflowellipsis': 1, 'icostorytelleroverflowhiddenpositionabsoluteright0top4pxwidth13pxheight15pxfontsize1pxlineheight0backgroundposition170px': 1, '100pxtextindent9999px': 1, 'linkitemhover': 6, 'tititemcolor118efftextdecorationunderline': 2, 'originitemcolor888textdecorationnone': 1, 'itemtellerdisplayinlineblockmaxwidth115pxpaddingright18px': 1, 'contitemheight54pxpaddingtop6px': 1, 'icostorytellertop0': 1, 'typedesc': 8, 'linkitemwidth152pxheight152pxborder1px': 1, 'contitemheight117pxpadding7px': 1, 'tititemheightautomaxheight36px': 1, 'descitemdisplayblockoverflowhiddenmaxheight48pxpaddingtop8pxfontsize11pxlineheight16pxcolor888wordbreakkeepallwordwrapbreakword': 1, 'originitempositionabsoluteleft13pxbottom9pxright13px': 1, 'itemtellerrightautomaxwidth106px': 1, 'contitemheight96pxpaddingtop10px': 1, 'originitembottom6px': 2, 'typeimg': 10, 'thumbgzindex1height154px': 1, 'framegwidth152pxheight152px': 2, 'contitempositionabsolutetop0left0bottom0width154pxheight154pxbackgroundurlt1daumcdnnetdaumtopdecoimagestop2017bgplate6png': 1, 'tititempositionabsoluteleft13pxright13pxbottom37pxheightautomaxheight36pxpaddingright10pxcolorfff': 1, 'originitempositionabsoluteleft13pxright13pxbottom14pxcolorc9c9c9': 1, 'originitemcolorc9c9c9textdecorationnone': 1, 'tititemcolorffftextdecorationunderline': 1, 'contitemheightautopadding0': 1, 'tititembottom30px': 2, 'graphitemoverflowhiddenpositionabsolutetop74pxleft0width154px': 1, 'graphitem': 7, 'infographpositionabsoluteright10pxtop0zindex10colorfff': 1, 'infograph': 1, 'numgraphfontweightbold': 1, 'bargraphdisplayblockheight20pxbackgroundurlt1daumcdnnetdaumtopdecoimagestop2017bggraphpng': 1, 'repeat': 1, 'barsupportpositionabsoluteleft0top0height20px': 1, 'barsupport': 4, 'bgleftpositionabsoluteleft0top0right16pxheight20pxbackgroundurlt1daumcdnnetdaumtopdecoimagestop2017bargraphpng': 1, 'repeatx': 2, 'bgrightpositionabsoluteright14pxtop0width30pxheight20pxbackgroundurlt1daumcdnnetdaumtopdecoimagestop2017bargraphrightpng': 1, 'fullgraph': 3, 'barsupportwidth100backgroundurlt1daumcdnnetdaumtopdecoimagestop2017bargraphfull2png': 1, 'bgleft': 1, 'bgrightwidth0backgroundnone': 1, 'infographtop2px': 1, 'sectionchannelpositionrelativebordertop1px': 1, 'sectionchannel': 6, 'panelblocpaddingtop60px': 1, 'wraptabcontoverflowhiddenheight507px': 1, 'tithomecookingleft5px': 1, 'titmoneyleft59px': 1, 'titpetleft96px': 1, 'titwomenleft133px': 1, 'titmenleft182px': 1, 'tittravelleft212px': 1, 'titbusinessleft274px': 1, 'titmusicleft325px': 1, 'titwebtoonleft362px': 1, 'titgameleft398px': 1, 'tittogetherpanelbloc': 1, 'tittogether2left434px': 1, 'tithomecooking': 2, 'linktitwidth59pxbackgroundposition0': 1, 'titmoney': 2, 'linktitwidth37pxbackgroundposition59px': 1, 'titpet': 2, 'linktitwidth37pxbackgroundposition96px': 1, 'titwomen': 2, 'linktitwidth49pxbackgroundposition133px': 1, 'titmen': 2, 'linktitwidth30pxbackgroundposition182px': 1, 'tittravel': 2, 'linktitwidth62pxbackgroundposition212px': 1, 'titbusiness': 2, 'linktitwidth51pxbackgroundposition274px': 1, 'titmusic': 2, 'linktitwidth37pxbackgroundposition325px': 1, 'titwebtoon': 2, 'linktitwidth36pxbackgroundposition362px': 1, 'titgame': 2, 'linktitwidth36pxbackgroundposition398px': 1, 'tittogether': 2, 'linktitwidth63pxbackgroundposition434px': 1, 'tittogether2': 2, 'linktitwidth72pxbackgroundposition497px': 1, 'homecookingon': 2, '346px': 12, 'moneyon': 1, 'linktitbackgroundposition59px': 1, 'peton': 1, 'linktitbackgroundposition96px': 1, 'womenon': 1, 'linktitbackgroundposition133px': 1, 'menon': 2, 'linktitbackgroundposition182px': 1, 'travelon': 2, 'linktitbackgroundposition212px': 1, 'businesson': 2, 'linktitbackgroundposition274px': 1, 'musicon': 2, 'linktitbackgroundposition325px': 1, 'webtoonon': 2, 'linktitbackgroundposition362px': 1, 'gameon': 2, 'linktitbackgroundposition398px': 1, 'togetheron': 3, 'linktitbackgroundposition434px': 1, 'linktitbackgroundposition497px': 1, 'wraphomecookingmoneyon': 1, 'wrapmoneypeton': 1, 'wrappetwomenon': 1, 'wrapwomen': 1, 'wrapmen': 1, 'wraptravel': 1, 'wrapbusiness': 1, 'wrapmusic': 1, 'wrapwebtoon': 1, 'wrapgame': 1, 'wraptogetherdisplayblock': 1, 'boxchannelfloatleftpositionrelativewidth154pxheight159pxmargin0': 1, 'boxchannelfstmarginleft0': 1, 'boxchannel': 17, 'linkitemdisplayblockpositionrelativewidth154px': 1, 'thumbgoverflowhiddenwidth154pxheight94px': 1, 'tititemdisplayblockoverflowhiddenmaxheight36pxpaddingright12pxfontweightnormallineheight18pxwordwrapbreakword': 1, 'channelitemdisplayblockheight18pxpadding4px': 1, '0fontsize12pxlineheight18px': 1, 'channelitem': 2, 'linkchanneldisplayinlineblockoverflowhiddenmaxwidth124pxheight20pxlineheight18pxcolor888verticalaligntopwhitespacenowraptextoverflowellipsis': 1, 'originitemdisplayblockoverflowhiddenmargintop3pxfontsize12pxlineheight21pxcolor888whitespacenowraptextoverflowellipsis': 1, 'thumbchanneldisplayinlineblockpositionrelativemargin1px': 1, 'thumbchannel': 2, 'imgthumbborderradius18px': 1, 'bgframepositionabsolutetop0left0width18pxheight18pxbackgroundposition410px': 1, 'thumbchannelmargintop0': 1, 'linkchannellineheight20px': 2, 'typechdescbackgroundcolorfbfbfc': 1, 'typechdesc': 6, 'linkitemwidth152pxheight157pxborder1px': 1, 'contitempadding13px': 1, 'descitemdisplayblockoverflowhiddenmaxheight48pxpaddingtop8pxfontsize11pxlineheight16pxcolor888': 1, 'channelitempadding0': 1, '13pxborder1px': 1, 'ecececbordertopwidth0': 1, 'originitemmargintop17px': 1, 'contitempaddingtop16px': 1, 'boximgspemarginright0': 1, 'linksectorheight159px': 1, 'framegwidth319pxheight157px': 2, 'contitemheight159pxbackgroundimageurlt1daumcdnnetdaumtopdecoimagestop2017bgplate5png': 1, 'boxchwidefloatleftpositionrelativewidth321pxheight159pxmargin0': 1, 'boxchwide': 10, 'linkitemdisplayblockoverflowhiddenpositionrelativewidth321pxheight159px': 1, 'linkitem': 8, 'thumbgzindex1width321pxheight159px': 1, 'contitempositionabsolutetop0left0width321pxheight159pxcolorfffbackgroundurlt1daumcdnnetdaumtopdecoimagestop2017bgplate5png': 1, 'tititemoverflowhiddenpositionabsoluteleft17pxbottom13pxmaxwidth284pxheight20pxfontweightnormalfontsize14pxlineheight20pxwhitespacenowraptextoverflowellipsis': 1, 'tititemhovercolorfff': 1, 'originitemoverflowhiddenpositionabsoluteleft17pxbottom33pxmaxwidth284pxheight20pxfontsize12pxlineheight18pxcolorfffwhitespacenowraptextoverflowellipsis': 1, 'originitembottom30px': 1, 'boxchextraoverflowhiddenfloatleftpositionrelativewidth154pxheight159pxmargin0': 1, 'boxchextra': 17, 'titchextrapositionabsolutetop14pxleft15pxright50pxzindex1fontsize11pxcolor118eff': 1, 'linkitemdisplayblockwidth154pxheight159px': 1, 'thumbgzindex1width154pxheight159px': 1, 'framegwidth152pxheight157px': 1, 'contitempositionabsolutetop0left0width154pxheight159pxbackgroundurlt1daumcdnnetdaumtopdecoimagestop2017bgplate6png': 1, 'emphextrapositionabsolutetop14pxleft15pxright15pxfontsize11pxcolor118eff': 1, 'tititempositionabsoluteleft14pxright14pxbottom34pxfontweightnormallineheight18pxcolorfff': 1, 'tititemtextdecorationunderline': 1, 'originitemdisplayinlineblockoverflowhiddenpositionabsoluteleft13pxrightautobottom8pxmaxwidth124pxfontsize12pxlineheight24pxcolorc9c9c9whitespacenowraptextoverflowellipsis': 1, 'titchextratop17px': 1, 'emphextratop17px': 1, 'originitembottom5px': 1, 'titbanneroverflowhiddenpositionabsoluteleft14pxright14pxbottom15pxfontweightnormalfontsize11pxcolorffftextdecorationunderlinetextaligncenterwhitespacenowraptextoverflowellipsis': 1, 'pagepctoptop15pxright15pxbottomauto': 1, 'btnpagewidth16pxheight16pxlineheight16pxbackgroundposition60px': 1, 'btnnextwidth15pxbackgroundposition76px': 1, 'listchbest': 9, 'lipositionrelativewidth154pxheight159px': 1, 'thumbgzindex0': 1, 'linkchbestpositionabsolutetop0left0width154pxheight120px': 1, 'titchbestoverflowhiddenpositionabsoluteleft14pxright14pxbottom0maxheight36pxfontweightnormalfontsize13pxlineheight18pxcolorfffwordbreakkeepallwordwrapbreakword': 1, 'titchbesthovertextdecorationunderline': 1, 'linkchanneloverflowhiddenpositionabsoluteleft0bottom0maxwidth124pxheight25pxpadding2px': 1, '10pxfontsize11pxlineheight23pxcolorc9c9c9whitespacenowraptextoverflowellipsis': 1, 'thumbchannelfloatleftpositionrelativemargin5px': 1, 'linkchannelpadding4px': 1, 'thumbchannelmargintop3px': 1, 'boxinfobnrfloatleftmargin0': 1, 'boxinfobnr': 15, 'linkitemdisplayblockoverflowhiddenpositionrelative': 1, 'linkitemhovercolor222': 1, 'thumbgzindex1width154pxheight154pxbackgroundcolorfff': 1, 'contitemoverflowhiddenpositionabsolutetop8pxleft13pxright7px': 1, 'tititemdisplayinlineblockoverflowhiddenmaxwidth120pxpaddingright8pxfontweightboldbackgroundposition100': 1, '7pxwhitespacenowraptextoverflowellipsisverticalaligntop': 1, 'txtinfodisplayblockoverflowhiddenmargintop2pxwhitespacenowraptextoverflowellipsis': 1, 'originitemdisplayblockoverflowhiddenmargintop2pxfontsize12pxlineheight16pxcolor888whitespacenowraptextoverflowellipsis': 1, 'contitemtop11px': 1, 'tititembackgroundposition100': 1, 'wraptogether': 6, 'thumbgheight159px': 2, 'framegheight157px': 2, 'grouprecommoverflowhiddenwidth670pxclearboth': 1, 'grouprecomm': 7, 'boxstoryfloatleftwidth295pxheight157pxmarginright13pxpadding0': 1, 'boxbestwidth629pxmargin0': 1, 'boxbest': 10, 'listrankingmargintop7px': 1, 'lifloatleftwidth295pxpadding0': 1, 'linkranking': 2, 'txtrankingwidth270px': 1, 'numpctopmargintop2px': 2, 'bestimgwidth148pxheight108pxmargin2px': 1, '0padding0': 1, 'bestimg': 7, 'linkrankingpositionrelativewidth148pxheight108px': 1, 'thumbgwidth148pxheight108px': 1, 'framegwidth146pxheight106px': 1, 'contitempositionabsolutetop0left0width148pxheight108pxbackgroundurlt1daumcdnnetdaumtopdecoimagestop2017bgplate9png': 1, 'numpctoppositionabsolutetop0left0margin0': 1, 'txtrankingpositionabsoluteright12pxbottom10pxleft11pxwidthautocolorfffwhitespacenormal': 1, 'numpctop': 1, 'bestimgmargintop0': 1, 'txtrankingbottom8pxleft12px': 1, 'boxrecomm': 6, 'listrecommoverflowhiddenwidth321pxmargintop11px': 1, 'listrecomm': 4, 'lifloatleftwidth140pxheight30pxmargin0': 1, 'linkrecommdisplayinlineblockoverflowhiddenmaxwidth100lineheight30pxwhitespacenowraptextoverflowellipsis': 1, 'thumbrecommfloatleftwidth30pxheight30pxmarginright6pxverticalaligntop': 1, 'thumbrecomm': 1, 'imgthumbborderradius30px': 1, 'listrecommmargintop9px': 1, 'boxbestwidth295pxmargin0': 1, 'boxgamemarginright0': 1, 'boxinfobnrheight159pxmarginbottom0': 1, 'txtinfomargin0': 1, 'boxwtrankpositionrelative': 1, 'boxwtrank': 1, 'titsubjectpositionabsolutetop0left11pxzindex1': 1, 'listwtrankmargintop13px': 1, 'listwtrank': 16, 'fstoverflowhiddenpositionrelativeheight62pxmarginbottom9pxpaddingtop20pxborderbottom1px': 1, 'imgthumbpositionabsolutetop0right0widthautoheight83pxpointereventsnone': 1, 'linkrankingdisplayinlineblockoverflowhiddenlineheight18pxverticalaligntop': 1, 'contitemoverflowhiddenwidth140px': 1, 'txtrankingdisplayblockoverflowhiddenmaxwidth200pxwhitespacenowraptextoverflowellipsis': 1, 'txtrankingcolor118efftextdecorationunderline': 1, 'txtrankingmaxheight36pxwhitespacenormalwordbreakkeepallwordwrapbreakword': 1, 'limarginbottom4px': 1, 'fstheight59pxmarginbottom9pxpaddingtop23px': 1, 'boxmusicpaddingleft12pxheight157px': 1, 'boxmusic': 6, 'headitemoverflowhiddenpadding7px': 1, '11pxlineheight18px': 1, 'headitem': 4, 'titsubjectfloatleftmargin0': 1, 'txtstandardfloatleftfontsize11pxcolor888': 1, 'txtnumfontfamilytahomaarialsansserifletterspacing0': 1, 'listmusicoverflowhiddenwidth646px': 1, 'listmusic': 16, 'lifloatleftpositionrelativewidth70pxmarginright36pxpaddingleft22px': 1, 'linkitemdisplayblockwidth70px': 1, 'thumbgwidth70pxheight70px': 1, 'framegwidth68pxheight68px': 1, 'contitemdisplayblockpaddingtop4px': 1, 'tititemdisplayblockoverflowhiddenmargin0fontweightnormallineheight16pxwhitespacenowraptextoverflowellipsis': 1, 'tititemhovercolor118efftextdecorationunderline': 1, 'originitemdisplayblockoverflowhiddenfontsize12pxlineheight16pxcolor888whitespacenowraptextoverflowellipsis': 1, 'linksingercolor888': 1, 'numpctoppositionabsolutetop0left0width16pxheight16pxtextindent9999pxverticalaligntop': 1, 'headitempadding10px': 1, 'txtnumfontfamilyhelveticaarialsansserif': 1, 'wraptopicwidth990pxmargin0': 1, 'autopadding29px': 1, '45px': 1, 'wraptopic': 4, 'titphotodisplayinlineblockoverflowhiddenheight36pxfontsize16pxlineheight33pxverticalaligntop': 1, 'linkphotoclipdisplayinlineblockpaddingright11pxbackgroundposition100': 1, '242pxwhitespacenowrapverticalaligntop': 1, 'linkphotothemedisplayinlineblockmarginright6pxcolor118effverticalaligntop': 1, 'viewphotooverflowhiddenpositionrelativewidth990pxheight400pxmargintop20px': 1, 'viewphoto': 26, 'listphotooverflowhiddenpositionabsolutetop0': 1, 'listphoto': 2, 'boxphotodisplayblockoverflowhiddenwidth682pxheight400pxbackgroundcolor333textdecorationnonetextaligncenter': 1, 'boxphoto': 1, 'imgthumbdisplayinline': 1, 'detailphotodisplaynonepositionabsolutetop0left50width682pxmarginleft341pxpaddingtop330px': 1, 'detailphoto': 2, 'framegwidth680pxheight398px': 1, 'linkphotodisplayblockoverflowhiddenpositionrelativeheight70pxbackgroundurlt1daumcdnnetdaumtopdecoimagestop2017bgplateslidepng': 1, 'linkphotohovertextdecorationnone': 1, 'linkphoto': 4, 'icophotopositionabsolutetop18pxright20pxwidth17pxheight15pxbackgroundposition160px': 1, '60pxtextindent9999px': 1, 'titgalleryoverflowhiddenmargin14px': 1, '57px': 1, '20pxfontweightnormalfontsize14pxcolorf4f4f4textdecorationnonewhitespacenowraptextoverflowellipsis': 1, 'descsourcedisplayblockpadding1px': 1, '20pxfontsize11pxcolorfffopacity06filteralphaopacity60': 1, 'txtdatemarginleft10pxfontfamilyHelveticatahomasansserif': 1, 'btnpreviewoverflowhiddenpositionabsolutetop0width152pxheight400pxbackgroundurlt1daumcdnnetdaumtopdecoimagestop2017bgplateslide2png': 1, 'norepeattextdecorationnonecursorpointer': 1, 'btnpreview': 4, 'framegwidth150pxheight398px': 1, 'icopctoppositionabsolutetop170pxwidth60pxheight60pxtextindent9999px': 1, 'btnprevleft0borderright2px': 1, 'fff': 2, 'btnprev': 2, 'icopctopleft0backgroundposition190px': 1, 'btnnextright0borderleft2px': 1, 'btnnext': 3, 'icopctopright0backgroundposition190px': 1, 'btngallerybackgroundcolor333': 1, 'txtgallerydisplaynonepadding184px': 1, '71pxlineheight16pxcolorfff': 1, 'btngallery': 1, 'txtgallerydisplayblock': 1, 'txtgallerypaddingright71pxpaddingleft0textalignright': 1, 'viewslideoverflowhiddenpositionrelativeheight60pxmargintop20px': 1, 'viewslide': 66, 'listthumbnailoverflowhidden': 1, 'listthumbnail': 4, 'lifloatleftpaddingleft2px': 1, 'lifstpaddingleft0': 1, 'linkthumbdisplayblockpositionrelativewidth60pxheight60px': 1, 'framegwidth58pxheight58pxcursorpointer': 1, 'framegwidth56pxheight56pxborder2px': 1, '118effopacity1filteralphaopacity100': 1, 'covergpositionabsolutetop0bottom0left0right0backgroundfffopacity06filteralphaopacity60': 1, 'btnmovepositionabsolutetop0width20pxheight60px': 1, 'btnprevleft0': 1, 'btnnextright0': 1, 'btnmove': 1, 'icopctopdisplayblockwidth20pxheight20pxmargintop20pxtextindent9999pxcursorpointer': 1, 'icopctopbackgroundposition190px': 1, 'icopctopbackgroundposition220px': 1, 'titphotolineheight39px': 1, 'titgallerymargintop16px': 1, 'descsourcepaddingtop2px': 1, 'txtgallerypaddingtop186px': 1, 'vphototype2': 9, 'boxphotowidth990px': 1, 'detailphotowidth990pxmarginleft495px': 1, 'framegwidth988px': 1, 'linkphotobackgroundrepeat': 1, 'btnpreviewtop140pxheight120pxborder0': 1, 'nonebackgroundnone': 1, 'framegdisplaynone': 1, 'icopctoptop30px': 1, 'txtgallerypaddingtop43px': 1, 'listthumbnail2': 3, 'linkthumbwidth246px': 1, 'framegwidth244px': 1, 'framegwidth242px': 1, 'listthumbnail3': 9, 'linkthumboverflowhiddenwidth196px': 1, 'framegwidth194px': 1, 'framegwidth192px': 1, 'fst': 10, 'lst': 10, 'linkthumbwidth197px': 1, 'frameg': 10, 'framegwidth195px': 1, 'fston': 5, 'lston': 5, 'framegwidth193px': 1, 'listthumbnail4': 9, 'linkthumboverflowhiddenwidth163px': 1, 'framegwidth161px': 1, 'framegwidth159px': 1, 'linkthumbwidth164px': 1, 'framegwidth162px': 1, 'framegwidth160px': 1, 'listthumbnail5': 9, 'linkthumboverflowhiddenwidth140px': 1, 'framegwidth138px': 1, 'framegwidth136px': 1, 'linkthumbwidth139px': 1, 'framegwidth137px': 1, 'framegwidth135px': 1, 'listthumbnail6': 3, 'linkthumboverflowhiddenwidth122px': 1, 'framegwidth120px': 1, 'framegwidth118px': 1, 'listthumbnail7': 9, 'linkthumboverflowhiddenwidth108px': 1, 'framegwidth106px': 1, 'framegwidth104px': 1, 'linkthumbwidth109px': 1, 'framegwidth107px': 1, 'framegwidth105px': 1, 'listthumbnail8': 9, 'linkthumboverflowhiddenwidth97px': 1, 'framegwidth95px': 1, 'framegwidth93px': 1, 'linkthumbwidth98px': 1, 'framegwidth96px': 1, 'framegwidth94px': 1, 'txtgallerypaddingtop46px': 1, 'topicspepositionabsolutetop0left50width990pxmarginleft495px': 1, 'topicspe': 3, 'linkspeoverflowhiddenpositionabsolutetop0width464pxheight610pxfontsize1pxlineheight0textalignlefttextindent9999px': 1, 'linkspeleftleft465px': 1, 'linksperightright465px': 1, 'topictype2backgroundposition50': 1, 'topictype2': 14, 'headlinephotooverflowhidden': 1, 'headlinephoto': 1, 'titphotofloatleft': 1, 'txtsub1overflowhiddenpadding18px': 1, '2pxfontsize24pxlineheight28pxletterspacing1pxwhitespacenowraptextoverflowellipsisclearboth': 1, 'linkgate1floatrightoverflowhiddenheight36pxfontsize16pxlineheight33pxcolorfff': 1, 'linkgate1': 1, 'icoarrowdisplayinlineblockwidth8pxheight12pxmargin0': 1, '8pxbackgroundposition100px': 1, 'txtsub2padding11px': 1, '1pxfontsize22pxlineheight28pxletterspacing1pxclearboth': 1, 'txtsub2': 1, 'infosubtxtdisplayblockoverflowhiddenwhitespacenowraptextoverflowellipsis': 1, 'linkgate2displayinlineblockoverflowhiddenwidthautoheight16pxmargin14px': 1, '10pxpadding10px': 1, '16pxbackgroundcolor222fontsize14pxlineheight16pxcolorfffverticalaligntop': 1, 'linkgate2': 2, 'icoarrowdisplayinlineblockwidth6pxheight10pxmargin4px': 1, '19pxbackgroundposition110px': 1, '265pxverticalaligntop': 1, 'txtsub1paddingtop22px': 1, 'linkgate1lineheight39px': 1, 'txtsub2paddingtop16pxpaddingbottom0': 1, 'linkgate2margintop10pxpaddingtop12pxpaddingbottom10px': 1, 'icoarrowmargintop2px': 1, 'topicbgwingpositionabsolutetop0right0left0zindex1minwidth990pxminheight610pxheight100': 1, 'topicbgwing': 3, 'bgwingpositionabsoluteminwidth960pxwidth50height100backgroundposition0': 1, '0backgroundrepeatnorepeat': 1, 'frwingtop0left50backgroundposition100': 1, 'flwingbottom0left0backgroundposition0': 1, 'noticelayeroverflowhiddenwidth100borderbottom1px': 1, 'ecf2f7backgroundcolorf4faff': 1, 'innernoticelayeroverflowhiddenpositionrelativewidth990pxheight110pxmargin0': 1, 'autobackgroundimageurlt1daumcdnnetdaumtopdecoimagestop2017noticestartpngbackgroundrepeatnorepeat': 1, 'innernoticelayer1backgroundposition100': 1, 'innernoticelayer': 6, 'setstartfloatleftpaddingtop29px': 1, 'txtnewsdisplayblockfontweightnormalfontsize20px': 1, 'linkstartoverflowhiddenfloatleftmargintop3pxpaddingright9pxfontsize12pxcolor888backgroundposition100': 1, '197pxtextdecorationunderline': 1, 'btncloseoverflowhiddenpositionabsolutetop36pxright0width20pxheight20pxbackgroundposition170px': 1, '180pxtextindent9999px': 1, 'setstartpaddingtop33px': 1, 'linkstartmargintop0': 1, 'mobileweblayeroverflowhiddenwidth100paddingbottom29pxbordertop1px': 1, 'ecececbackgroundcolorf2f2f2textaligncenter': 1, 'mobileweblayer': 7, 'txtmobilemargintop18pxmarginleft13pxfontsize12pxcolor888': 1, 'txtmobile': 2, 'icoinfodisplayinlineblockwidth13pxheight13pxmargin3px': 1, '0backgroundposition170px': 1, '120pxverticalaligntop': 1, 'linkmobiledisplayblockwidth100pxheight30pxmargin12px': 1, 'dadbddfontweightboldfontsize13pxlineheight28pxcolor222backgroundcolorfff': 1, 'linkmobilehovertextdecorationnone': 1, 'txtmobilemargintop22pxmarginleft9px': 1, 'icoinfomargin1px': 1, 'linkmobilemargintop9pxlineheight31px': 1, 'media': 2, 'only': 8, 'screen': 8, 'and': 8, 'webkitmindevicepixelratio': 2, '15': 4, 'mindevicepixelratio': 2, 'minresolution': 4, '144dpi': 2, '15dppx': 2, 'icosuggestbackgroundimageurlsearch1daumcdnnetsearchstaticscommonpir2weathericoweathermpngbackgroundsize43px': 1, '1680px': 1, 'icopctopbackgroundimageurlt1daumcdnnetdaumtopdecoimagestop2017rtnicopctop180423pngbackgroundsize250px': 1, 'icovertbackgroundimageurlt1daumcdnnetdaumtopdecoimagestop2017rtnicopctopvert170724pngbackgroundsize100px': 1, '500px': 1, 'txtpctopbackgroundimageurlt1daumcdnnetdaumtopdecoimagestop2017rtntxtpctop170915pngbackgroundsize600px': 1, 'bgpctop': 1, 'loginmybackgroundimageurlt1daumcdnnetdaumtopdecoimagestop2017rtnbgpctop170328pngbackgroundsize610px': 1, '490px': 1, 'numpctopbackgroundimageurlt1daumcdnnetdaumtopdecoimagestop2017rtnnumpctop170405pngbackgroundsize80px': 1, 'innernoticelayerbackgroundimageurlt1daumcdnnetdaumtopdecoimagestop2017rtnnoticestartpngbackgroundsize300px': 1, 'imgweatherbackgroundimageurlt1daumcdnnetdaumtopdecoimagestop2017rtnimgweather170628pngbackgroundsize300px': 1, '460px': 1, 'icowsbackgroundimageurlt1daumcdnnetdaumtopdecoimagestop2017rtnicows1801023pngbackgroundsize270px': 1, 'icowmbackgroundimageurlt1daumcdnnetdaumtopdecoimagestop2017rtnicowm1801023pngbackgroundsize900px': 1, 'imgkeyboardbackgroundimageurlt1daumcdnnetdaumtopdecoimagestop2017rtnimgkeyboard171229pngbackgroundsize30px': 1, 'btnkeyboardbackgroundimageurlt1daumcdnnetdaumtopdecoimagestop2017rtnimgkor171226pngbackgroundsize431px': 1, 'btnkeyboardactivebackgroundimageurlt1daumcdnnetdaumtopdecoimagestop2017rtnimgkorhover171226pngbackgroundsize431px': 1, 'btnkeyboardbackgroundimageurlt1daumcdnnetdaumtopdecoimagestop2017rtnimgkorshift171229pngbackgroundsize431px': 1, 'btnkeyboardactivebackgroundimageurlt1daumcdnnetdaumtopdecoimagestop2017rtnimgkorshifthover171229pngbackgroundsize431px': 1, 'btnkeyboardbackgroundimageurlt1daumcdnnetdaumtopdecoimagestop2017rtnimgeng171226pngbackgroundsize431px': 1, 'btnkeyboardactivebackgroundimageurlt1daumcdnnetdaumtopdecoimagestop2017rtnimgenghover180122pngbackgroundsize431px': 1, 'btnkeyboardbackgroundimageurlt1daumcdnnetdaumtopdecoimagestop2017rtnimgengshift171226pngbackgroundsize431px': 1, 'btnkeyboardactivebackgroundimageurlt1daumcdnnetdaumtopdecoimagestop2017rtnimgengshifthover171226pngbackgroundsize431px': 1, 'rolltxt': 3, 'webkittransition': 5, 'transform': 27, '0s': 5, 'linear': 5, 'moztransition': 5, 'mstransition': 5, 'otransition': 5, 'transition': 5, 'webkittransform': 7, 'translateY0': 5, 'moztransform': 7, 'mstransform': 7, 'otransform': 7, 'licurrent': 3, 'translateY20px': 5, '3s': 15, 'easeout': 10, 'translateY0px': 10, 'initial': 5, 'important': 5, 'positionabsolute': 1, 'backgroundcolorfff': 1, 'translateY28px': 10, 'opacity1': 1, 'linext': 1, 'opacity0': 1, 'cEtc': 3, 'listthumbnailwidth1858px': 1, 'listthumbnailclasslistthumbnailwidth990px': 1, 'ease': 5, 'translateX0': 5, 'kakaotvasian2018backgroundurlt1daumcdnnetdaumtopdecoimagestop2017special1bgasian2018kakaotvpng': 1, 'kakaotvasian2018': 1, 'linktitcolor5a32ff': 1, 'asian2018slot': 29, 'icoasiandisplayinlineblockoverflowhiddenbackgroundurlt1daumcdnnetdaumtopdecoimagestop2017special1icoasian180808png': 1, 'asian2018slotpositionrelativezindex10width655pxminheight60pxmargintop15px': 1, 'innerslotoverflowhiddenpositionabsolutetop0left0zindex20width655pxheight60pxbackgroundurlt1daumcdnnetdaumtopdecoimagestop2017special1bgasian2018180807png': 1, 'titasiangamepositionabsolutetop0left0width150pxheight60px': 1, 'linkasiangamedisplayblockoverflowhiddenheight100': 1, 'wrapddaypositionabsolutetop24pxright4pxheight13pxfontweightnormallineheight11pxfontfamilyHelveticaNeueMedium': 1, 'sansserif': 2, 'wrapdday': 4, 'txtddayfontsize16pxcolor837EF3': 1, 'icominusdisplayinlineblockmargin0': 1, '1pxverticalaligntop': 1, 'numddaydisplayinlineblockwidth10pxtextaligncenter': 1, 'moreinfopositionabsolutetop23pxright11px': 1, 'moreinfo': 3, 'linkgfloatleftpadding0': 1, '3pxfontsize13pxlineheight15pxletterspacing1pxcolor3B35CE': 1, 'linkg': 2, 'icoarrwidth10pxheight10pxmargin3px': 1, '4pxbackgroundposition56px': 1, 'listnoticefloatleftwidth381pxmargin19px': 1, '163px': 1, 'liwidth100': 1, 'linknoticedisplayblockoverflowhiddenfontsize14pxtextoverflowellipsiswhitespacenowrapletterspacing1px': 1, 'icohotfloatleftwidth36pxheight18pxmargin3px': 1, 'icovodfloatleftwidth36pxheight18pxmargin3px': 1, '0backgroundposition40px': 1, 'icosmsfloatleftwidth52pxheight16pxmargin3px': 1, '0backgroundposition0': 1, 'txtgamespaddingright6pxcolor7A63FF': 1, 'asian2018open': 1, 'txtopenpositionabsolutetop20pxright9pxfontweightboldfontsize14pxcolor837EF3': 1, 'asian2018opentype2': 1, 'listnoticemarginleft149px': 1, 'asian2018medal': 15, 'medalinfooverflowhiddenpositionabsolutetop30pxleft0width150pxheight30px': 1, 'medalinfo': 7, 'linkmedaldisplayblockheight100': 1, 'listmedalfloatleftpaddingleft21px': 1, 'listmedal': 1, 'nummedaldisplayblockwidth20pxheight20pxmarginright3pxfontweightboldfontsize11pxlineheight19pxfontfamilyHelveticaNeue': 1, 'sansserifcolor534400textaligncenter': 1, 'txtrankingfloatleftmargin3px': 1, '2pxfontsize12pxlineheight12px': 1, 'numrankingfontweightboldfontfamilyHelveticaNeue': 1, 'innerslotbackgroundurlt1daumcdnnetdaumtopdecoimagestop2017special1bgasian2018medal180807png': 1, 'titasiangameheight30px': 1, 'listnoticewidth384pxmarginleft150px': 1, 'txtgamespaddingright4px': 1, 'icominusmargin0': 1, 'nummedallineheight20px': 1, 'listnoticewidth372pxmargintop20px': 1, 'linknoticeletterspacing0': 1, 'moreinfotop24px': 1, 'linkgletterspacing0': 1, 'icoarrmargintop1px': 1, 'icohot': 1, 'icovodmargin2px': 1, 'icosmsmargin2px': 1, 'medalinfolineheight21px': 1, 'txtrankingmargintop5px': 1, 'icoasianbackgroundimageurlt1daumcdnnetdaumtopdecoimagestop2017rtnspecial1icoasian180808pngbackgroundsize75px': 1, '36px': 1, 'innerslotbackgroundimageurlt1daumcdnnetdaumtopdecoimagestop2017rtnspecial1bgasian2018180807pngbackgroundsize655px': 1, 'innerslotbackgroundimageurlt1daumcdnnetdaumtopdecoimagestop2017rtnspecial1bgasian2018medal180807pngbackgroundsize655px': 1, 'kakaotvasian2018backgroundimageurlt1daumcdnnetdaumtopdecoimagestop2017rtnspecial1bgasian2018kakaotvpngbackgroundsize655px': 1, '218px': 1, '주요': 2, '서비스': 5, '바로가기': 11, '오늘의': 7, '정보': 8, '미디어': 3, '실시간': 4, '이슈': 4, '멀티미디어': 2, '블로그': 5, '유익한': 2, '쇼핑': 3, '포토amp영상': 1, '웹': 1, '접근성': 1, '안내': 1, '자동실행': 1, '광고': 1, '설정': 1, '검색': 8, '통합': 2, '한글입력기': 1, '인기': 1, '검색어': 3, '이동국': 1, '500경기': 1, '1박2일': 2, '김주혁': 1, '서울': 1, '우박': 1, '최명길': 6, '집공개': 1, '컨테이너': 1, '추락사고': 1, '장현수': 1, '명단제외': 1, '고속도로': 1, '역주행': 1, '바비': 1, '독설': 1, '엘': 6, '클라시코': 6, '월평균': 1, '유아학원비': 1, 'lt이전': 1, 'gt다음': 1, '다음을': 1, '시작페이지로': 1, '카페': 3, '메일': 2, '뉴스': 5, '지도': 2, '증권': 1, '카카오TV': 3, '웹툰': 3, '브런치': 3, '사전': 1, '게임': 3, '별플레이': 1, '같이가치': 3, '주요서비스': 1, '더보기': 2, '⋁': 1, '전체': 5, '커뮤니케이션': 1, '티스토리': 2, '아지트': 1, '카카오스토리': 2, '스포츠': 4, '연예': 2, '아고라': 1, '쇼핑생활': 1, '쇼핑하우': 1, '항공권': 1, '신규업데이트': 1, '금융': 1, '부동산': 2, '자동차': 2, '미즈넷': 2, '문화엔터': 1, '영화': 2, '나눔펀딩': 1, '스토리펀딩': 2, '사전지식': 1, '어학사전': 1, '번역': 1, '단어장': 1, '백과사전': 1, '팁': 1, '배틀그라운드': 1, '검은사막': 1, '길찾기': 1, '로드뷰': 1, '버스정보': 1, '지하철노선도': 1, '카카오': 2, '소식': 1, 'AI': 1, '다음': 8, '전체보기': 2, '메뉴': 1, '닫기': 2, '10': 2, '29': 1, '월': 1, '날씨': 21, '서울시': 1, '비온후갬': 3, '영상': 19, '5도': 2, '5': 3, '°C': 20, '경기도': 1, '구름많음': 2, '인천시': 2, '3도': 1, '3': 3, '대구시': 1, '맑음': 8, '7도': 4, '7': 5, '대전시': 1, '비': 2, '광주시': 1, '부산시': 1, '12도': 1, '12': 1, '울산시': 1, '10도': 1, '경상북도': 2, '9도': 2, '9': 2, '강원도': 2, '구름조금': 4, '2도': 1, '2': 3, '8도': 3, '8': 4, '충청북도': 1, '전라북도': 1, '전라남도': 2, '11도': 2, '11': 3, '제주자치도': 1, '16도': 1, '16': 1, '4도': 1, '4': 3, '경상남도': 1, '날찌정보': 1, '8897': 1, '펼치기': 1, '현재': 7, '지역': 1, '어제보다': 1, '상세보기': 1, '미세먼지': 1, '통합대기': 1, 'X': 1, '날씨정보': 1, '선택됨': 1, '1탭': 1, '총체적': 1, '난국': 1, '빠진': 1, '로마시민들은': 1, '못살겠다': 1, '故김주혁': 1, '깜짝': 3, '목소리에': 1, '멤버들': 1, '눈물': 2, '일반뉴스': 1, '트럼프': 1, '피츠버그': 1, '총격에': 1, 'quot사악한': 1, '反유대주의': 1, '행위사형받아야quot': 1, 'quot터키군': 1, '미군': 1, '지원': 1, '시리아내': 1, '쿠르드': 1, '민병대': 1, '기지': 1, '포격quot': 1, '사이판': 3, '고립': 1, '한국인': 1, '주말': 1, '580명': 1, '귀국길29일': 1, '대부분': 1, '돌아올': 1, '듯': 2, '직원middot가족만': 1, '배불린': 1, '39빚더미39': 1, '서울의료원': 1, '밤사이': 1, '찬바람출근길': 1, '39따뜻한': 1, '옷차림39': 1, '필수': 1, '카슈끄지': 1, '피살': 1, '사건': 1, '대응': 1, '무기수출': 1, '중단두고': 1, '獨佛': 1, '이견': 1, '노출': 1, '교민': 1, '천9백여': 1, '명quot스스로': 1, '피해': 2, '복구해야quot': 1, '이란': 1, 'quot美': 1, '제재해도': 1, '일일': 1, '100만배럴': 1, '원유': 1, '수출할': 1, '것quot': 1, '매티스': 1, '장관': 1, 'quotINF': 1, '탈퇴에': 1, '관해': 1, '나토동맹과': 1, '최소': 1, '두': 1, '달은': 1, '더': 1, '상의quot': 1, '폴란드': 1, '대통령': 1, 'quot독일': 1, '2차대전': 1, '침공': 1, '배상하지': 1, '않아quot': 1, '최명길·김한길': 1, '부부의': 1, '다정다감': 1, '막내': 1, '아들': 1, '공개': 2, '손으로': 1, '패스': 1, '논란의': 1, '어시스트로': 1, '역전': 1, '성공': 1, '축구가': 1, '아니라': 1, '무에타이': 1, '태국의': 1, '비매너': 1, '반칙': 1, '뉴스홈': 1, '연재': 1, '랭킹': 1, 'TV': 3, '포토': 4, '태풍': 1, '위투': 1, '강타': 1, '탭': 16, '1': 3, 'lt': 4, '이전': 6, 'gt': 4, '1위': 5, '런닝맨': 5, '2위': 5, '박결': 6, '3위': 5, '김영희': 5, '4위': 5, '5위': 5, '허영지': 5, '6위': 5, '7위': 5, '유혜주': 5, '8위': 5, '김연지': 5, '9위': 5, '일월산': 5, '10위': 5, '박수홍': 5, '증시': 2, '휘발유': 1, '169010': 1, '9662': 1, '전일대비': 2, '하락': 1, '010': 1, '달러환율': 1, '114250': 1, '9652': 1, '상승': 19, '450': 1, '관련': 1, '링크모음': 1, '환율': 1, '운세': 1, 'uarr': 18, '116': 2, '112': 2, '104': 2, '92': 2, '73': 2, '67': 2, '57': 4, '신규진입': 2, '52': 2, '20181029': 1, '0503기준': 1, 'X닫기': 1, 'TV하이라이트': 2, '세상이': 2, '놀란': 2, '이야기': 2, '명장면': 2, '소소한': 2, '뷰티': 2, '꿀팁': 3, '따로': 2, '또같이': 1, '동영상': 16, '방송': 1, '최초': 1, '김한길최명길': 1, '러브스토리': 1, '1박': 1, '2일': 1, '시즌3': 1, '故': 1, '김주혁을': 1, '기억하며': 1, '1주기를': 1, '맞아': 1, '마련한': 1, '동물농장': 2, '17년': 1, '역사상': 1, '‘역대급': 1, '천재犬’': 1, '행복이': 1, '슈퍼맨이': 1, '돌아왔다': 1, '제주도': 1, '팀': 1, '몰래': 1, '온': 1, '손님': 1, '그': 1, '정체는': 1, '남자가': 1, '된': 1, '소녀': 1, '성별이': 1, '바뀌는': 1, '마을의': 1, '비밀': 1, '주민들을': 1, '불안에': 1, '떨게': 1, '한': 2, '해변의': 1, '괴사체': 1, '헉': 1, 'UFO': 1, '파편의': 1, '충격적인': 2, '분석': 1, '결과': 1, '검은': 1, '얼굴을': 1, '남자의': 1, '사연': 1, '미사일이': 1, '없는': 1, '강력한': 1, '프리킥': 1, '골': 2, '39무려': 1, '10골39': 1, '폭죽': 1, '터진': 1, '카타르태국': 1, '39첫': 1, '우승의': 1, '순간rsquo': 1, '감격의': 1, '39동점부터': 1, '역전까지39': 1, '2차전': 1, '승리의': 1, '주역': 1, '면봉을': 1, '이용한': 1, '메이크업': 2, '4가지': 1, '똥손도': 1, '할': 1, '수': 1, '있는': 1, '셀프': 1, '앞머리': 1, '커트': 1, '갈라진': 1, '내': 1, '입술': 1, '촉촉하게': 1, '관리하는': 1, '방법': 1, '브러쉬': 1, '세척': 1, '쉽게': 1, '따라': 1, '해봐': 1, '가을에': 1, '해야': 1, '제맛': 1, '분위기': 1, '여신': 1, '등극할': 1, '네일': 1, '비주얼다이브': 1, '신용카드': 1, '사용': 1, '시': 1, '꼭': 1, '필요한': 1, '노하우': 1, '재테크': 1, '탐구생활': 1, '아들의': 1, '부탁으로': 1, '만든': 1, '아빠표': 1, '꿀맛': 1, '요리': 1, 'MichaelKay': 1, '스토리텔러': 2, '워킹맘이라면': 1, '공감할': 1, '고민': 1, '뽀얀': 1, '6': 2, '홈amp쿠킹': 1, '머니': 1, '서경스타즈IR': 1, '삼성바이오로직스': 1, '3공장': 1, '생산': 1, '돌입quot2년내': 1, 'CMO': 1, '매출': 1, '1조quot': 1, '서울경제': 1, '1년에': 1, '4억통즉석밥': 1, '햇반은': 1, '어떻게': 1, '성공했을까': 1, '한겨레': 1, '11월부터': 1, '법정': 1, '최고금리': 1, '내리면': 1, '저축은행': 1, '대출금리': 1, '자동': 1, '인하': 1, '조선비즈': 1, 'quot이middot정middot최middot구의': 1, '선택은quot4대그룹': 1, '인사': 1, '39안정': 1, 'vs': 1, '변화39': 1, '연합뉴스': 1, '韓': 1, '성장률': 1, '미국보다': 1, '못해': 1, '2Q': 1, '연속': 1, '39역전39기업': 1, '투자': 1, '39꽁꽁39': 1, '뉴스1': 1, 'quot같은': 1, '일': 1, '하면서도': 1, '470만원': 1, '차이quot지역별': 1, '차등임금제에': 1, '도시쏠림': 1, '심화': 1, '이동준의': 1, '일본은': 1, '지금': 1, '세계일보': 1, 'quot고학력middot숙련노동자': 1, '39대기업': 1, '쏠림39규모간': 1, '임금격차': 1, '키워quot': 1, '뉴시스': 1, '베스트': 1, 'quot내년': 1, '불경기': 1, '온다quot대형마트': 1, '발길': 1, '끊은': 1, '나도': 1, '모르게': 1, '신용등급': 1, '떨어뜨리는': 1, '7가지': 1, '습': 1, '중국': 2, '결국': 1, '희토류': 1, '무기화': 1, '나설': 1, '이것뿐이야': 1, '스타들이': 1, '공개한': 1, '통장': 1, '잔고': 1, '外人': 1, '삼성전자middot삼성전기middot셀트리온': 1, '집중': 1, '매도': 1, '왜': 1, '39투자': 1, '귀재39': 1, '짐': 1, '로저스': 1, 'quot미국': 1, '주식': 2, '다': 1, '팔고': 1, '샀다quot': 1, 'quot학교': 1, '망하니': 1, '우리도': 1, '망했다quot': 1, '무너져': 1, '내린': 1, '남원': 1, '동물': 1, '스타일': 1, 'Men': 1, '여행맛집': 1, '직장IN': 1, '뮤직': 1, '보기': 4, '추천갤러리': 2, '이미지': 2, '목록': 2, '공지사항': 1, '다음앱이': 1, '새단장을': 1, '했습니다': 1, '소개': 1, '및': 1, '약관': 1, '회사소개': 1, '·': 9, '광고안내': 1, '검색등록': 1, '제휴문의': 1, '인재채용': 1, '서비스약관': 1, '청소년보호정책': 1, '개인정보처리방침': 1, '웹접근성안내': 1, '고객센터': 1, 'Copyright': 1, '©': 1, 'Kakao': 1, 'Corp': 1, 'All': 1, 'rights': 1, 'reserved': 1}\n"
     ]
    },
    {
     "name": "stdout",
     "output_type": "stream",
     "text": [
      "{'Breaking': 1, 'News': 4, 'World': 3, 'Multimedia': 1, 'The': 25, 'New': 13, 'York': 12, 'Times': 8, 'if': 18, 'windowNYTDAbradfphometoggle': 2, '1block': 6, 'var': 12, 'testCookie': 2, 'function': 3, 'name': 2, 'match': 6, 'documentcookiematchnew': 3, 'RegExpname': 3, 'return': 3, 'match1': 3, 'testCookienytgdpr': 2, '1': 4, 'gptScript': 1, 'documentcreateElementscript': 3, 'gptScriptasync': 1, 'async': 2, 'gptScriptsrcwwwgoogletagservicescomtagjsgptjs': 1, 'documentheadappendChildgptScript': 1, 'googletag': 3, 'googletagcmd': 2, 'googletagcmdpushfunction': 1, 'googletagpubadssetRequestNonPersonalizedAds1': 1, 'windowNYTDAbramedianettoggle': 2, 'readCookie': 1, 'functionname': 1, 'Allows': 2, 'medianet': 2, 'user': 1, 'is': 11, 'not': 3, 'from': 8, 'EEA': 1, 'readCookienytgdpr': 1, 'only': 2, 'prebid': 1, 'testing': 1, 'on': 15, 'readCookieab7': 2, 'viprebidheader1': 1, 'mediaScript': 1, 'cid': 1, '8CU2553YN': 2, 'domain': 1, 'wwwnytimescom': 1, 'windowinnerWidth': 2, 'mediaNetCID': 1, 'windowNYTDAbraamazontoggle': 1, 'functiona9apstAgifaa9return': 1, 'qcraa9Qpushcraa9': 1, 'initfunctionqiarguments': 1, 'fetchBidsfunctionqfarguments': 1, 'setDisplayBidsfunction': 1, 'targetingKeysfunctionreturnQ': 1, 'ApcreateElements': 1, 'Aasync0': 1, 'Asrct': 1, 'gpgetElementsByTagNames0': 1, 'gparentNodeinsertBeforeAg': 1, 'apstagwindowdocumentscriptcamazonadsystemcomaax2apstagjs': 1, 'apstaginit': 1, 'pubID': 1, '3030': 1, 'adServer': 1, 'params': 1, 'sisection': 1, 'none': 2, 'windowNYTDAbraindextoggle': 1, 'indexScript': 1, 'indexScriptasync': 1, 'indexScriptsrchttpsjssecindexwwcomhtp183760179626133031071js': 1, 'documentheadappendChildindexScript': 1, 'css6n7j50displayinlinecss1kj7lfbdisplaynonemedia': 1, 'minwidth1024pxcss1kj7lfbdisplayinlineblockmarginright7pxcss10m9xeudisplayblockwidth16pxheight16pxcss10klw3mheight100css1hyfx7xdisplaynonecss1gz70xgborderleft1px': 1, 'solid': 52, 'ccccolor326891height12pxmarginleft8pxpaddingleft8pxcss9e9ivxdisplaynonefontsize10pxmarginleftautotexttransformuppercasehasLinks': 1, 'css9e9ivxdisplayblockmedia': 1, 'minwidth740pxhasLinks': 1, 'css9e9ivxmarginnonepositionabsoluteright20pxmedia': 1, 'minwidth1024pxhasLinks': 1, 'css9e9ivxdisplaynonecss2bwtzydisplayinlineblockpadding6px': 1, '4px': 1, '4pxmarginbottom12pxfontsize12pxborderradius3pxwebkittransitionbackground': 1, '06s': 26, 'easetransitionbackground': 3, 'easecss2bwtzyhoverbackgroundcolorf7f7f7css8pe5zkdisplaynonetextaligncentermedia': 1, 'minwidth1024pxcss8pe5zkdisplayblockcss5wt1bjcolor666webkitletterspacing003emmozletterspacing003emmsletterspacing003emletterspacing003emmargintop2pxcss1vlye70displayinlineblockfontfamilynytfranklinhelveticaarialsansseriffontsize10pxtexttransformuppercasecolor000fontweight500css1vlye70firstchildmarginleft0csslm4ytzdisplayinlineblockfontfamilynytfranklinhelveticaarialsansseriffontsize10pxtexttransformuppercasecolor121212fontweight700cssogiugudisplayinlineblockborderradius3pxpadding7px': 1, '10pxcssogiuguhoverbackgroundcolorf7f7f7media': 1, 'minwidth1024pxcssogiugupadding7px': 1, '8px': 2, '6pxwebkittransitionbackground': 1, 'easecssstscvmdisplaynonemedia': 1, 'minwidth1024pxcssstscvmdisplayblockmargintop15pxmedia': 1, 'minwidth1024pxcss158f1cvtextaligncentercss1vxc2slwebkitalignitemscenterwebkitboxaligncentermsflexaligncenteralignitemscenterdisplaywebkitboxdisplaywebkitflexdisplaymsflexboxdisplayflexwebkitboxpackjustifywebkitjustifycontentspacebetweenmsflexpackjustifyjustifycontentspacebetweenpadding5px': 1, '0': 74, '4pxcsscwdrlddisplayinlineblockfontfamilynytfranklinhelveticaarialsansseriffontsize075remlineheight1remfontweight500css1wjnrbvborderradius3pxdisplayinlineblockpadding4pxwebkittransitionbackground': 1, 'easeverticalalignmiddlecss1wjnrbvhovercss1wjnrbvfocusbackgroundcolorf7f7f7csswcsx9owidth14pxheight17pxmargin1px': 1, '0padding0': 1, '4pxcss1hd1ne6width16pxheight16pxpadding0': 1, '4pxbackgroundcolorfffcss1k9ek97backgroundcolorfffcssvz7hjdborder0webkitcliprect0': 1, '0cliprect0': 2, '0height1pxmargin1pxoverflowhiddenpadding0positionabsolutewidth1pxcss1fe7a5qdisplayinlineblockheight16pxverticalalignsubwidth16pxcss1rn5q1rborder0webkitcliprect0': 1, '0height1pxmargin1pxoverflowhiddenpadding0positionabsolutewidth1pxborderradius3pxcursorpointerfontfamilynytfranklinhelveticaarialsansserifwebkittransitionease': 1, '06stransitionease': 7, '06sbackgroundcolortransparentcolor000fontsize11pxfontweight700webkitletterspacing002emmozletterspacing002emmsletterspacing002emletterspacing002empadding7px': 4, '9px': 8, '9pxbackgroundfffdisplayinlineblockleft44pxtexttransformuppercasewebkittransitionnonetransitionnonecss1rn5q1ractivecss1rn5q1rfocuswebkitclipautoclipautooverflowvisiblewidthautoheightautocss1rn5q1rmozfocusinnerpadding0border0css1rn5q1rmozfocusringoutline1px': 1, 'dottedcss1rn5q1rdisabledcss1rn5q1rdisabledopacity05cursordefaultcss1rn5q1ractivecss1rn5q1ractivebackgroundcolorf7f7f7media': 1, 'minwidth740pxcss1rn5q1rhoverbackgroundcolorf7f7f7css1rn5q1rfocusmargintop3pxpadding8px': 1, '6pxmedia': 2, 'minwidth1024pxcss1rn5q1rleft112pxcss10488qsdisplaynonemedia': 1, 'minwidth1024pxcss10488qsdisplayinlineblockpositionrelativecsswu78iopositionfixedtop120pxleft0width100height120pxzindex100001backgroundfffcsskp204gboxshadow0px': 1, '0px': 1, '5px': 1, '1px': 2, 'rgba000028backgroundfffpositionfixedwidth100webkittransformtranslateY70pxmstransformtranslateY70pxtransformtranslateY70pxtop0left0zindex100000webkittransition05s': 1, 'cubicbezier02310321transition05s': 1, 'cubicbezier02310321css1llhclmmargin0': 1, 'autopadding0': 2, '3maxwidth1200pxwhitespacenowrapcss1iruc8tliststylenonemargin0padding0css1ropbjlbeforebackgroundcolorwhiteborderbottom1px': 1, 'e2e2e2bordertop2px': 1, 'e2e2e2contentdisplayblockheight1pxmargintop0media': 1, 'minwidth1150pxcss1ropbjlmargin0': 1, 'automaxwidth1200pxpadding0': 1, '3': 2, '9pxNYTApp': 1, 'css1ropbjldisplaynonemedia': 1, 'printcss1ropbjldisplaynonecssuw59upadding0': 1, '20pxmedia': 1, 'minwidth740pxcssuw59upadding0': 1, '3media': 2, 'minwidth1150pxcssuw59upadding0cssjxzr5idisplaywebkitboxdisplaywebkitflexdisplaymsflexboxdisplayflexwebkitflexflowrowmsflexflowrowflexflowrowcssoylsikdisplayblockheight44pxverticalalignmiddlewidth184pxcssqtw155displayblockmedia': 1, 'minwidth1150pxcssqtw155displaynonecssv0l3hmdisplaynonemedia': 1, 'minwidth1150pxcssv0l3hmdisplayblockcssg4gku8displaywebkitboxdisplaywebkitflexdisplaymsflexboxdisplayflexmargintop10pxminwidth600pxcss1rr4qq7webkitflex1msflex1flex1css6xhk3sborderleft1px': 1, 'e2e2e2webkitflex1msflex1flex1paddingleft15pxcssrxqrclcolor333fontsize13pxfontweight700fontfamilynytfranklinheight25pxlineheight15pxmargin0texttransformuppercasewidth150pxcsstj0tenmarginbottom5pxwhitespacenowrapcsstj0tenlastchildmarginbottom10pxcssist4u3desktopdisplaynonemedia': 1, 'minwidth740pxcssist4u3desktopdisplayblockcssist4u3smartphonedisplaynonecss1gprdgzliststylenonemargin0padding0webkitcolumns2columns2padding0': 1, '15pxcss10t7hiaheight34pxlineheight34pxliststyletypenonecss10t7hiadesktopdisplaynonemedia': 1, 'minwidth740pxcss10t7hiadesktopdisplayblockcss10t7hiasmartphonedisplaynonecssmzqdlcolor333displayblockfontfamilynytfranklinfontsize15pxfontweight500height34pxlineheight34pxwebkittextdecorationnonetextdecorationnonetexttransformcapitalizecsskwpx34color000displayinlineblockfontfamilynytfranklinwebkittextdecorationnonetextdecorationnonetexttransformcapitalizewidth150pxfontsize14pxfontweight500height23pxlineheight16pxcsskwpx34hovercursorpointerwebkittextdecorationunderlinetextdecorationunderlinebodydark': 1, 'csskwpx34colorfffcss1k2cjfccolor000displayinlineblockfontfamilynytfranklinwebkittextdecorationnonetextdecorationnonetexttransformcapitalizewidth150pxfontsize16pxfontweight700height25pxlineheight15pxpaddingbottom0css1k2cjfchovercursorpointerwebkittextdecorationunderlinetextdecorationunderlinebodydark': 1, 'css1k2cjfccolorfffcss1vhk1kscolor000displayinlineblockfontfamilynytfranklinwebkittextdecorationnonetextdecorationnonetexttransformcapitalizewidth150pxfontsize11pxfontweight500height23pxlineheight21pxcss1vhk1kshovercursorpointerwebkittextdecorationunderlinetextdecorationunderlinebodydark': 1, 'css1vhk1kscolorfffcss6td9krliststylenonemargin0padding0bordertop1px': 1, 'e2e2e2margintop2pxpaddingtop10pxcssr5ic95displayinlineblockheight13pxwidth13pxmarginright7pxverticalalignmiddlecss15uy5yvbordertop1px': 1, 'ebebebpaddingtop9pxcss1p8nkc0color999fontfamilynytfranklinhelveticaarialsansserifpadding10px': 1, '0webkittextdecorationnonetextdecorationnonewhitespacenowrapcss1p8nkc0hoverwebkittextdecorationunderlinetextdecorationunderlinecsszjzyr8width100backgroundcolorf7f7f5webkitkeyframes': 1, 'animation1m9j9gffrombackgroundcolorf7f7f5tobackgroundcolortransparentkeyframes': 1, 'animation1m9j9gffrombackgroundcolorf7f7f5tobackgroundcolortransparentwebkitkeyframes': 1, 'animation1egl8emfromopacity0webkittransformtranslate3d0130mstransformtranslate3d0130transformtranslate3d0130toopacity1webkittransformtranslate3d000mstransformtranslate3d000transformtranslate3d000keyframes': 1, 'animation1egl8emfromopacity0webkittransformtranslate3d0130mstransformtranslate3d0130transformtranslate3d0130toopacity1webkittransformtranslate3d000mstransformtranslate3d000transformtranslate3d000csssqdgy8border0overflowhiddenwidth1pxminwidth100css191iepddisplayblockmargin0': 1, 'autolineheight0webkitkeyframes': 1, 'animation1b9egsl0webkittransformrotate20degmstransformrotate20degtransformrotate20deg100webkittransformrotate380degmstransformrotate380degtransformrotate380degkeyframes': 1, 'animation1b9egsl0webkittransformrotate20degmstransformrotate20degtransformrotate20deg100webkittransformrotate380degmstransformrotate380degtransformrotate380degwebkitkeyframes': 1, 'animationf8wsfj0opacity150opacity0100opacity0keyframes': 1, 'animationf8wsfj0opacity150opacity0100opacity0webkitkeyframes': 1, 'animationmhvv8m0opacity050opacity0100opacity1keyframes': 1, 'animationmhvv8m0opacity050opacity0100opacity1media': 1, 'printcss1kz2g4omarginbottom15pxcss1waixk9backgroundfffborderbottom1px': 1, 'e2e2e2height36pxpadding8px': 1, '15px': 20, '3pxpositionrelativemedia': 1, 'minwidth740pxcss1waixk9backgroundfffpadding10px': 1, 'minwidth1024pxcss1waixk9backgroundtransparentborderbottom0padding4px': 1, '2pxmedia': 1, 'printcss1waixk9backgroundtransparentmedia': 1, 'minwidth740pxmedia': 1, 'minwidth1024pxcss1waixk9margin0': 1, 'automaxwidth1605pxcssl2zticborderradius3pxcursorpointerfontfamilynytfranklinhelveticaarialsansserifwebkittransitionease': 1, '9pxborder0padding8px': 1, '9pxtexttransformuppercasecssl2ztichiddenopacity0visibilityhiddencssl2ztichiddenfocusopacity1cssl2zticmozfocusinnerpadding0border0cssl2zticmozfocusringoutline1px': 1, 'dottedcssl2zticdisabledcssl2zticdisabledopacity05cursordefaultcssl2zticactivecssl2zticactivebackgroundcolorf7f7f7media': 1, 'minwidth740pxcssl2ztichoverbackgroundcolorf7f7f7media': 1, 'minwidth1024pxcssl2zticdisplaynonecss19lv58hborderradius3pxcursorpointerfontfamilynytfranklinhelveticaarialsansserifwebkittransitionease': 1, '06swebkitappearancebuttonmozappearancebuttonappearancebuttonbackgroundcolorfffborder1px': 1, 'ebebebcolor333displayinlineblockfontsize11pxfontweight500webkitletterspacing002emmozletterspacing002emmsletterspacing002emletterspacing002emlineheight13pxmargin0padding8px': 1, '9pxtexttransformuppercaseverticalalignmiddledisplaynonecss19lv58hmozfocusinnerpadding0border0css19lv58hmozfocusringoutline1px': 1, 'dottedcss19lv58hdisabledcss19lv58hdisabledopacity05cursordefaultcss19lv58hactivecss19lv58hactivebackgroundcolorf7f7f7media': 1, 'minwidth740pxcss19lv58hhoverbackgroundcolorf7f7f7media': 1, 'minwidth1024pxcss19lv58hborder0displayinlineblockmarginright8pxcssmgtjo2borderradius3pxcursorpointerfontfamilynytfranklinhelveticaarialsansserifwebkittransitionease': 1, '9pxborder0cssmgtjo2mozfocusinnerpadding0border0cssmgtjo2mozfocusringoutline1px': 1, 'dottedcssmgtjo2disabledcssmgtjo2disabledopacity05cursordefaultcssmgtjo2activecssmgtjo2activebackgroundcolorf7f7f7media': 1, 'minwidth740pxcssmgtjo2hoverbackgroundcolorf7f7f7cssmgtjo2activeSearchButtonbackgroundcolorf7f7f7media': 1, 'minwidth1024pxcssmgtjo2padding8px': 1, '9pxcssnhjhh0displayblockwidth189pxheight26pxmargin5px': 1, 'auto': 6, '0media': 8, 'minwidth740pxcssnhjhh0width225pxheight31pxmargin4px': 1, 'minwidth1024pxcssnhjhh0width195pxheight26pxmargin6px': 1, '0css1bnxwmnborderradius3pxcursorpointerfontfamilynytfranklinhelveticaarialsansserifwebkittransitionease': 1, '06sbackgroundcolor6288a5border1px': 2, '326891colorffffontsize11pxfontweight700webkitletterspacing005emmozletterspacing005emmsletterspacing005emletterspacing005emlineheight11pxpadding8px': 2, '6pxtexttransformuppercasecss1bnxwmnmozfocusinnerpadding0border0css1bnxwmnmozfocusringoutline1px': 1, 'dottedcss1bnxwmndisabledcss1bnxwmndisabledopacity05cursordefaultmedia': 1, 'minwidth740pxcss1bnxwmnhoverbackgroundcolor326891media': 1, 'minwidth1024pxcss1bnxwmnpadding11px': 1, '12px': 2, '8pxcss1bnxwmnhoverborder1px': 1, '326891css1nkps6aheight100displaynonecss1i8g3m4borderradius3pxcursorpointerfontfamilynytfranklinhelveticaarialsansserifwebkittransitionease': 1, '9pxborder0displayblockcss1i8g3m4hiddenopacity0visibilityhiddencss1i8g3m4hiddenfocusopacity1css1i8g3m4mozfocusinnerpadding0border0css1i8g3m4mozfocusringoutline1px': 1, 'dottedcss1i8g3m4disabledcss1i8g3m4disabledopacity05cursordefaultcss1i8g3m4activecss1i8g3m4activebackgroundcolorf7f7f7media': 1, 'minwidth740pxcss1i8g3m4hoverbackgroundcolorf7f7f7media': 1, 'minwidth740pxcss1i8g3m4bordernonelineheight13pxpadding9px': 1, '12pxmedia': 1, 'minwidth1024pxcss1i8g3m4displaynonemedia': 1, 'minwidth1150pxcss1uqjmkscolor121212fontsize12pxfontfamilynytfranklinhelveticaarialsansseriffontweight500displaynonemedia': 1, 'minwidth740pxcss1uqjmksmargin0positionabsoluteleft20pxdisplaywebkitboxdisplaywebkitflexdisplaymsflexboxdisplayflextop0bottom0media': 1, 'minwidth1024pxcss1uqjmksdisplaynonecssmn5hq9cursorpointermargin0bordertop1px': 1, 'ebebebcolor333fontfamilynytfranklinfontsize13pxfontweight700height44pxwebkitletterspacing004remmozletterspacing004remmsletterspacing004remletterspacing004remlineheight44pxtexttransformuppercaseaccordionExpanded': 1, 'cssmn5hq9colorb3b3b3css1mahq3mfontsize11pxtextaligncentermedia': 1, 'minwidth740pxcss1mahq3mpadding0': 1, '9pxmedia': 1, 'minwidth1150pxcss1mahq3mmargin0': 1, 'automaxwidth1200pxNYTApp': 1, 'css1mahq3mdisplaynonemedia': 1, 'printcss1mahq3mdisplaynonecss1ho5u4oliststylenonemargin0': 1, '15pxpadding0media': 1, 'minwidth600pxcss1ho5u4odisplayinlineblockcss13o0c9tliststylenonelineheight8pxmargin0': 1, '35pxpadding0media': 1, 'minwidth600pxcss13o0c9tdisplayinlineblockcss1yo489bdisplayinlineblocklineheight20pxpadding0': 1, '10pxcss1yo489bfirstchildborderleftnonecss1yo489bdesktopdisplaynonemedia': 1, 'minwidth740pxcss1yo489bsmartphonedisplaynonecss1yo489bdesktopdisplayinlineblockcss1xaqckymarginbottom11pxmedia': 1, 'minwidth1024pxcssahe4g0positionrelativeborderbottomnonemedia': 1, 'minwidth1024pxcssahe4g0margin0': 1, 'minwidth1150pxcssahe4g0marginautopadding0': 1, '3maxwidth1200pxcssqo6pndisplaywebkitboxdisplaywebkitflexdisplaymsflexboxdisplayflexwebkitboxpackspacearoundwebkitjustifycontentspacearoundmsflexpackspacearoundjustifycontentspacearoundleft10pxpositionabsolutemedia': 1, 'minwidth1024pxcssqo6pnleft0media': 1, 'printcssqo6pndisplaynonecsspbg2l9displaywebkitboxdisplaywebkitflexdisplaymsflexboxdisplayflexwebkitboxpackspacearoundwebkitjustifycontentspacearoundmsflexpackspacearoundjustifycontentspacearoundpositionabsoluteright10pxtop9pxmedia': 1, 'minwidth1024pxcsspbg2l9top4pxright0media': 1, 'printcsspbg2l9displaynonecss1jablmbpositionrelativeminheight90pxwidth100overflowhiddencsse4gm3yheight15pxmedia': 1, 'minwidth740pxcsse4gm3ydisplaynonecssmky99g': 1, 'imgdisplayblockcssomcqsqmarginbottom7pxcss1nl6p6mpadding0': 1, '25px': 6, '25pxmedia': 2, 'minwidth740pxcss1nl6p6mpadding0css6p6lnlpadding20px': 1, 'minwidth740pxcss6p6lnlpadding0cssgeek62displaywebkitboxdisplaywebkitflexdisplaymsflexboxdisplayflexwebkitalignitemscenterwebkitboxaligncentermsflexaligncenteralignitemscenterwebkitboxpackstartwebkitjustifycontentflexstartmsflexpackstartjustifycontentflexstartcss15poin4marginbottom15pxcss180b3ldbackgroundcolorfffwidth100css1ee8y2tdisplaywebkitboxdisplaywebkitflexdisplaymsflexboxdisplayflexwebkitalignitemsflexstartwebkitboxalignflexstartmsflexalignflexstartalignitemsflexstartcss1ee8y2t': 1, 'width100css7xxagkbackgroundcolorf7f7f7height30pxmedia': 1, 'minwidth740pxcss7xxagkdisplaynonecss1rufx8umargintop14pxbordertop1px': 1, 'e2e2e2paddingtop14pxwebkitkeyframes': 1, 'animation7y3qfv0opacity01090opacity1100opacity0keyframes': 1, 'animation7y3qfv0opacity01090opacity1100opacity0media': 1, 'minwidth740pxcssavqkzcborderbottom1px': 1, 'double': 2, '121212paddingbottom2pxcssavqkzcaftercontentborderbottom1px': 1, '121212displayblockmedia': 1, 'minwidth740pxcssxxhlrrdisplaywebkitboxdisplaywebkitflexdisplaymsflexboxdisplayflexwebkitalignitemscenterwebkitboxaligncentermsflexaligncenteralignitemscenterpadding5px': 1, '0width100media': 1, 'minwidth1024pxcssxxhlrrwebkitalignitemsstretchwebkitboxalignstretchmsflexalignstretchalignitemsstretchcss18bs8bjborderbottom1px': 1, 'e2e2e2media': 4, 'minwidth740pxcss18bs8bjdisplaywebkitboxdisplaywebkitflexdisplaymsflexboxdisplayflexwebkitalignitemscenterwebkitboxaligncentermsflexaligncenteralignitemscenterborderright1px': 1, 'e2e2e2borderbottomnonepadding0': 1, '15pxwidth100css18bs8bjfirstchildpaddingleft0css18bs8bjlastchildpaddingright0borderrightnonemedia': 1, 'minwidth1024pxcss18bs8bjlastchildpaddingright15pxborderright1px': 1, 'minwidth740pxcss1om4z5cdisplaywebkitboxdisplaywebkitflexdisplaymsflexboxdisplayflexwebkitaligncontentcentermsflexlinepackcenteraligncontentcenterwidth100css1y8l3jcdisplaynonemedia': 1, 'minwidth1024pxcss1y8l3jcdisplaywebkitboxdisplaywebkitflexdisplaymsflexboxdisplayflexwebkitaligncontentcentermsflexlinepackcenteraligncontentcentermedia': 1, 'minwidth1024pxcss7utnqvborderright1px': 1, 'e2e2e2displaywebkitboxdisplaywebkitflexdisplaymsflexboxdisplayflexwebkitalignitemscenterwebkitboxaligncentermsflexaligncenteralignitemscenterwidth100media': 1, 'minwidth1024pxcss1hesgbmdisplaywebkitboxdisplaywebkitflexdisplaymsflexboxdisplayflexwebkitalignitemscenterwebkitboxaligncentermsflexaligncenteralignitemscenterwidth100media': 1, 'minwidth740pxcss1ycuf8aminheight71pxcss1ycuf8a': 1, 'minheight71pxcss1ycuf8a': 1, 'css18bs8bjnthchild2width75media': 1, 'minwidth1024pxcss1ycuf8a': 1, 'css1y8l3jcdisplaywebkitboxdisplaywebkitflexdisplaymsflexboxdisplayflexwebkitflexdirectioncolumnmsflexdirectioncolumnflexdirectioncolumnwebkitboxpackcenterwebkitjustifycontentcentermsflexpackcenterjustifycontentcenterwidth218paddingleft15pxcss1ycuf8a': 1, 'css7utnqvborderrightnonewebkitorder1msflexorder1order1media': 1, 'minwidth1150pxcss1ycuf8a': 1, 'css18bs8bjnthchild2width100css1ycuf8a': 1, 'css1y8l3jcdisplaywebkitboxdisplaywebkitflexdisplaymsflexboxdisplayflexwebkitflexdirectionrowmsflexdirectionrowflexdirectionrowwebkitboxpackunsetwebkitjustifycontentunsetmsflexpackunsetjustifycontentunsetwidth31paddingleft0css1ycuf8a': 1, 'css7utnqvborderright1px': 1, 'e2e2e2webkitorder0msflexorder0order0padding0': 1, '15pxcss1ycuf8a': 1, 'css1hesgbmpaddingleft15pxcssc7fqqsdisplayinlineblockcssc7fqqshoveropacity066cssc7fqqs': 1, 'svgwebkittransformtranslateY1pxmstransformtranslateY1pxtransformtranslateY1pxcssz49qw6borderbottom1px': 1, 'e2e2e2positionrelativecssb6wrwh': 1, 'cssz49qw6nthchildn4displaynonemedia': 1, 'minwidth740pxcssb6wrwh': 1, 'cssz49qw6nthchildn4displayblockmedia': 1, 'minwidth740pxcssb6wrwhdisplaywebkitboxdisplaywebkitflexdisplaymsflexboxdisplayflexwebkitflexwrapwrapmsflexwrapwrapflexwrapwrapcssb6wrwh': 1, 'cssz49qw6nthchildn4displayblockcssb6wrwh': 1, 'cssz49qw6widthcalc100': 1, '58px': 1, '3padding14pxcssb6wrwh': 1, 'cssz49qw6nthchild3n1padding14px': 1, '14px': 6, '0cssb6wrwh': 3, 'cssz49qw6nthchild3n2padding14px': 1, '15pxcssb6wrwh': 1, 'cssz49qw6nthchild3n3padding14px': 3, '14pxcssb6wrwh': 1, 'cssz49qw6nthchildn7borderbottomnonepaddingbottom0cssb6wrwh': 1, 'cssz49qw6nthchild3n2beforecontentpositionabsolutebackgrounde2e2e2top14pxleft0bottom14pxwidth1pxcssb6wrwh': 1, 'cssz49qw6nthchild3n2aftercontentpositionabsolutebackgrounde2e2e2top14pxright0bottom14pxwidth1pxcssb6wrwh': 1, 'cssz49qw6nthchild8beforecssb6wrwh': 1, 'cssz49qw6nthchild8afterbottom0media': 1, 'minwidth1024pxcssb6wrwhdisplayblockcssb6wrwh': 1, 'cssz49qw6width100cssb6wrwh': 1, 'cssz49qw6cssb6wrwh': 3, 'cssz49qw6nthchild3n1cssb6wrwh': 2, 'cssz49qw6nthchild3n2cssb6wrwh': 2, 'cssz49qw6nthchildn7borderbottom1px': 1, 'e2e2e2paddingbottom14pxcssb6wrwh': 1, 'cssz49qw6nthchild3n2beforecssb6wrwh': 1, 'cssz49qw6nthchild3n2afterdisplaynonecssb6wrwh': 1, 'cssz49qw6lastchildpaddingbottom0borderbottomnonemedia': 1, 'minwidth1150pxcssb6wrwhwebkittransformtranslateY1pxmstransformtranslateY1pxtransformtranslateY1pxwebkitcolumncount2columncount2webkitcolumngap29pxcolumngap29pxpositionrelativecssb6wrwhbeforecontentdisplayblockpositionabsolutetop14pxbottom14pxleft50width1pxbackgrounde2e2e2cssb6wrwh': 1, 'cssz49qw6webkitbreakinsideavoidbreakinsideavoidwebkitcolumnbreakinsideavoidcolumnbreakinsideavoiddisplaywebkitinlineboxdisplaywebkitinlineflexdisplaymsinlineflexboxdisplayinlineflexcssb6wrwh': 1, 'cssz49qw6nthchildn7borderbottomnonebordertop1px': 1, 'minwidth740pxcss7lflcbpaddingbottom24pxborderbottom1px': 1, '121212media': 1, 'minwidth1024pxcssey509fdisplaywebkitboxdisplaywebkitflexdisplaymsflexboxdisplayflexwebkitflexwrapwrapmsflexwrapwrapflexwrapwrapheight100supports': 1, 'displaygridcssey509fdisplaygridgridtemplatecolumns4fr': 1, '1frgridgap40px': 1, 'minwidth1150pxcssey509fdisplaytabletablelayoutfixedwidth100height100supports': 1, 'displaygridcssey509fwidthinheritdisplaygridgridtemplatecolumns2fr': 1, '1frgridtemplaterowsauto': 2, '1frgridgap0media': 2, 'minwidth1024pxcss1n9n422paddingright15pxborderright1px': 1, 'e2e2e2webkitflexbasiscalc80': 1, '16pxmsflexpreferredsizecalc80': 2, '16pxflexbasiscalc80': 2, '16pxmarginbottom40pxsupports': 2, 'displaygridcss1n9n422marginbottom0media': 1, 'minwidth1150pxcss1n9n422width65displaytablecellverticalaligntopsupports': 1, 'displaygridcss1n9n422widthinheritdisplayblockgridrowspan': 1, '2media': 3, 'minwidth1024pxcss717c4spaddingleft15pxwebkitflexbasiscalc20': 1, '15pxmsflexpreferredsizecalc20': 1, '15pxflexbasiscalc20': 1, '15pxmedia': 1, 'minwidth740pxcss1yuan6hdisplaywebkitboxdisplaywebkitflexdisplaymsflexboxdisplayflexwebkitflexdirectioncolumnmsflexdirectioncolumnflexdirectioncolumnmedia': 1, 'minwidth740pxcssitui89webkitorder2msflexorder2order2media': 1, 'minwidth1024pxcsszygc9ndisplaywebkitboxdisplaywebkitflexdisplaymsflexboxdisplayflexwebkitflexwrapwrapmsflexwrapwrapflexwrapwrapheight100supports': 1, 'displaygridcsszygc9ndisplaygridgridtemplatecolumns17fr': 1, '4frgridgap40px': 1, 'minwidth1150pxcsszygc9ndisplaytabletablelayoutfixedwidth100height100marginbottom40pxsupports': 1, 'displaygridcsszygc9nwidthinheritdisplaygridgridtemplatecolumns2fr': 1, 'minwidth1024pxcssjbmajzpaddingright15pxborderright1px': 1, 'cccwebkitflexbasiscalc80': 1, 'displaygridcssjbmajzmarginbottom0media': 1, 'minwidth1150pxcssjbmajzwidth65displaytablecellverticalaligntopsupports': 1, 'displaygridcssjbmajzwidthinheritdisplayblockgridrowspan': 1, 'minwidth1024pxcssie51lkwidth100supports': 1, 'displaygridcssie51lkgridcolumnspan': 1, 'minwidth1150pxcssie51lkpaddingleft15pxsupports': 1, 'displaygridcssie51lkwidthinheritgridcolumnspan': 1, '1css1qo9wc0fontfamilynytfranklinfontweight300fontsize0875remdisplaywebkitboxdisplaywebkitflexdisplaymsflexboxdisplayflexwebkitalignitemscenterwebkitboxaligncentermsflexaligncenteralignitemscenterwebkitboxpackcenterwebkitjustifycontentcentermsflexpackcenterjustifycontentcentercolorfffmedia': 1, 'minwidth1024pxcss1qo9wc0fontsize1remcss1qo9wc0': 1, 'afontweight700colorfffmarginleft6pxmarginright6pxverticalalignmiddlecss1vv8nt6positionabsoluteright15pxtop14pxcursorpointerbackgroundtransparentcss2ejkuiheight15pxwidth15pxbodyoverflowxhiddenmedia': 1, 'minwidth740pxcssrpp6l6positionrelativewidth100vwleft50right50marginleft50vwmarginright50vwcssf5opktbackgroundcolorf7f7f7bordertop1px': 1, 'e2e2e2paddingbottom15pxpaddingtop15pxminheight250pxmedia': 1, 'minwidth740pxcssf5opktborderbottom1px': 1, 'f3f3f3bordertop1px': 1, 'f3f3f3bordertop0borderbottom1px': 1, 'e2e2e2css1d8a290bordertop1px': 1, 'ebebebpadding0': 1, '60pxdisplaynoneborderbottom1px': 1, '000media': 1, 'minwidth1024pxcss1d8a290displayblockcss8xdxq2textaligncentermedia': 1, 'minwidth740pxcss8xdxq2paddingtop0media': 1, 'minwidth1024pxcss8xdxq2displaynonemedia': 1, 'printcss8xdxq2': 1, 'ahrefaftercontentcss8xdxq2': 1, 'svgfillblackcss1fhe54bborderradius3pxcursorpointerfontfamilynytfranklinhelveticaarialsansserifwebkittransitionease': 1, '6pxtexttransformuppercasedisplaynonecss1fhe54bmozfocusinnerpadding0border0css1fhe54bmozfocusringoutline1px': 1, 'dottedcss1fhe54bdisabledcss1fhe54bdisabledopacity05cursordefaultmedia': 1, 'minwidth740pxcss1fhe54bhoverbackgroundcolor326891media': 1, 'minwidth1024pxcss1fhe54bpadding11px': 1, '8pxcss1fhe54bhoverborder1px': 1, '326891media': 1, 'minwidth1024pxcss1fhe54bdisplayinlineblockcss1ot77nxwebkitalignitemscenterwebkitboxaligncentermsflexaligncenteralignitemscenterdisplaywebkitboxdisplaywebkitflexdisplaymsflexboxdisplayflexfontfamilynytfranklinhelveticaarialsansseriffontsize11pxwebkitboxpackspacearoundwebkitjustifycontentspacearoundmsflexpackspacearoundjustifycontentspacearoundpadding13px': 1, '20px': 1, '10pxborderbottom1px': 1, 'e2e2e2backgroundcolorf7f7f7media': 1, 'minwidth740pxcss1ot77nxbackgroundcolorfffmedia': 1, 'minwidth740pxcss1ot77nxpositionrelativemedia': 1, 'minwidth1024pxcss1ot77nxwebkitboxpackjustifywebkitjustifycontentspacebetweenmsflexpackjustifyjustifycontentspacebetweenbordernonepadding0height0webkittransformtranslateY42pxmstransformtranslateY42pxtransformtranslateY42pxmedia': 1, 'printcss1ot77nxdisplaynonecssbpgv3scolor121212fontsize13pxfontfamilynytfranklinhelveticaarialsansserifdisplaynonewidthautodisplayblockmedia': 1, 'minwidth740pxcssbpgv3stextaligncenterwidth100media': 1, 'minwidth1024pxcssbpgv3sfontsize12pxmarginbottom10pxwidthautocssbfvq22displaynonemedia': 1, 'minwidth1024pxcssbfvq22displayblockcss118ydgpdisplayblockwidth189pxheight26pxmargin4px': 1, 'minwidth740pxcss118ydgpwidth225pxheight31pxmargin3px': 1, 'minwidth1024pxcss118ydgpwidth430pxheight58pxmargin6px': 1, 'autocss1q91fy6margin0': 1, 'automedia': 1, 'minwidth740pxcss1q91fy6padding0': 1, '3margin18px': 1, '0margintop0media': 1, 'minwidth1150pxcss1q91fy6maxwidth1200pxcss18fz8oqpositionrelativemedia': 1, 'minwidth740pxcss18fz8oqmarginbottom18pxmedia': 1, 'minwidth1150pxcss1j836f9positionrelativelineheight08125remcss1j836f9lastchild': 1, 'esl82me2marginbottom0media': 2, 'minwidth740pxcss1j836f9lineheight03125remcss1qzcsbfontweight700webkitletterspacing02pxmozletterspacing02pxmsletterspacing02pxletterspacing02pxmargintop3pxwebkittransitioncolor': 1, 'easetransitioncolor': 10, 'easecolor121212fontsize2remlineheight2125remfontfamilynytcheltenhamfontweight700marginbottom21pxwebkitfontsmoothingantialiasedmozosxfontsmoothinggrayscalemargintop7pxtextaligncenterfontweight700fontstyleitalicassetWrapperhover': 1, 'css1qzcsbcolor666css1aew2ebborderbottom0borderbottom1px': 1, 'e2e2e2css1aew2eb': 1, 'borderbottom1px': 1, 'e2e2e2css1aew2eblastchildcss1aew2eb': 1, 'lastchildborderbottom0media': 1, 'minwidth740pxcss1aew2ebpaddingbottom10pxmarginbottom14pxcss1aew2eb': 1, 'paddingbottom14px': 1, 'importantmarginbottom14px': 1, 'importantcss1aew2eblastchildcss1aew2eb': 1, 'lastchildmarginbottom0': 1, 'importantpaddingbottom0': 1, 'importantcssw4yrtcpositionrelativedisplaywebkitboxdisplaywebkitflexdisplaymsflexboxdisplayflexcss1yoguk1webkitflex7': 1, '7msflex7': 1, '7flex7': 1, '7minheight0minwidth0webkitflexbasis217pxmsflexpreferredsize217pxflexbasis217pxwidth100borderleft1px': 1, 'e2e2e2css1yoguk1firstchildborderleft0css1yoguk1': 1, 'padding0': 36, '15pxheight100css1yoguk1firstchildwebkitflexbasis2015pxmsflexpreferredsize2015pxflexbasis2015pxcss1yoguk1firstchild': 1, '0css1yoguk1lastchildwebkitflexbasis2015pxmsflexpreferredsize2015pxflexbasis2015pxcss1yoguk1lastchild': 1, '15pxcss1yoguk1onlychildwebkitflexbasis0msflexpreferredsize0flexbasis0css1yoguk1onlychild': 1, 'padding0media': 12, 'minwidth740pxcss1yoguk1': 1, 'lastchildpaddingbottom0css1yoguk1': 1, 'lastchildmarginbottom0paddingbottom0media': 12, 'minwidth1150pxcssqvz0vjpaddingright0': 1, 'importantcss1vwlksufontfamilynytimperialfontsize1remlineheight1375remfontstylenormalwebkitletterspacing01pxmozletterspacing01pxmsletterspacing01pxletterspacing01pxcolor555webkittransitioncolor': 1, 'easemedia': 2, 'minwidth740pxcss1vwlksufontsize0875remlineheight11875remmedia': 1, 'minwidth1024pxassetWrapperhover': 2, 'css1vwlksucolor666css1vwlksu': 1, 'limargintop6pxpositionrelativefontfamilynytimperialfontsize1remlineheight1375remcss1vwlksu': 1, 'libeforewidth3pxheight3pxborderradius3pxleft8pxtop7pxcontentdisplayblockbackground666positionabsolutecss1vwlksu': 1, 'lifirstchildmargintop0media': 1, 'minwidth740pxcss1vwlksu': 1, 'lifontsize09375remlineheight125remcss1vwlksu': 1, 'libeforetop7pxmedia': 1, 'minwidth1024pxcss1vwlksu': 1, 'lifontsize0875remlineheight11875remcssg12q88clearbothpadding20px': 1, '0displaywebkitboxdisplaywebkitflexdisplaymsflexboxdisplayflexwebkitboxpackjustifywebkitjustifycontentspacebetweenmsflexpackjustifyjustifycontentspacebetweenmedia': 1, 'minwidth740pxcssg12q88webkitboxpackstartwebkitjustifycontentflexstartmsflexpackstartjustifycontentflexstartpadding10px': 1, 'minwidth1150pxcssg12q88padding7px': 1, '0cssna047mfontsize0875remlineheight10625remfontfamilynytfranklinfontweight500webkitletterspacing03pxmozletterspacing03pxmsletterspacing03pxletterspacing03pxcolor999media': 1, 'minwidth740pxcssna047mfontsize075remwebkitalignselfflexstartmsflexitemalignstartalignselfflexstartcss17h6617displayinlineblockwhitespaceprefontsize0875remlineheight1remfontfamilynytfranklinfontweight500color999colorundefinedmedia': 1, 'minwidth740pxcss17h6617fontsize075remcss17h6617': 1, 'newsStatustexttransformcapitalizemarginright9pxcss8uvv5ffontweight700webkitletterspacing02pxmozletterspacing02pxmsletterspacing02pxletterspacing02pxmargintop3pxwebkittransitioncolor': 1, 'easecolor121212fontsize1remlineheight11875remfontfamilynytcheltenhamwebkitletterspacing01pxmozletterspacing01pxmsletterspacing01pxletterspacing01pxmarginbottom5pxwebkitfontsmoothingantialiasedmozosxfontsmoothinggrayscalefalseassetWrapperhover': 1, 'css8uvv5fcolor666csszmmks0webkitflex13': 1, '13msflex13': 3, '13flex13': 3, '13minheight0minwidth0webkitflexbasis403pxmsflexpreferredsize403pxflexbasis403pxwidth100csszmmks0': 1, '15pxheight100csszmmks0firstchildwebkitflexbasis3875pxmsflexpreferredsize3875pxflexbasis3875pxcsszmmks0firstchild': 1, '0csszmmks0lastchildwebkitflexbasis3875pxmsflexpreferredsize3875pxflexbasis3875pxcsszmmks0lastchild': 1, '15pxcsszmmks0onlychildwebkitflexbasis0msflexpreferredsize0flexbasis0csszmmks0onlychild': 1, 'minwidth740pxcsszmmks0': 1, 'lastchildpaddingbottom0csszmmks0': 1, 'minwidth1150pxcss1g8bx4tmarginbottom5pxwidth100css1g8bx4tlastchildmarginbottom0css1i96a1mfontsize0625remlineheight075remfontfamilynytcheltenhamsmallwebkitletterspacing02pxmozletterspacing02pxmsletterspacing02pxletterspacing02pxcolorccctextalignrightmargin3px': 1, '0minheight12pxoverflowwrapbreakwordwordbreakbreakwordfontsize06875remlineheight0875remwebkitletterspacing02pxmozletterspacing02pxmsletterspacing02pxletterspacing02pxcolor999textalignleftfalsemedia': 1, 'minwidth740pxcss1i96a1mmargin3px': 1, '0css1i96a1m': 1, 'creditfontsize0625remlineheight075remwebkitletterspacing02pxmozletterspacing02pxmsletterspacing02pxletterspacing02pxcolorcccdisplayinlineblockmedia': 3, 'minwidth740pxcss1i96a1mmargin5px': 1, '0css96x60lwebkitflex1': 1, '1msflex1': 2, '1flex1': 2, '1minheight0minwidth0webkitflexbasis31pxmsflexpreferredsize31pxflexbasis31pxwidth100borderleft1px': 1, 'e2e2e2css96x60lfirstchildborderleft0css96x60l': 1, '15pxheight100css96x60lfirstchildwebkitflexbasis155pxmsflexpreferredsize155pxflexbasis155pxcss96x60lfirstchild': 1, '0css96x60llastchildwebkitflexbasis155pxmsflexpreferredsize155pxflexbasis155pxcss96x60llastchild': 1, '15pxcss96x60lonlychildwebkitflexbasis0msflexpreferredsize0flexbasis0css96x60lonlychild': 1, 'minwidth740pxcss96x60l': 1, 'minwidth1150pxcssba1f3ofontfamilynytimperialfontsize1remlineheight1375remfontstylenormalwebkitletterspacing01pxmozletterspacing01pxmsletterspacing01pxletterspacing01pxcolor555webkittransitioncolor': 1, 'minwidth740pxcssba1f3ofontsize0875remlineheight11875remmedia': 1, 'cssba1f3ocolor666css1fhmlkvbordertop1px': 1, 'minwidth740pxcss1fhmlkvwebkitorder0msflexorder0order0bordertopnonecss1d537rbdisplayblockfloatleftmarginright10pxwebkitflexshrink0msflexnegative0flexshrink0css1d537rb': 1, 'figurewidth55pxheight55pxcss8oyskudisplayblockcss1pl01z2positionrelativelineheight08125remcss1pl01z2lastchild': 1, 'minwidth740pxcss1pl01z2lineheight03125remdisplayinlineblockcss1ypbx2afontweight700webkitletterspacing02pxmozletterspacing02pxmsletterspacing02pxletterspacing02pxmargintop3pxwebkittransitioncolor': 1, 'easecolor121212fontsize0875remlineheight1125remfontfamilynytcheltenhamsmallmarginbottom5pxfontsize08125remlineheight125remfontfamilynytfranklinhelveticaarialsansseriffontweight700lineheight1remassetWrapperhover': 1, 'css1ypbx2acolor666css1fhql1jfontfamilynytimperialfontsize1remlineheight1375remfontstylenormalwebkitletterspacing01pxmozletterspacing01pxmsletterspacing01pxletterspacing01pxcolor555webkittransitioncolor': 1, 'easefontsize0875remlineheight1125remfontfamilynytfranklinhelveticaarialsansseriffontweight500webkitletterspacing02pxmozletterspacing02pxmsletterspacing02pxletterspacing02pxmedia': 1, 'minwidth740pxcss1fhql1jfontsize0875remlineheight11875remfontsize08125remlineheight09375remmedia': 1, 'minwidth1024pxcss1fhql1jfontsize08125remlineheight09375remcolor555assetWrapperhover': 1, 'css1fhql1jcolor666cssrlo25ndisplaynonemedia': 1, 'minwidth1150pxcssrlo25ndisplayblockminheight71pxcssqnorfrpositionrelativebackgroundcolorf7f7f7media': 1, 'minwidth740pxcssqnorfrmarginbottom40pxmedia': 1, 'minwidth1150pxmedia': 2, 'minwidth740pxcssqnorfrbackgroundcolorfffmedia': 1, 'minwidth1024pxcssqnorfrmarginbottom0pxcssqnorfr': 1, 'divlastoftypemarginbottom0pxcsski19g7aftercontentdisplayblockbackgroundcolorf7f7f7height30pxbordertop1px': 1, 'e2e2e2borderbottom1px': 1, 'e2e2e2csski19g7lastchildafterdisplaynonemedia': 1, 'minwidth740pxcsski19g7marginbottom18pxcsski19g7afterdisplaynonecssras79qdisplaynonepadding17px': 1, '13pxbackgroundcolorwhitepositionwebkitstickypositionstickytop0zindex100000000bordertop1px': 2, '121212positionstaticpadding0bordertopnonecssras79q': 1, 'h3fontsize08125remlineheight08125remtexttransformuppercasefontfamilynytfranklinfontweight700webkitletterspacing08pxmozletterspacing08pxmsletterspacing08pxletterspacing08pxcolor121212displaynonelineheight0media': 1, 'minwidth740pxcssras79qpositionstaticpadding8px': 1, '0bordertop1px': 1, '121212padding18px': 1, '0displayblockcssras79q': 1, 'h3fontsize0625remlineheight0625remminheight22pxwebkitletterspacing07pxmozletterspacing07pxmsletterspacing07pxletterspacing07pxcss78b01rfontweight700webkitletterspacing02pxmozletterspacing02pxmsletterspacing02pxletterspacing02pxmargintop3pxwebkittransitioncolor': 1, 'easecolor121212fontsize125remlineheight14375remfontfamilynytcheltenhammarginbottom10pxfalsewebkitfontsmoothingantialiasedmozosxfontsmoothinggrayscalefalsefalseassetWrapperhover': 1, 'css78b01rcolor666cssg0s8tapadding17px': 1, '121212cssg0s8ta': 1, 'h3fontsize08125remlineheight08125remtexttransformuppercasefontfamilynytfranklinfontweight700webkitletterspacing08pxmozletterspacing08pxmsletterspacing08pxletterspacing08pxcolor121212media': 2, 'minwidth740pxcssg0s8tapositionstaticpadding8px': 1, '0cssg0s8ta': 1, 'h3fontsize0625remlineheight0625remminheight22pxwebkitletterspacing07pxmozletterspacing07pxmsletterspacing07pxletterspacing07pxcss1mnngwrwebkitflex13': 1, '13minheight0minwidth0webkitflexbasis403pxmsflexpreferredsize403pxflexbasis403pxwidth100borderleft1px': 2, 'e2e2e2css1mnngwrfirstchildborderleft0css1mnngwr': 1, '15pxheight100css1mnngwrfirstchildwebkitflexbasis3875pxmsflexpreferredsize3875pxflexbasis3875pxcss1mnngwrfirstchild': 1, '0css1mnngwrlastchildwebkitflexbasis3875pxmsflexpreferredsize3875pxflexbasis3875pxcss1mnngwrlastchild': 1, '15pxcss1mnngwronlychildwebkitflexbasis0msflexpreferredsize0flexbasis0css1mnngwronlychild': 1, 'minwidth740pxcss1mnngwr': 1, 'lastchildpaddingbottom0css1mnngwr': 1, 'minwidth1150pxcssws86q6webkitflex8': 1, '8msflex8': 2, '8flex8': 2, '8minheight0minwidth0webkitflexbasis248pxmsflexpreferredsize248pxflexbasis248pxwidth100borderleft1px': 1, 'e2e2e2cssws86q6firstchildborderleft0cssws86q6': 1, '15pxheight100cssws86q6firstchildwebkitflexbasis2325pxmsflexpreferredsize2325pxflexbasis2325pxcssws86q6firstchild': 1, '0cssws86q6lastchildwebkitflexbasis2325pxmsflexpreferredsize2325pxflexbasis2325pxcssws86q6lastchild': 1, '15pxcssws86q6onlychildwebkitflexbasis0msflexpreferredsize0flexbasis0cssws86q6onlychild': 1, 'minwidth740pxcssws86q6': 1, 'lastchildpaddingbottom0cssws86q6': 1, 'minwidth1150pxcss1mg0d7iwebkitflex13': 1, 'e2e2e2bordernonecss1mg0d7ifirstchildborderleft0css1mg0d7i': 1, '15pxheight100css1mg0d7ifirstchildwebkitflexbasis3875pxmsflexpreferredsize3875pxflexbasis3875pxcss1mg0d7ifirstchild': 1, '0css1mg0d7ilastchildwebkitflexbasis3875pxmsflexpreferredsize3875pxflexbasis3875pxcss1mg0d7ilastchild': 1, '15pxcss1mg0d7ionlychildwebkitflexbasis0msflexpreferredsize0flexbasis0css1mg0d7ionlychild': 1, 'minwidth740pxcss1mg0d7i': 1, 'lastchildpaddingbottom0css1mg0d7i': 1, 'minwidth1150pxcss18fyg9ufontsize0625remlineheight075remfontfamilynytcheltenhamsmallwebkitletterspacing02pxmozletterspacing02pxmsletterspacing02pxletterspacing02pxcolorccctextalignrightmargin3px': 1, '0minheight12pxoverflowwrapbreakwordwordbreakbreakworddisplayinlinefontsize06875remlineheight0875remwebkitletterspacing02pxmozletterspacing02pxmsletterspacing02pxletterspacing02pxcolor999textalignleftfalsemedia': 1, 'minwidth740pxcss18fyg9umargin3px': 1, '0css18fyg9u': 1, 'minwidth740pxcss18fyg9umargin5px': 1, '0css15maxlvwidth22positionabsoluteright0paddingtop11pxcss65h9d3webkitflex15': 1, '15msflex15': 1, '15flex15': 1, '15minheight0minwidth0webkitflexbasis465pxmsflexpreferredsize465pxflexbasis465pxwidth100borderleft1px': 1, 'e2e2e2css65h9d3firstchildborderleft0css65h9d3': 1, '15pxheight100css65h9d3firstchildwebkitflexbasis4495pxmsflexpreferredsize4495pxflexbasis4495pxcss65h9d3firstchild': 1, '0css65h9d3lastchildwebkitflexbasis4495pxmsflexpreferredsize4495pxflexbasis4495pxcss65h9d3lastchild': 1, '15pxcss65h9d3onlychildwebkitflexbasis0msflexpreferredsize0flexbasis0css65h9d3onlychild': 1, 'minwidth740pxcss65h9d3': 1, 'lastchildpaddingbottom0css65h9d3': 1, 'minwidth1150pxcss8sc6z0webkitflex5': 1, '5msflex5': 2, '5flex5': 2, '5minheight0minwidth0webkitflexbasis155pxmsflexpreferredsize155pxflexbasis155pxwidth100borderleft1px': 2, 'e2e2e2bordernonecss8sc6z0firstchildborderleft0css8sc6z0': 1, '15pxheight100css8sc6z0firstchildwebkitflexbasis1395pxmsflexpreferredsize1395pxflexbasis1395pxcss8sc6z0firstchild': 1, '0css8sc6z0lastchildwebkitflexbasis1395pxmsflexpreferredsize1395pxflexbasis1395pxcss8sc6z0lastchild': 1, '15pxcss8sc6z0onlychildwebkitflexbasis0msflexpreferredsize0flexbasis0css8sc6z0onlychild': 1, 'minwidth740pxcss8sc6z0': 1, 'lastchildpaddingbottom0css8sc6z0': 1, 'minwidth1150pxcss14dkh1lpaddingleft0': 1, 'importantcss1mnef8eopacity0webkituserselectnonemozuserselectnonemsuserselectnoneuserselectnonemargin11px': 1, '15pxcssmmjx04fontsize0625remlineheight075remfontfamilynytcheltenhamsmallwebkitletterspacing02pxmozletterspacing02pxmsletterspacing02pxletterspacing02pxcolorccctextalignrightmargin3px': 1, '0minheight12pxoverflowwrapbreakwordwordbreakbreakwordfontsize06875remlineheight0875remwebkitletterspacing02pxmozletterspacing02pxmsletterspacing02pxletterspacing02pxcolor999textalignleftfalsemargintop2pxtextalignleftmedia': 1, 'minwidth740pxcssmmjx04margin3px': 1, '0cssmmjx04': 1, 'minwidth740pxcssmmjx04margin5px': 1, 'minwidth740pxcssmmjx04margintop2pxcss1fgqvm0webkitflex12': 1, '12msflex12': 1, '12flex12': 1, '12minheight0minwidth0webkitflexbasis372pxmsflexpreferredsize372pxflexbasis372pxwidth100borderleft1px': 1, 'e2e2e2css1fgqvm0firstchildborderleft0css1fgqvm0': 1, '15pxheight100css1fgqvm0firstchildwebkitflexbasis3565pxmsflexpreferredsize3565pxflexbasis3565pxcss1fgqvm0firstchild': 1, '0css1fgqvm0lastchildwebkitflexbasis3565pxmsflexpreferredsize3565pxflexbasis3565pxcss1fgqvm0lastchild': 1, '15pxcss1fgqvm0onlychildwebkitflexbasis0msflexpreferredsize0flexbasis0css1fgqvm0onlychild': 1, 'minwidth740pxcss1fgqvm0': 1, 'lastchildpaddingbottom0css1fgqvm0': 1, 'minwidth1150pxcss38z6u1positionrelativemedia': 1, 'minwidth740pxcss38z6u1marginbottom40pxmedia': 1, 'minwidth1150pxcss38z6u1marginbottom26pxcss16zqnrofontsize1remlineheight075rempositionwebkitstickypositionstickytop0backgroundfffzindex100000000media': 1, 'minwidth740pxcss16zqnromarginbottom8pxpadding2px': 1, '9pxpaddingtop0paddingbottom5pxpositionstaticcssvka1ovdisplayblockfontfamilynytfranklinfontweight700webkitletterspacing05pxmozletterspacing05pxmsletterspacing05pxletterspacing05pxwebkitflexshrink0msflexnegative0flexshrink0color121212padding14px': 1, '13pxmedia': 2, 'minwidth740pxcssvka1ovpadding0displayinlinemedia': 1, 'minwidth740pxcssvka1ovfontsize1125remlineheight075rempaddingbottom5pxfontfamilynytcheltenhamfontweight500webkitletterspacing0mozletterspacing0msletterspacing0letterspacing0csso5uqvqmarginleft5pxcss1jmv6zswebkitletterspacing02pxmozletterspacing02pxmsletterspacing02pxletterspacing02pxmargintop3pxwebkittransitioncolor': 1, 'easecolor121212fontsize1remlineheight11875remfontfamilynytcheltenhamwebkitletterspacing01pxmozletterspacing01pxmsletterspacing01pxletterspacing01pxmarginbottom5pxwebkitfontsmoothingantialiasedmozosxfontsmoothinggrayscalewebkitundefinedmsflexundefinedundefinedmarginbottom0colora19d9dwebkitfontsmoothingunsetmozosxfontsmoothingunsetmargintop3pxcss7douaawebkitflex1': 1, '1minheight0minwidth0webkitflexbasis31pxmsflexpreferredsize31pxflexbasis31pxwidth100css7douaa': 1, '15pxheight100css7douaafirstchildwebkitflexbasis155pxmsflexpreferredsize155pxflexbasis155pxcss7douaafirstchild': 1, '0css7douaalastchildwebkitflexbasis155pxmsflexpreferredsize155pxflexbasis155pxcss7douaalastchild': 1, '15pxcss7douaaonlychildwebkitflexbasis0msflexpreferredsize0flexbasis0css7douaaonlychild': 1, 'minwidth740pxcss7douaa': 1, 'minwidth1150pxcss7douaafirstchildpaddingright0webkitflexbasis15pxmsflexpreferredsize15pxflexbasis15pxcss1pygo6tfloatrightmargintop0marginleft15pxwidth45pxmaxwidth45pxheight45pxmaxheight45pxborderradius20pxoverflowhiddenmedia': 1, 'minwidth740pxcss1pygo6tmargintop2pxmedia': 1, 'minwidth740pxcss1pygo6twidth36pxmaxwidth36pxheight36pxmaxheight36pxborderradius18pxcss60xrhpositionrelativemedia': 1, 'minwidth740pxcss60xrhmarginbottom40pxmedia': 1, 'minwidth1150pxcss60xrhmarginbottom0css1jot0f9fontsize1remlineheight075rembordertop1px': 1, '121212positionwebkitstickypositionstickytop0backgroundfffzindex100000000media': 1, 'minwidth740pxcss1jot0f9marginbottom8pxpadding2px': 1, '9pxpositionstaticcss1jot0f9beforecontentbordertop1px': 1, '121212displayblockpaddingtop11pxcss1smnt6xdisplayblockfontfamilynytfranklinfontweight700webkitletterspacing05pxmozletterspacing05pxmsletterspacing05pxletterspacing05pxwebkitflexshrink0msflexnegative0flexshrink0color121212padding14px': 1, 'minwidth740pxcss1smnt6xpadding0displayinlinecss1blv1z4fontsize0625remlineheight075remfontfamilynytcheltenhamsmallwebkitletterspacing02pxmozletterspacing02pxmsletterspacing02pxletterspacing02pxcolorccctextalignrightmargin3px': 1, '0minheight12pxoverflowwrapbreakwordwordbreakbreakwordmedia': 1, 'minwidth740pxcss1blv1z4margin3px': 1, '0csssz16hwfontweight700webkitletterspacing02pxmozletterspacing02pxmsletterspacing02pxletterspacing02pxmargintop3pxwebkittransitioncolor': 1, 'easecolor121212fontsize125remlineheight14375remfontfamilynytcheltenhammarginbottom10pxfalsefalsefontsize175remlineheight19375remwebkitletterspacing04pxmozletterspacing04pxmsletterspacing04pxletterspacing04pxfontweight200falsemarginbottom15pxpaddingbottom15pxfontfamilynytcheltenhamwebkitletterspacing02pxmozletterspacing02pxmsletterspacing02pxletterspacing02pxcsssz16hwaftercontentdisplayblockpositionabsoluteborderbottom1px': 1, 'e2e2e2bottom0left0height0width60pxassetWrapperhover': 1, 'csssz16hwcolor666cssj07wu8marginright9pxcssdjiuqnbackground121212boxshadow0': 1, '121212positionfixedwidth100bottom0webkittransformtranslateY112pxmstransformtranslateY112pxtransformtranslateY112pxwebkittransitionwebkittransform': 1, '200ms': 3, 'easeinwebkittransitiontransform': 1, 'easeintransitiontransform': 1, 'easeinzindex1000000101padding14px': 1, '13pxwebkitkeyframes': 1, 'animationg7rb990webkittransformscale1': 2, 'rotate0mstransformscale1': 2, 'rotate0transformscale1': 2, 'rotate0100webkittransformscale105': 2, 'rotate90degmstransformscale105': 2, 'rotate90degtransformscale105': 2, 'rotate90degkeyframes': 1, 'rotate90degcss778gjywebkitflex5': 1, 'e2e2e2css778gjyfirstchildborderleft0css778gjy': 1, '15pxheight100css778gjyfirstchildwebkitflexbasis1395pxmsflexpreferredsize1395pxflexbasis1395pxcss778gjyfirstchild': 1, '0css778gjylastchildwebkitflexbasis1395pxmsflexpreferredsize1395pxflexbasis1395pxcss778gjylastchild': 1, '15pxcss778gjyonlychildwebkitflexbasis0msflexpreferredsize0flexbasis0css778gjyonlychild': 1, 'minwidth740pxcss778gjy': 1, 'lastchildpaddingbottom0css778gjy': 1, 'minwidth740pxcss1ftry2cdisplaywebkitboxdisplaywebkitflexdisplaymsflexboxdisplayflexcss1ftry2c': 1, 'cssz49qw6width50css1ftry2c': 1, 'cssz49qw6firstchildpadding0': 2, '0css1ftry2c': 3, 'cssz49qw6lastchildpadding0': 1, '14pxcss1ftry2c': 1, 'cssz49qw6firstchildaftercontentpositionabsolutebackgrounde2e2e2top0right0bottom14pxwidth1pxmedia': 1, 'minwidth1024pxcss1ftry2cdisplayblockcss1ftry2c': 1, 'cssz49qw6width100css1ftry2c': 1, 'cssz49qw6lastchildpadding14px': 1, 'cssz49qw6firstchildafterdisplaynonemedia': 1, 'minwidth1024pxcss1ftry2c': 1, 'cssz49qw6lastchildpaddingtop0csspwtn0qwebkitflex8': 1, '8minheight0minwidth0webkitflexbasis248pxmsflexpreferredsize248pxflexbasis248pxwidth100csspwtn0q': 1, '15pxheight100csspwtn0qfirstchildwebkitflexbasis2325pxmsflexpreferredsize2325pxflexbasis2325pxcsspwtn0qfirstchild': 1, '0csspwtn0qlastchildwebkitflexbasis2325pxmsflexpreferredsize2325pxflexbasis2325pxcsspwtn0qlastchild': 1, '15pxcsspwtn0qonlychildwebkitflexbasis0msflexpreferredsize0flexbasis0csspwtn0qonlychild': 1, 'minwidth740pxcsspwtn0q': 1, 'lastchildpaddingbottom0csspwtn0q': 1, 'minwidth1150pxcssq1enx3fontweight700webkitletterspacing02pxmozletterspacing02pxmsletterspacing02pxletterspacing02pxmargintop3pxwebkittransitioncolor': 1, 'easecolor121212fontsize125remlineheight14375remfontfamilynytcheltenhammarginbottom10pxfalsefalsefontsize175remlineheight19375remwebkitletterspacing04pxmozletterspacing04pxmsletterspacing04pxletterspacing04pxfontweight200falsefontfamilynytcheltenhamwebkitletterspacing02pxmozletterspacing02pxmsletterspacing02pxletterspacing02pxassetWrapperhover': 1, 'cssq1enx3color666css1iidfo0padding17px': 1, '13pxbackgroundcolorwhitepositionwebkitstickypositionstickytop0zindex100000000css1iidfo0': 1, 'minwidth740pxcss1iidfo0positionstaticpadding8px': 1, '0margintop18pxcss1iidfo0': 1, 'h3fontsize0625remlineheight0625remminheight22pxwebkitletterspacing07pxmozletterspacing07pxmsletterspacing07pxletterspacing07px': 1, 'datatimezone': 1, 'display': 1, 'Sections': 1, 'SEARCH': 1, 'Skip': 2, 'to': 30, 'content': 1, 'site': 2, 'index': 1, 'English': 1, 'Español': 1, '中文': 1, 'Chinese': 1, 'Subscribe': 2, 'Log': 2, 'In': 3, 'Today’s': 1, 'Paper': 1, 'US': 4, 'Politics': 2, 'NY': 2, 'Business': 2, 'Opinion': 3, 'Tech': 2, 'Science': 2, 'Health': 5, 'Sports': 2, 'Arts': 3, 'Books': 2, 'Style': 3, 'Food': 2, 'Travel': 2, 'Magazine': 4, 'T': 2, 'Real': 2, 'Estate': 2, 'Video': 2, 'Victims': 2, 'of': 30, 'Synagogue': 2, 'Shooting': 1, 'Are': 3, 'Identified': 1, 'Pittsburgh': 7, 'Mayor': 2, 'Calls': 1, 'It': 4, '‘Darkest': 1, 'Day’': 1, '11': 3, 'victims': 1, 'a': 33, 'shooting': 2, 'rampage': 2, 'at': 4, 'synagogue': 4, 'included': 2, 'eight': 1, 'men': 1, 'and': 18, 'three': 1, 'women': 3, 'authorities': 2, 'said': 2, 'the': 31, 'gunman': 1, 'who': 4, 'was': 3, 'in': 27, 'custody': 1, 'appeared': 1, 'have': 6, 'been': 2, 'acting': 1, 'alone': 1, 'when': 1, 'he': 2, 'stormed': 1, 'into': 1, 'Tree': 1, 'Life': 1, 'Congregation': 1, '“We': 1, 'know': 4, 'that': 5, 'we': 1, 'as': 7, 'society': 1, 'are': 6, 'better': 1, 'than': 1, 'this”': 1, 'Bill': 1, 'Peduto': 1, 'Brooklyn': 1, 'borough': 1, 'president': 1, 'called': 1, 'for': 13, 'offduty': 1, 'police': 1, 'officers': 1, 'bring': 1, 'guns': 1, 'houses': 1, 'worship': 1, 'By': 1, 'Remembered': 1, 'Guardians': 1, 'Their': 2, 'Faith': 2, 'people': 3, 'died': 1, 'Saturday': 1, 'dentist': 1, 'committed': 1, 'volunteer': 1, 'work': 1, 'pair': 1, 'brothers': 1, 'known': 3, 'greeting': 1, 'worshipers': 1, 'Massacre': 2, 'Suspect': 3, 'Was': 1, 'Unremarkable': 1, 'Man': 1, 'Apartment': 1, 'Robert': 1, 'Bowers': 1, 'suspect': 1, 'deadly': 1, 'posted': 1, 'antiSemitic': 1, 'slurs': 1, 'social': 3, 'media': 3, 'but': 2, 'little': 2, 'else': 1, 'about': 3, 'him': 4, 'On': 2, 'Gab': 1, 'an': 6, 'ExtremistFriendly': 1, 'Site': 4, 'Aired': 1, 'His': 1, 'Hatred': 1, 'has': 6, 'become': 1, 'haven': 1, 'neoNazis': 1, 'white': 1, 'nationalists': 1, 'other': 2, 'extremists': 1, 'won’t': 1, 'change': 1, 'its': 2, 'policies': 1, 'founder': 1, 'says': 1, 'Voters': 3, 'Brace': 1, 'Election': 3, 'Winds': 1, 'Down': 1, 'Amid': 1, 'Gun': 1, 'Violence': 1, 'Pipe': 2, 'Bombs': 1, 'Nine': 1, 'days': 1, 'out': 2, 'already': 1, 'divisive': 1, 'midterm': 1, 'election': 3, 'campaign’s': 1, 'finale': 1, 'come': 1, 'amid': 1, 'cascade': 1, 'horrors': 1, 'reflected': 1, 'country’s': 1, 'fault': 1, 'lines': 1, 'Your': 4, 'Monday': 1, 'Briefing': 1, 'Here’s': 3, 'what': 2, 'you': 4, 'need': 1, 'start': 1, 'your': 2, 'day': 1, 'Sign': 1, 'Up': 3, '‘Five': 1, 'Weeknight': 1, 'Dishes’': 1, 'Dinner': 1, 'doesn’t': 1, 'be': 2, 'production': 1, 'can': 2, 'just': 3, 'taste': 1, 'like': 4, 'one': 2, 'Daily': 1, 'Mini': 1, 'Crossword': 2, 'Solve': 1, 'this': 4, 'bitesized': 1, 'puzzle': 1, 'few': 2, 'minutes': 1, 'Bomb': 2, 'Investigation': 1, 'Found': 1, 'Identity': 1, 'Rage': 1, 'Resentment': 1, 'Cesar': 2, 'Altieri': 1, 'Sayoc': 2, 'Jr': 2, 'styled': 1, 'himself': 1, 'bodybuilder': 1, 'entrepreneur': 1, 'South': 1, 'Florida': 2, 'But': 2, 'court': 1, 'records': 1, 'knew': 1, 'recalled': 1, 'differently': 1, 'Friday': 1, 'charged': 2, 'with': 8, 'sending': 2, 'bombs': 3, 'Trump': 3, 'critics': 1, 'whom': 1, 'mail': 1, 'prominent': 1, 'Democrats': 4, 'Trump’s': 1, 'Attacks': 1, 'Media': 1, 'Working': 1, 'journalism': 1, 'industry': 2, 'wasn’t': 1, 'built': 1, 'withstand': 1, 'torrent': 1, 'unsubstantiated': 1, 'claims': 1, 'coming': 1, 'realdonaldtrump': 1, 'elsewhere': 1, 'our': 4, 'columnist': 1, 'writes': 2, 'Mr': 2, 'Sayoc’s': 1, 'path': 1, 'went': 1, 'food': 3, 'photos': 1, 'partisan': 1, 'fury': 1, '2018': 2, 'Focus': 1, 'Care': 4, 'Final': 1, 'Pitches': 1, 'Vulnerable': 1, 'Senate': 1, 'West': 1, 'Virginia': 1, 'political': 1, 'battlegrounds': 1, 'relying': 1, 'heavily': 1, 'health': 5, 'care': 4, 'defining': 1, 'issue': 1, 'They': 1, 'discovered': 1, 'emotional': 1, 'power': 1, 'Affordable': 1, 'Act’s': 1, 'benefits': 1, 'protecting': 1, 'preexisting': 1, 'illnesses': 1, 'Senator': 2, 'Claire': 2, 'McCaskill': 4, 'Missouri': 2, 'right': 2, 'spoke': 2, 'supporter': 2, 'during': 2, '“Your': 2, 'Vote”': 2, 'tour': 2, 'stop': 2, 'month': 2, 'St': 2, 'Charles': 2, 'Ms': 2, 'focused': 2, 'her': 2, 'reelection': 2, 'campaign': 2, 'Whitney': 2, 'Curtis': 2, 'Year': 1, 'Women': 2, 'Running': 1, 'Governor': 1, 'One': 1, 'Incumbent': 1, 'Finds': 1, 'Tough': 1, 'Fight': 1, 'Oregon': 1, 'Gov': 1, 'Kate': 1, 'Brown': 1, 'faces': 1, 'serious': 1, 'challenge': 1, 'Knute': 1, 'Buehler': 1, 'Republican': 1, 'It’s': 2, 'shock': 1, 'voters': 1, 'thought': 1, 'state': 1, '‘on': 1, 'lockdown’': 1, 'Tragedy': 1, 'Latest': 1, 'Midterm': 2, 'Contests': 1, '9': 1, 'Days': 1, 'Go': 1, 'always': 1, 'hard': 1, 'how': 1, 'major': 1, 'news': 4, 'events': 3, 'may': 2, 'affect': 1, 'This': 1, 'time': 3, 'no': 2, 'exception': 1, 'crosscurrents': 1, 'grief': 1, 'faith': 1, 'fear': 1, 'gun': 1, 'politics': 3, 'Driven': 1, 'by': 3, 'Policy': 1, 'Changes': 1, 'Fracking': 1, 'Booms': 1, 'Public': 1, 'Lands': 1, 'administration': 1, 'auctioning': 1, 'off': 1, 'millions': 1, 'acres': 1, 'drilling': 1, 'rights': 1, 'raising': 1, 'environmental': 1, 'concerns': 1, 'states': 1, 'Wyoming': 1, 'That': 1, 'reversal': 1, 'Obamaera': 1, 'trend': 1, 'propelled': 1, 'Interior': 1, 'Department’s': 1, 'willingness': 1, 'go': 2, 'along': 1, 'pressure': 1, 'weaken': 1, 'regulations': 1, 'Digital': 2, 'Divide': 1, 'Silicon': 3, 'Valley': 3, 'Nannies': 1, 'Phone': 1, 'Police': 1, 'Kids': 2, 'Child': 1, 'contracts': 1, 'now': 3, 'demand': 1, 'nannies': 1, 'hide': 1, 'phones': 1, 'tablets': 1, 'computers': 1, 'TVs': 1, 'their': 1, 'charges': 1, 'Even': 1, 'screen': 2, 'so': 1, 'deeply': 1, 'addictive': 1, 'some': 1, 'parents': 2, 'believe': 1, 'it’s': 2, 'best': 1, 'child': 1, 'neither': 1, 'touches': 1, 'nor': 1, 'sees': 1, 'any': 1, 'these': 1, 'glittering': 1, 'rectangles': 1, 'Unexpected': 1, 'Gap': 1, 'Between': 1, 'Rich': 1, 'Poor': 1, 'America’s': 1, 'public': 1, 'schools': 1, 'still': 1, 'promoting': 1, 'devices': 1, 'screens': 3, 'rich': 2, 'banning': 1, 'class': 1, 'altogether': 1, 'A': 6, 'consensus': 1, 'children': 1, 'emerging': 1, '“I': 1, 'am': 1, 'convinced': 1, 'devil': 1, 'lives': 1, 'phones”': 1, 'BRAZIL': 1, 'ELECTION': 1, 'Momentous': 1, 'Brazil': 2, 'What’s': 1, 'Stake': 1, 'Concerns': 1, 'crime': 2, 'corruption': 1, 'morality': 1, 'given': 1, 'farright': 1, 'lawmaker': 1, 'upper': 1, 'hand': 1, 'Brazil’s': 1, 'presidential': 1, 'polls': 1, 'today': 1, 'decide': 1, 'between': 1, 'two': 1, 'candidates': 1, 'runoff': 1, 'primer': 1, 'Jair': 1, 'Bolsonaro': 1, 'frontrunner': 1, 'his': 2, 'offensive': 1, 'remarks': 1, 'hardline': 1, 'agenda': 1, 'spurred': 1, 'many': 1, 'vote': 1, 'Orlando': 1, 'de': 1, 'GuzmanThe': 1, 'Weekend': 2, 'Our': 1, 'Best': 2, 'Reads': 1, 'Beastie': 1, 'Boys': 1, 'wrote': 1, 'book': 1, 'say': 1, 'creator': 1, 'greenbean': 1, 'casserole': 1, 'dead': 1, 'And': 1, 'more': 3, 'isn’t': 1, 'all': 1, 'bad': 1, 'there': 1, 'Week': 1, 'Good': 1, 'Did': 1, 'stay': 1, 'up': 1, 'date': 1, 'week': 1, 'Take': 1, 'quiz': 1, 'Jonathan': 1, 'Greenblatt': 1, 'When': 1, 'Hate': 1, 'Goes': 1, 'Mainstream': 1, 'massacre': 2, 'latest': 1, 'worst': 1, 'instance': 1, 'rising': 1, 'antiSemitism': 1, 'Americans': 1, 'conscience': 1, 'must': 1, 'push': 1, 'back': 1, 'national': 1, 'director': 1, 'AntiDefamation': 1, 'League': 1, 'Lev': 1, 'Golinkin': 1, 'America': 2, '—': 2, 'Judaism': 1, 'Its': 1, 'man': 1, 'accused': 1, 'seemed': 1, 'fixated': 1, 'HIAS': 1, 'refugee': 1, 'organization': 1, 'helped': 1, 'save': 1, 'my': 3, 'family': 1, 'Ross': 1, 'Douthat': 1, 'Hoping': 1, 'Split': 1, 'Decision': 1, 'Nicholas': 1, 'Kristof': 1, 'Liberal': 1, 'Hypocrisy': 1, 'College': 1, 'Admissions': 1, 'Lindsay': 1, 'Crouse': 1, 'Who': 1, 'Says': 1, 'Allie': 1, 'Kieffer': 1, 'Isn’t': 1, 'Thin': 1, 'Enough': 1, 'Run': 1, 'Marathons': 1, 'Brent': 1, 'Staples': 1, 'Fate': 1, 'Worse': 1, 'Than': 1, 'Slavery': 1, 'Unearthed': 1, 'Sugar': 1, 'Land': 1, 'Maureen': 1, 'Dowd': 1, '‘Riling': 1, 'Crazies’': 1, 'David': 1, 'M': 1, 'Shribman': 1, 'AntiSemitism': 1, 'Comes': 1, 'City': 1, 'Tolerance': 1, 'Howard': 1, 'Fineman': 1, 'Shaking': 1, 'My': 1, 'Bari': 1, 'Weiss': 1, 'Heart': 1, 'Rogers’': 1, 'Neighborhood': 1, 'Editors’': 1, 'Picks': 1, 'Photo': 1, 'Illustration': 1, 'Eric': 1, 'Helgas': 1, 'Why': 1, 'Is': 1, 'CBD': 1, 'Everywhere': 1, 'Cannabidiol': 1, 'being': 1, 'touted': 1, 'cureall': 1, 'available': 1, 'bath': 1, 'dog': 1, 'treats': 1, 'even': 1, 'pharmaceuticals': 1, 'maybe': 1, 'fix': 1, 'anxious': 1, 'times': 3, 'Ghosts': 1, 'York’s': 1, 'Past': 1, 'ghost': 1, 'stories': 1, 'Here': 1, 'heard': 1, 'Shake': 1, 'Oaxacan': 1, 'Rap': 1, 'Scene': 1, 'tightknit': 1, 'group': 1, 'Oaxaca': 1, 'Mexico': 1, 'rapping': 1, 'way': 1, 'draw': 1, 'attention': 1, 'issues': 1, 'poverty': 1, 'gender': 1, 'inequalities': 1, 'We’d': 1, 'thoughts': 1, 'home': 4, 'page': 3, 'experience': 1, 'Let': 1, 'us': 2, 'think': 1, 'Index': 1, 'world': 2, 'business': 2, 'tech': 2, 'science': 2, 'climate': 2, 'sports': 2, 'obituaries': 2, 'upshot': 2, 'todayx27s': 6, 'paper': 2, 'corrections': 2, 'opinion': 6, 'oped': 4, 'columnists': 2, 'editorials': 2, 'Contributors': 2, 'letters': 2, 'sunday': 2, 'review': 2, 'video': 6, 'arts': 6, 'art': 2, 'amp': 7, 'design': 2, 'books': 2, 'dance': 2, 'movies': 2, 'music': 2, 'television': 2, 'theater': 2, 'watching': 2, 'living': 2, 'automobiles': 2, 'crossword': 2, 'Cooking': 3, 'education': 3, 'fashion': 2, 'style': 2, 'jobs': 2, 'magazine': 4, 'real': 2, 'estate': 2, 't': 2, 'travel': 2, 'weddings': 2, 'listings': 1, 'Reader': 2, 'Center': 2, 'Wirecutter': 2, 'Learning': 2, 'Network': 2, 'tools': 2, 'services': 2, 'NYC': 2, 'guide': 2, 'multimedia': 2, 'photography': 2, 'NYT': 2, 'store': 2, 'journeys': 2, 'manage': 2, 'account': 2, 'delivery': 1, 'digital': 1, 'subscriptions': 2, 'email': 1, 'newsletters': 1, 'corporate': 1, 'rate': 1, 'mobile': 1, 'applications': 1, 'replica': 1, 'edition': 1, 'Information': 1, 'Navigation': 1, '©': 1, 'Company': 1, 'Contact': 1, 'Us': 1, 'Work': 1, 'Advertise': 1, 'Ad': 1, 'Choices': 1, 'Privacy': 1, 'Terms': 2, 'Service': 1, 'Sale': 1, 'Map': 1, 'Help': 2, 'Subscriptions': 1}\n"
     ]
    }
   ],
   "source": [
    "html_parser('http://cse.koreatech.ac.kr')\n",
    "html_parser('https://www.koreatech.ac.kr')\n",
    "html_parser('http://www.naver.com')\n",
    "html_parser('http://www.daum.net')\n",
    "html_parser('http://www.nytimes.com')"
   ]
  },
  {
   "cell_type": "markdown",
   "metadata": {},
   "source": [
    "아직 중간중간에 스타일 태그의 내용이 출력되는 것을 보니 다듬어야할 것 같긴 하다.  \n",
    "솔직히 이번 과제는 시간도 너무 적은데 시험기간에 딱 붙어있어서 너무나 힘들었다.  \n",
    "대부분의 시험이 한 주에 몰려 있어서 겨우 지옥같은 시험기간을 끝냈더니 기간이 얼마 있지도 않은 과제라니.  \n",
    "정말로 정말로 너무 힘들었다.  \n",
    "\n",
    "하지만 파이썬 공부를 하는 데에는 도움이 된 것 같다.\n",
    "리스트나 딕셔너리를 이용하는 방법 등을 좀 더 손에 익히는 계기도 됬고,  \n",
    "의도치 않았지만 정규표현식도 매우 조금이지만 익히는 계기가 되었다."
   ]
  }
 ],
 "metadata": {
  "kernelspec": {
   "display_name": "Python 3",
   "language": "python",
   "name": "python3"
  },
  "language_info": {
   "codemirror_mode": {
    "name": "ipython",
    "version": 3
   },
   "file_extension": ".py",
   "mimetype": "text/x-python",
   "name": "python",
   "nbconvert_exporter": "python",
   "pygments_lexer": "ipython3",
   "version": "3.6.5"
  }
 },
 "nbformat": 4,
 "nbformat_minor": 2
}
