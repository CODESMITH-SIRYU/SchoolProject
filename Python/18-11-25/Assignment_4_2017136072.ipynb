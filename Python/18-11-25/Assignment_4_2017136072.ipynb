{
 "cells": [
  {
   "cell_type": "markdown",
   "metadata": {},
   "source": [
    "## ASSIGNMENT 4\n",
    "\n",
    "###### author : 2017136072 Hojin, Lyu"
   ]
  },
  {
   "cell_type": "markdown",
   "metadata": {},
   "source": [
    "### [문제 1]"
   ]
  },
  {
   "cell_type": "markdown",
   "metadata": {},
   "source": [
    "파일 s.txt 내의 다음 내용과 함께 아래 문제의 코드를 제시하시오."
   ]
  },
  {
   "cell_type": "markdown",
   "metadata": {},
   "source": [
    "    pig ham\n",
    "    cat dog\n",
    "    ham bird\n",
    "    dog pig"
   ]
  },
  {
   "cell_type": "code",
   "execution_count": 1,
   "metadata": {},
   "outputs": [
    {
     "name": "stdout",
     "output_type": "stream",
     "text": [
      "pig ham\n",
      "cat dog\n",
      "ham bird\n",
      "dog pig\n",
      "\n"
     ]
    }
   ],
   "source": [
    "import os\n",
    "\n",
    "s = \"\"\"pig ham\n",
    "cat dog\n",
    "ham bird\n",
    "dog pig\n",
    "\"\"\"\n",
    "\n",
    "f = open(\"./files/s.txt\", \"w\")\n",
    "f.write(s)\n",
    "f.close()\n",
    "\n",
    "f2 = open(\"./files/s.txt\", \"r\")\n",
    "print(f2.read())\n",
    "f2.close()"
   ]
  },
  {
   "cell_type": "markdown",
   "metadata": {},
   "source": [
    "우선 해당 문자열을 저장할 s.txt를 만들기 위해 f를 쓰기 모드로 열어, 현재 이 파이썬 코드가 있는 폴더의 files 폴더에 s.txt를 생성하도록 하고,  \n",
    "거기에 문자열 s를 쓰고 잘 써졌는지 확인하기 위해 f2를 읽기 모드로 열어서 확인을 해보았다. 잘 작동한 듯 하다."
   ]
  },
  {
   "cell_type": "markdown",
   "metadata": {},
   "source": [
    " - 1) 파일 s.txt을 읽어서 각 라인에 있는 첫 번째 단어(문자열) 자체들을 기준으로 라인별 정렬후 파일 s1.txt에 그 결과를 기록하는 코드를 작성하시오. 즉, 프로그램 수행 후 s1.txt에 있는 파일 내용은 다음과 같다."
   ]
  },
  {
   "cell_type": "markdown",
   "metadata": {},
   "source": [
    "    cat dog\n",
    "    dog pig\n",
    "    ham bird\n",
    "    pig ham"
   ]
  },
  {
   "cell_type": "code",
   "execution_count": 2,
   "metadata": {},
   "outputs": [
    {
     "name": "stdout",
     "output_type": "stream",
     "text": [
      "cat dog\n",
      "\n",
      "dog pig\n",
      "\n",
      "ham bird\n",
      "\n",
      "pig ham\n",
      "\n"
     ]
    }
   ],
   "source": [
    "lines = []\n",
    "\n",
    "with open(\"./files/s.txt\", \"r\") as f:\n",
    "    lines = [ l for l in f]\n",
    "\n",
    "lines.sort()\n",
    "\n",
    "for i in lines :\n",
    "    print(i)\n",
    "\n",
    "with open(\"./files/s.txt\", \"w\") as f:\n",
    "    for i in lines :\n",
    "        f.write(i)"
   ]
  },
  {
   "cell_type": "markdown",
   "metadata": {},
   "source": [
    "with as로 s.txt를 리스트 lines에 리스트 내포로 받아오고, 그 다음 정렬 시켜서 결과를 확인하였다.  \n",
    "결과가 맞게 떨어졌으니 다시 with as로 열어서 list의 요소들을 차례차례 썼다."
   ]
  },
  {
   "cell_type": "markdown",
   "metadata": {},
   "source": [
    " - 2) 파일 s.txt을 읽어서 각 라인에 있는 두 번째 단어(문자열) 자체들을 기준으로 라인별 정렬후 파일 s2.txt에 그 결과를 기록하는 코드를 작성하시오. 즉, 프로그램 수행 후 s2.txt에 있는 파일 내용은 다음과 같다."
   ]
  },
  {
   "cell_type": "markdown",
   "metadata": {},
   "source": [
    "    ham bird\n",
    "    cat dog\n",
    "    pig ham\n",
    "    dog pig"
   ]
  },
  {
   "cell_type": "code",
   "execution_count": 3,
   "metadata": {},
   "outputs": [
    {
     "name": "stdout",
     "output_type": "stream",
     "text": [
      "['ham bird\\n', 'cat dog\\n', 'pig ham\\n', 'dog pig\\n']\n"
     ]
    }
   ],
   "source": [
    "lines = []\n",
    "\n",
    "with open(\"./files/s.txt\", \"r\") as f:\n",
    "    lines = [ l for l in f]\n",
    "\n",
    "lines.sort(key=lambda x: x.split()[1])\n",
    "\n",
    "print(lines)\n",
    "\n",
    "with open(\"./files/s.txt\", \"w\") as f:\n",
    "    for l in lines:\n",
    "        f.write(l)"
   ]
  },
  {
   "cell_type": "markdown",
   "metadata": {},
   "source": [
    "더 이상 파일을 열고 닫는 과정에 대해서는 설명하지 않고, 정렬한 과정에 대해서만 설명하자면, sort함수에서 key값에 람다 함수를 이용하여,  \n",
    "lines의 각 요소에서 공백으로 스플릿 되어 두번째 인덱스를 갖는 문자열, 즉 두번째 문자들을 반환하여 정렬시켰다."
   ]
  },
  {
   "cell_type": "markdown",
   "metadata": {},
   "source": [
    "   - 3) 파일 s.txt을 읽어서 각 라인들에 있는 모든 단어들을 순차적으로 다시 나열하되 각 라인에 세 개의 단어들이 오도록 하여 s3.txt에 기록하는 코드를 작성하시오. 즉, 프로그램 수행 후 s3.txt에 있는 파일 내용은 다음과 같다."
   ]
  },
  {
   "cell_type": "markdown",
   "metadata": {},
   "source": [
    "    pig ham cat\n",
    "    dog ham bird\n",
    "    dog pig"
   ]
  },
  {
   "cell_type": "code",
   "execution_count": 4,
   "metadata": {},
   "outputs": [
    {
     "name": "stdout",
     "output_type": "stream",
     "text": [
      "['ham bird\\n', 'cat dog\\n', 'pig ham\\n', 'dog pig\\n']\n",
      "['ham bird cat\\n', 'dog pig ham\\n', 'dog pig\\n']\n"
     ]
    }
   ],
   "source": [
    "lines = []\n",
    "\n",
    "with open(\"./files/s.txt\", \"r\") as f:\n",
    "    lines = [ l for l in f]\n",
    "\n",
    "nlines = []\n",
    "\n",
    "for i in lines:\n",
    "    for j in i.split():\n",
    "        nlines.append(j)\n",
    "\n",
    "st = \"\"\n",
    "nlist = []\n",
    "nindex = 0\n",
    "\n",
    "for i in range(len(nlines)):\n",
    "    st = st + nlines[i]\n",
    "    if(i%3==2):\n",
    "        st = st + \"\\n\"\n",
    "        nlist.append(st)\n",
    "        nindex = nindex + 1\n",
    "        st = \"\"\n",
    "    elif(i==len(nlines)-1):\n",
    "        st = st + \"\\n\"\n",
    "        nlist.append(st)\n",
    "    else:\n",
    "        st = st + \" \"\n",
    "\n",
    "print(lines)\n",
    "print(nlist)\n",
    "        \n",
    "with open(\"./files/s.txt\", \"w\") as f:\n",
    "    for i in nlist:\n",
    "        f.write(i)"
   ]
  },
  {
   "cell_type": "markdown",
   "metadata": {},
   "source": [
    "우선은 이전에 정렬했던 자료를 그대로 사용했기 때문에 ham bird ... 순으로 정렬된 상태이다. 이 상태에서 받아온 리스트들의 단어를  \n",
    "split하고, split한 단어들을 세 개 단위로 줄바꿈 문자로 끊어주고, 그 이외에는 여백으로 구분하여 다시 nlist에 넣었다.  \n",
    "그리고 리스트를 다시 파일에 기록하도록 하였다."
   ]
  },
  {
   "cell_type": "markdown",
   "metadata": {},
   "source": [
    "### [문제 2] "
   ]
  },
  {
   "cell_type": "markdown",
   "metadata": {},
   "source": [
    "다음과 같은 조건들을 참고하여 회원 가입 및 로그인 프로그램을 작성하시오."
   ]
  },
  {
   "cell_type": "markdown",
   "metadata": {},
   "source": [
    "- 1) 프로그램 시작 후 다음과 같은 메시지가 출력되어 1, 2, 3 중 하나의 값을 입력 받도록 한다.  \n",
    "    Welcome to Our Service  \n",
    "\n",
    "    Sign Up  \n",
    "    Sign In  \n",
    "    Quit  \n",
    "- 2) 1을 선택하면 ID, Password, Name, School의 4가지 정보를 입력받아 파일에 저장하는 프로그램을 작성한다.  \n",
    "    - 2-1) 입력된 내용은 access.txt 라는 이름의 텍스트 파일 내에 저장된다.  \n",
    "    - 2-2) access.txt 파일의 각 라인에는 가입된 회원 각각의 정보가 \"[id]: [password], [name], [school]\" 형태로 저장된다.  \n",
    "    - 2-3) 즉, 가입 회원이 10명이면 access.txt 파일 내에 라인 수도 정확히 10개이다.  \n",
    "    - 2-4) 암호화 방식은 sha 모듈을 활용한다. sha 모듈 활용 방법은 본 문제의 마지막에 제시된 sha 활용 예를 참고한다.  \n",
    "        즉, access.txt 파일 내에 password 정보는 암호화 되어 저장되어야 한다.  \n",
    "    - 2-5) 회원 정보를 입력 받을 때 id를 입력 받은 직후 access.txt를 확인하여 이미 존재하는 id가 입력되었다면 다음 메시지를 출력하고 id 정보를 다시 입력받는다.  \n",
    "        Sorry, the entered ID is already used.  \n",
    "- 3) 2를 선택하면 ID, Password의 2가지 정보를 입력받는 프로그램을 작성한다.  \n",
    "    - 3-1) 입력된 ID 정보가 access.txt에 존재하지 않으면 다음과 같은 메시지를 출력하고 다시 입력받는다.  \n",
    "        Sorry, you are not a registered member.  \n",
    "    - 3-2) 입력된 ID가 올바르게 존재하지만 Password 정보가 access.txt 파일에 있는 정보와 불일치하면 다음과 같은 메시지를 출력하고 Password를 다시 입력받는다.  \n",
    "        Sorry, the entered password is not correct.  \n",
    "        이 때에도 사용자가 입력한 Password 정보와 함께 sha 모듈이 활용되어야 한다.  \n",
    "    - 3-3) 입력된 ID와 Password가 모두 올바르면 다음과 같은 메시지를 출력한다.  \n",
    "        Hello \\[name\\]!  \n",
    "        위 \\[name\\]에는 access.txt에 기록되어 있는 name 정보를 출력한다.  \n",
    "- 4) 3을 선택하면 프로그램이 끝난다.  \n",
    "    \\[참고] sha 모듈 활용 예  "
   ]
  },
  {
   "cell_type": "code",
   "execution_count": 1,
   "metadata": {},
   "outputs": [
    {
     "name": "stdout",
     "output_type": "stream",
     "text": [
      "<ripemd160 HASH object @ 0x0000029B772B6C10>\n"
     ]
    }
   ],
   "source": [
    "import hashlib\n",
    "\n",
    "hasher = hashlib.sha1()\n",
    "password_plain = 'ripemd160'\n",
    "password_encrypted = hashlib.new(password_plain)\n",
    "password_encrypted.hexdigest()\n",
    "print(password_encrypted)"
   ]
  },
  {
   "cell_type": "code",
   "execution_count": 3,
   "metadata": {},
   "outputs": [
    {
     "name": "stdout",
     "output_type": "stream",
     "text": [
      "Welcome to Our Service\n",
      "\n",
      "    1. Sign Up\n",
      "    2. Sign In\n",
      "    3. Quit\n",
      "    1\n",
      "ID :Wangmandu\n",
      "Sorry, the entered ID is already used.\n",
      "ID :pizzahut\n",
      "PW :dominatepizza\n",
      "Name :mamajohns\n",
      "School :koreatech\n",
      "Register completed!\n",
      "Welcome to Our Service\n",
      "\n",
      "    1. Sign Up\n",
      "    2. Sign In\n",
      "    3. Quit\n",
      "    2\n",
      "ID :pizzzzzahut\n",
      "PW :dominatepizza\n",
      "Sorry, you are not a registered member. \n",
      "Welcome to Our Service\n",
      "\n",
      "    1. Sign Up\n",
      "    2. Sign In\n",
      "    3. Quit\n",
      "    2\n",
      "ID :pizzahut\n",
      "PW :dominatepizza\n",
      "Hello mamajohns!\n",
      "Welcome to Our Service\n",
      "\n",
      "    1. Sign Up\n",
      "    2. Sign In\n",
      "    3. Quit\n",
      "    3\n"
     ]
    }
   ],
   "source": [
    "import os\n",
    "\n",
    "def getorder():\n",
    "    order = int(input(\"\"\"Welcome to Our Service\n",
    "\n",
    "    1. Sign Up\n",
    "    2. Sign In\n",
    "    3. Quit\n",
    "    \"\"\"))\n",
    "    return order\n",
    "\n",
    "def alreadyidexist(uid):\n",
    "    lines = []\n",
    "    with open(\"./files/access.txt\", \"a\") as f : pass\n",
    "    with open(\"./files/access.txt\", \"r\") as f:\n",
    "        lines = [x for x in f]\n",
    "        for i in lines:\n",
    "            if(i.split(\":\")[0]==uid):\n",
    "                return True\n",
    "    return False\n",
    "\n",
    "def getNameFromId(uid):\n",
    "    with open(\"./files/access.txt\", \"r\") as f:\n",
    "        lines = [x for x in f]\n",
    "        for i in lines:\n",
    "            if(i.split(\":\")[0]==uid):\n",
    "                return i.split(\":\")[1].split(\",\")[1]\n",
    "\n",
    "def password_correct(uid, upw):\n",
    "    with open(\"./files/access.txt\", \"r\") as f:\n",
    "        lines = [x for x in f]\n",
    "        for i in lines:\n",
    "            if(i.split(\":\")[0]==uid):\n",
    "                return (upw==i.split(\":\")[1].split(\",\")[0])\n",
    "\n",
    "def pw_hashing(upw):\n",
    "    m = hashlib.sha256()\n",
    "    m.update(upw.encode('ascii'))\n",
    "    return m.hexdigest()\n",
    "\n",
    "while(1):\n",
    "    order = getorder()\n",
    "    if(order==1):\n",
    "        uid = input(\"ID :\")\n",
    "        if(alreadyidexist(uid)):\n",
    "            print(\"Sorry, the entered ID is already used.\")\n",
    "            while(1):\n",
    "                uid = input(\"ID :\")\n",
    "                if(not alreadyidexist(uid)):\n",
    "                    break\n",
    "                print(\"Sorry, the entered ID is already used.\")\n",
    "        upw = input(\"PW :\")\n",
    "        enpw = pw_hashing(upw)\n",
    "        unm = input(\"Name :\")\n",
    "        ush = input(\"School :\")\n",
    "        with open(\"./files/access.txt\", \"a\") as f:\n",
    "            f.write(\"%s:%s,%s,%s\\n\"% (uid, enpw, unm, ush))\n",
    "        print(\"Register completed!\")\n",
    "    elif(order==2):\n",
    "        uid = input(\"ID :\")\n",
    "        upw = input(\"PW :\")\n",
    "        enpw = pw_hashing(upw)\n",
    "        if(alreadyidexist(uid)):\n",
    "            if(password_correct(uid, enpw)):\n",
    "                name = getNameFromId(uid)\n",
    "                print(\"Hello \" + name + \"!\")\n",
    "            else: print(\"Sorry, the entered password is not correct.\")\n",
    "        else:\n",
    "            print(\"Sorry, you are not a registered member. \")\n",
    "    elif(order==3):\n",
    "        break"
   ]
  },
  {
   "cell_type": "markdown",
   "metadata": {},
   "source": [
    "getorder로 처음 화면의 명령창을 불러오고, 1번을 입력해서 가입창으로 이동한다.  \n",
    "가입창으로 이동했을 때, 먼저 ID의 입력을 받고, alreadyidexist로 id를 검사한다. 라인별로 구분된 데이터를 리스트로 전부 가져와서, 각 리스트의 :로 구분된 문자열 중 앞쪽의 문자열이 ID영역으로 ID가 이미 존재한다면 이미 있는 아이디라는 경고창을 띄우고 다시 입력하도록 한다. \n",
    "새로운 아이디를 입력했다면 비밀번호와 이름, 학교를 입력하고, 비밀번호는 SHA256으로 암호화되어 문자열로 변환되어 access.txt에 기록된다.  \n",
    "이 때, 기록되는 양식은 ID:PW:NAME:SCHOOL\\n이다.\n",
    "그 다음 다시 메뉴창으로 이동해서, 2번을 입력하고 아이디와 비밀번호를 입력한다.  \n",
    "alreadyidexist로 다시 검사하여 입력한 아이디가 없는 아이디라면 가입되어 있지 않다는 창을 띄우고 다시 처음 화면으로 돌아가며,  \n",
    "처음 화면에서 다시 2번을 입력하여 들어가서, 올바른 아이디와 비밀번호를 입력하면 password_correct로 id와 암호화한 pw를 모두 넘긴다.  \n",
    "id를 통해 누구의 데이터를 조회할 것인지 특정하고(각 열 중 :의 앞의 문자열과 일치하는 영역), 특정한 곳에서 암호화한 pw를 비교한다.  \n",
    "비교해서 맞다면 참을 반환하여, 프로그램에서 Hello + 이름을 출력하게 하였다. (물론 이름 역시 getNameFromId -By가 맞는 표현일까... 아무튼  \n",
    "이 함수를 통해서 가져왔다.)"
   ]
  },
  {
   "cell_type": "markdown",
   "metadata": {},
   "source": [
    "### [문제 3]"
   ]
  },
  {
   "cell_type": "markdown",
   "metadata": {},
   "source": [
    "range() 함수와 유사한 frange() 함수를 다음 조건을 참고하여 만드시오."
   ]
  },
  {
   "cell_type": "markdown",
   "metadata": {},
   "source": [
    "- 1) frange()의 인자 구성은 다음과 같이 range와 동일하지만 각 인수들은 음수를 받지 않는다고 가정한다.  \n",
    "    range(stop)  \n",
    "    range(start, stop[, step])  \n",
    "\n",
    "- 2) frange() 함수의 인자에 대한 기본 시작(start) 값은 0.0이고, 기본 단계(step) 값은 0.1이다.  \n",
    "- 3) frange 사용 예  \n",
    "    - 3-1) frange(0.5)  \n",
    "        [0.0, 0.1, 0.2, 0.3, 0.4]  \n",
    "    - 3-2) frange(1.0, 2.0)  \n",
    "        [1.0, 1.1, 1.2, 1.3, 1.4, 1.5, 1.6, 1.7, 1.8, 1.9]  \n",
    "    - 3-3) frange(2.2, 4.0, 0.5)  \n",
    "        [2.2, 2.7, 3.2, 3.7]  "
   ]
  },
  {
   "cell_type": "code",
   "execution_count": 109,
   "metadata": {},
   "outputs": [
    {
     "name": "stdout",
     "output_type": "stream",
     "text": [
      "['0.0', '0.1', '0.2', '0.3', '0.4']\n",
      "['2.4', '2.6', '2.8']\n"
     ]
    }
   ],
   "source": [
    "def frange(start=0.0, stop=None, step=0.1):\n",
    "    list = []\n",
    "    if(stop==None):\n",
    "        stop = start\n",
    "        start = 0.0\n",
    "        return frange(start, stop, step)\n",
    "    else:\n",
    "        while(start < stop):\n",
    "            list.append(start)\n",
    "            start = start + step\n",
    "        return [\"%.1f\" % i for i in list]\n",
    "\n",
    "print(frange(0.5))\n",
    "print(frange(2.4, 3.0, 0.2))"
   ]
  },
  {
   "cell_type": "markdown",
   "metadata": {},
   "source": [
    "stop값을 입력받지 않는 경우에는 0.0부터 start까지 세야하므로 stop==None일 경우에는 재귀함수로 start가 0.0이고, stop이 원래  \n",
    "start의 값인 재귀 함수를 호출하게 하였다.  \n",
    "그 이외의 경우에는 start에서 stop까지 step간격으로 list에 넣고 반환할 때에는 문자열 포맷을 이용하여 반환하게 했다.  \n",
    "이렇게 한 이유는 그냥 반환할 경우에 소수점 연산의 오차로 인해 3.0000000000004같은 값이 들어가기도 했기 때문이다."
   ]
  },
  {
   "cell_type": "markdown",
   "metadata": {},
   "source": [
    "### [문제 4]"
   ]
  },
  {
   "cell_type": "markdown",
   "metadata": {},
   "source": [
    "가변인수를 받는 함수 sum()을 다음과 같은 조건을 참고하여 구현하시오"
   ]
  },
  {
   "cell_type": "markdown",
   "metadata": {},
   "source": [
    "- sum() 사용 예\n",
    "    sum()  \n",
    "        0  \n",
    "    sum(1, 2)  \n",
    "        3  \n",
    "    sum(1, 2, 3, 4, 5)  \n",
    "        15  \n",
    "    sum(1, 5, 7, 2, -10)  \n",
    "        5  "
   ]
  },
  {
   "cell_type": "code",
   "execution_count": 76,
   "metadata": {},
   "outputs": [],
   "source": [
    "def mysum(*var):\n",
    "    l = list(var)\n",
    "    total = 0\n",
    "    for i in l:\n",
    "        total = total + i\n",
    "    return total"
   ]
  },
  {
   "cell_type": "code",
   "execution_count": 78,
   "metadata": {},
   "outputs": [
    {
     "name": "stdout",
     "output_type": "stream",
     "text": [
      "28\n"
     ]
    }
   ],
   "source": [
    "print(mysum(3, 4, 5, 7, 9))"
   ]
  },
  {
   "cell_type": "markdown",
   "metadata": {},
   "source": [
    "더 파이썬스러운 코딩이 가능할 것 같기도 한데 여러 번 실패해서 우선은 돌아가는 확실한 코드를 적어두었다.\n",
    "튜플 자료형으로 받아오는 var를 list로 변환하여 list의 모든 요소들을 total에 더하게 만들었다."
   ]
  },
  {
   "cell_type": "markdown",
   "metadata": {},
   "source": [
    "### [문제 5]"
   ]
  },
  {
   "cell_type": "markdown",
   "metadata": {},
   "source": [
    "여러 단어로 이루어진 문자열을 입력받아 각 단어의 첫글자로 이루어진 단어를 대문자로 출력하는 myinitial() 함수를 다음 조건을 참고하여 작성하시오."
   ]
  },
  {
   "cell_type": "markdown",
   "metadata": {},
   "source": [
    "1) 다음에 제시되는 함수들을 모두 이용해야 한다.\n",
    "    - split\n",
    "    - map\n",
    "    - join\n",
    "2) myinitial() 함수 사용 예\n",
    "    - myinitial(\"as soon as possible\")\n",
    "        - ASAP"
   ]
  },
  {
   "cell_type": "code",
   "execution_count": 133,
   "metadata": {},
   "outputs": [
    {
     "name": "stdout",
     "output_type": "stream",
     "text": [
      "TIMI\n"
     ]
    }
   ],
   "source": [
    "def returnCapUp(a):\n",
    "    return a.capitalize()[0]\n",
    "\n",
    "def myinitial(s):\n",
    "    return \"\".join(map(returnCapUp, s.split()))\n",
    "\n",
    "print(myinitial(\"this is my initial\"))"
   ]
  },
  {
   "cell_type": "markdown",
   "metadata": {},
   "source": [
    "처음에는 map안에 위의 returnCapUp함수를 lambda로 만들어서 해결하려고 했는데, 아무래도 동일한 자격의 함수로 취급을 받지 못하는지,  \n",
    "lambda함수가 아무것도 반환하지 못하고 계속해서 None값만 뱉어내서 결국엔 다른 함수로 분리해서 처리를 했다.  \n",
    "map에서는 returnCapUp함수로 문자열에서 여백을 기준으로 split된 문자열들을 받아서, 그 문자열의 첫 글자를 대문자로 바꾸고  \n",
    "반환하고, 이를 아무것도 없이 join으로 이어붙여서 myinitialize가 반환한다."
   ]
  },
  {
   "cell_type": "markdown",
   "metadata": {},
   "source": [
    "### [문제 6]"
   ]
  },
  {
   "cell_type": "markdown",
   "metadata": {},
   "source": [
    "음이 아닌 정수 n를 입력받으면 n! (factorial)을 계산하는 myfact() 함수를 재귀적 함수로 구현하시오.\n",
    "\n",
    "   - [옵션] 참을 수 있는 정도 만큼의 수행시간을 직접 기다려보면서 n을 늘려보도록 합시다."
   ]
  },
  {
   "cell_type": "code",
   "execution_count": 119,
   "metadata": {},
   "outputs": [],
   "source": [
    "def myfact(n):\n",
    "    if(n<=1) : return 1\n",
    "    else : return n*myfact(n-1)"
   ]
  },
  {
   "cell_type": "code",
   "execution_count": 120,
   "metadata": {},
   "outputs": [
    {
     "data": {
      "text/plain": [
       "40320"
      ]
     },
     "execution_count": 120,
     "metadata": {},
     "output_type": "execute_result"
    }
   ],
   "source": [
    "myfact(8)"
   ]
  },
  {
   "cell_type": "code",
   "execution_count": 121,
   "metadata": {},
   "outputs": [
    {
     "data": {
      "text/plain": [
       "1055638748804883819624404891443960112694353862385245664211412143978025654652298740875478290906109345045501627560093586443152026338556694374016862986527948093306766796224646991601156703569522809075705718272783073225591841087856906725359301524894716627678970285956254006644538670461855326284930775853993666628870415080600460031687076986395378005953570861822772514359325552396528555444314259529157700774932324506935016548093196959026086400901356370381305515620600162834211706848214513225951524964150269144154427378750925759935624086565203652781694670267082276206153494218797326309810840101460591958302893770583882574405137267865245776089581291539276090527894718243155125221578337777947137806916497112276923234455412354398901788011750520021569529429432712435404971953440427473310890570584387454373610595875758525472710466151291958125220126249939466287971300728336907570672485678842494643945053809910985867367009941394770218789982800405853394978937462708780998228101792165421701561981673743992659882732407495830920863898399200200182051148569999214857271947329784609468440984015741436887376063070664013972416385355365383079121820577852140491127061723961496499483350948994120911530379462009550167744693264247540389978597753298846501151264443668833160863401425357962570614728729087845470708209807938794003608732648946120039712840458346017077872246353990972627105187986208205101378831704337953459445141885648020116789564210857797735755203116393213051379223408739556405305119237380618421819831903667455040504657557511128361386858527947006019519143524624039375276861714627870998821927033659119560623353149922885498192654087268262437175682918047267257603545922662368069598346197138926072221365927632776245374161408529258647836333276420292844337207148569095556685058035929723900843153517302570088085239243594780374452481559267017179509892597041858148123967851272652445533894086314467154748516075009173239289438978092615334254590563476339531350765132473611157071989463056496623408759982993570526839851876557982849465575291382959587208507097933490959970953522864012444007184625316620248748460401204610529530301444968268720339293644628405345644031132394635508046897093054682301902140908645225695782181334869745435137171362736384116456799018574806459038395142367737244900347327478031024189395788524764575533391472582350169191751935004423049745264528967133081595494818882529676812122588416270898164715388436563355792714476000311099784265652475718958795235640530446403627471582182479576364772716407691159073738926706388216958440562338199940037000320172379956135461442241814825105205473689124178122224048623612028268931281829036841961662951486828803967228973779863134778713386945290166176036513891567125395390774086372024407300792889115327855455762053841304060500678040924681529022504967208042607325158952329000003773220109639303249125277387938299129647611339263776848020466109295962417006777104022182163756154279284841038398851964837742997216342681093095336838625546585242028058053758963795363405042672565878654585760898576494058956390400000000000000000000000000000000000000000000000000000000000000000000000000000000000000000000000000000000000000000000000000000000000000000000000000000000000000000000000000000000000000000000000000000000000000000000000000000000000000000000000000000000000000000000000000000000000000000000000000000000000000000000"
      ]
     },
     "execution_count": 121,
     "metadata": {},
     "output_type": "execute_result"
    }
   ],
   "source": [
    "myfact(1248)"
   ]
  },
  {
   "cell_type": "markdown",
   "metadata": {},
   "source": [
    "n이 1이거나 0, 그리고 혹시 음수가 들어온다면 1을 반환하게 하고, 그렇지 않다면 현재 수에 myfact(n-1)을 반환하게 해서 재귀한다.  \n",
    "n이 충분히 큰 양수라면 그 수가 점점 줄다가 1이 되었을 때 그 동작을 정지하고, 최종적으로 곱해진 모든 수를 반환한다."
   ]
  },
  {
   "cell_type": "markdown",
   "metadata": {},
   "source": [
    "### [문제 7]"
   ]
  },
  {
   "cell_type": "markdown",
   "metadata": {},
   "source": [
    "(서술형) import string 과 from string import * 의 차이점을 설명하시오."
   ]
  },
  {
   "cell_type": "markdown",
   "metadata": {},
   "source": [
    "import string은 string 모듈을 불러오겠다는 것이고, from string import \\*은 string 모듈에서 모든 것을 포함하겠다는 것이다.  \n",
    "전자와 후자의 차이점은 마치 C++에서 vector를 import하고 using namespace std를 하느냐 하지 않느냐와 같은 차이점을 보인다.  \n",
    "즉, 전자는 string 모듈의 함수를 사용할 때에 string.00()과 같이 쓰지만, 후자는 00()과 같이 쓰면 된다."
   ]
  },
  {
   "cell_type": "markdown",
   "metadata": {},
   "source": [
    "### [문제 8] Incrumental Project"
   ]
  },
  {
   "cell_type": "markdown",
   "metadata": {},
   "source": [
    "이전 Assignment 3의 마지막 문제는 웹 URL로 지정된 웹페이지를 문자열로 가져와 모든 HTML 태그 및 CSS와 Javascript를 제외한 순수 텍스트를 얻어내고 그 안에 존재하는 단어를 추출하여 각 단어들에 대해 출현빈도를 사전형태({'world': 2, 'hello': 1, 'python': 1})로 저장하여 출력하는 것이었다. 이번에는 Assignment 3를 확장하여 다음과 같은 조건을 만족하도록 구현하시오.  \n",
    "\n",
    "    - 1) 다음 사이트에서 제시되는 불용어 (Stop words)를 참고하여 이전 숙제에서 구성했던 단어 사전에서 불용어들을 모두 제거하는 코드를 추가하시오.\n",
    "        - 영어 불용어: http://www.lextek.com/manuals/onix/stopwords1.html\n",
    "        - 한글 불용어: https://raw.githubusercontent.com/stopwords-iso/stopwords-ko/master/stopwords-ko.txt\n",
    "    - 2) 각 URL로 지정된 웹페이지의 HTML 소스를 파일로 저장하시오. \n",
    "        - URL이 http://URL 이라면 파일명은 URL.html 이다. \n",
    "        - 예: URL이 http://www.cnn.com 이라면 파일명은 www.cnn.com.html 이다. \n",
    "    - 3) 단어의 출현빈도가 담긴 사전 객체를 위 HTML 소스 파일과 동일한 폴더에 파일로 저장하시오.\n",
    "        - 파일입출력 (E-learning 13주차) 마지막에 학습한 pickle 모듈을 활용하시오. \n",
    "        - URL이 http://URL 이라면 사전 객체를 담고 있는 파일명은 URL.words_frequency.pickle 이다.\n",
    "        - 예: URL이 http://www.cnn.com 이라면 파일명은 www.cnn.com.words_frequency.pickle 이다.\n",
    "    - 4) 최소 5개 이상의 웹 사이트 각각에 대한 HTML 소스 파일과 단어 출현빈도 파일을 저장하시오. \n",
    "        - 즉, 5개의 웹 사이트에 대해 총 10개의 파일을 동일한 폴더에 생성하시오.\n",
    "\n",
    "[주의] 가능하면 웹사이트에 단어들이 많고 다루는 주제가 서로 다른 웹 사이트들로 선정하는 것 추천\n",
    "\n",
    "    - 5) 위 문제에서 저장한 모든 pickle 파일들을 객체로 다시 로드하여 본인이 저장하여 분석한 사이트들 각각에 대해서 가장 많이 출현한 단어 3개씩를 뽑아 제시하시오. \n",
    "        - 반드시 pickle 모듈로 저장한 5개 이상의 pickle 파일들을 다시 5개 이상의 사전 객체로 로드 하는 코드가 추가되어야 함\n",
    "    - 6) 간단한 검색엔진 코딩 (Like Google!!!)\n",
    "        - 사용자에게 임의의 검색어 (하나 또는 여러 단어로 구성) 를 입력받으시오.\n",
    "\n",
    "            예: \n",
    "            대한민국\n",
    "            컴퓨터 공학\n",
    "            맛있는 음식\n",
    "            파이썬을 쉽게 공부하는 법\n",
    "            한기대 장점을 알려주세요\n",
    "        \n",
    "        - 입력받은 검색어들에 대해서도 1)에서 제시하는 방법처럼 불용어 처리를 하여 정리\n",
    "        - 입력 받은 검색어와 유사도(Similarity)가 높은 웹 사이트 기준으로 위 4)에서 미리 지정해 놓은 5개 이상의 웹 사이트 URL들을 일렬로 나열하여 출력하시오.\n",
    "        - 검색어와 웹 사이트 간의 유사도는 본인이 스스로 정하시오.\n",
    "        - 유사도를 정하는 최소한의 기준은 단어 출현 빈도를 기반으로 해야 하며, 이외의 본인이 생각하는 방안이 있으면 함께 사용해도 됨.\n",
    "        - 유사도가 높은 웹 사이트가 상위에 출력되어야 함 (즉, 유사도 기준 내림 차순)\n",
    "        - 유사도가 동일한 웹 사이트들에 대해서는 임의 배치함.\n",
    "    - 7) [주의] 필수사항\n",
    "        - 위에서 만든 검색엔진 코딩은 매우 간단한 것이라 부족한 점이 많이 존재한다.\n",
    "        - 본인이 생각하기에 상업적인 완성도 높은 검색 로봇/엔진이 되려면 어떤 기능들이 추가적으로 구현되어야 할지 최소 1가지 이상 제시하시오. "
   ]
  },
  {
   "cell_type": "code",
   "execution_count": 219,
   "metadata": {},
   "outputs": [],
   "source": [
    "# -*- coding: utf-8 -*-\n",
    "\n",
    "import codecs\n",
    "\n",
    "\n",
    "def html_parser(link):\n",
    "    \n",
    "    import requests\n",
    "    import re\n",
    "    import string\n",
    "    import os\n",
    "\n",
    "    req = requests.get(link)\n",
    "    # 소스 가져오기\n",
    "    source = req.text\n",
    "    # 소스 텍스트로\n",
    "    \n",
    "    # .html파일로 기록\n",
    "    sourcename =  link.split(\"//\")[1]\n",
    "    with open(\"./html/\"+ sourcename + \".html\", \"w\", encoding=\"utf-8\") as f:\n",
    "        f.write(source)\n",
    "    \n",
    "    # 정규 표현식으로 단어들 가져오기\n",
    "    text1 = re.sub('<script.*?>.*?</script>', ' ', source, 0, re.I|re.S) \n",
    "    text2 = re.sub('<style.*?>.*?</style>', ' ', text1, 0, re.I|re.S)    \n",
    "    text3 = re.sub('<.+?>', ' ', text2, 0, re.I|re.S)                    \n",
    "    text4 = re.sub('-->', ' ', text3, 0, re.I|re.S)     \n",
    "    text5 = re.sub(\"[!|?|<|>|:|\\[|\\]|#|$|%|&|\\(|\\)|*|+|\\-|,|.|/|;|=|@|^|_|`|{|}|~|\\\"|\\'|\\\\\\|/|★]\",' ', text4, 0, re.I|re.S)\n",
    "    \n",
    "    s = text5.split()\n",
    "    \n",
    "    # 특수문자들을 제거하기 위한 불용어 로딩\n",
    "    \n",
    "    stop_en = []\n",
    "    stop_kr = []\n",
    "    \n",
    "    with open(\"./files/stopword_en.txt\", \"r\") as f:\n",
    "        line = f.readline()\n",
    "        while(line):\n",
    "            stop_en.append(line.strip(\"\\n\"))\n",
    "            line = f.readline()\n",
    "    with open(\"./files/stopword_kr.txt\", \"r\") as f:\n",
    "        line = f.readline()\n",
    "        while(line):\n",
    "            stop_kr.append(line.strip(\"\\n\"))\n",
    "            line = f.readline() \n",
    "    \n",
    "    stop = stop_en + stop_kr\n",
    "\n",
    "    # 불용어를 제외한 단어를 dic에 저장\n",
    "    \n",
    "    dic = dict()\n",
    "\n",
    "    for i in s:\n",
    "        i = i.lower() # 모든 불용어는 소문자이기 때문에 영어일 경우 소문자로 저장해야 한다.\n",
    "        if(i in dic):\n",
    "            dic[i] = dic[i] + 1\n",
    "        elif((i not in dic)and(i not in stop)):\n",
    "            dic[i] = 1\n",
    "    \n",
    "    # pickle로 단어 출현 빈도를 사전으로 저장\n",
    "    \n",
    "    import pickle\n",
    "    \n",
    "    with open(\"./html/\" + sourcename + \".words_frequency.pickle\", \"wb\") as f:\n",
    "        pickle.dump(dic, f)\n",
    "    \n",
    "    print(link + \" parsing completed\")"
   ]
  },
  {
   "cell_type": "code",
   "execution_count": 220,
   "metadata": {},
   "outputs": [
    {
     "name": "stdout",
     "output_type": "stream",
     "text": [
      "https://www.koreatech.ac.kr parsing completed\n",
      "http://www.11st.co.kr parsing completed\n",
      "http://www.netmarble.net parsing completed\n",
      "https://www.instiz.net parsing completed\n",
      "https://github.com parsing completed\n"
     ]
    }
   ],
   "source": [
    "html_parser(\"https://www.koreatech.ac.kr\")\n",
    "html_parser(\"http://www.11st.co.kr\")\n",
    "html_parser(\"http://www.netmarble.net\")\n",
    "html_parser(\"https://www.instiz.net\")\n",
    "html_parser(\"https://github.com\")"
   ]
  },
  {
   "cell_type": "markdown",
   "metadata": {},
   "source": [
    "저번에 정규표현식을 처음 사용해서 아주 간단한 문제로 style태그와 script태그의 내용을 제거를 잘못했었다.\n",
    "그것을 개선한 상태로 이제 해보자. 물론 이 방법이 썩 좋은 방법은 아니다. 내용 중에 style태그와 script태그에 대한 코드가 있다면 그것 역시\n",
    "사라질 가능성이 있지만, 모범답안을 베끼지 않고 개선하려고 생각하니 계속해서 실패해서 모범답안의 코드를 사용하기로 했다.  \n",
    "\n",
    "문제는 그 쪽이 아니다. 인코딩 문제가 계속해서 발생해서 진짜 몇 시간을 날리는 것인지 알 수가 없다.  \n",
    "기본적으로 jupyter에서 txt파일을 생성하면 cp949형식으로 인코딩되는데, cp949형식은 기본적으로 utf-8으로 인코딩될 수 없고,  \n",
    "별도의 까다로운 처리를 했어야 했다. 그래서 방법을 강구한 결과 open()에서 encoding인자를 utf-8로 주어서 open할 때 utf-8로  \n",
    "인코딩 하도록 만들어서 해결했다.  \n",
    "\n",
    "하지만 인코딩 방식이 다른 곳이 있는 것인지, 작동을 하지 않는 곳도 종종 있다."
   ]
  },
  {
   "cell_type": "code",
   "execution_count": 227,
   "metadata": {},
   "outputs": [],
   "source": [
    "def search_data(s):\n",
    "    \n",
    "    import os\n",
    "    import pickle\n",
    "    \n",
    "    # 불용어 처리를 위한 불용어 로딩 \n",
    "    stop_en = []\n",
    "    stop_kr = []\n",
    "    \n",
    "    with open(\"./files/stopword_en.txt\", \"r\") as f:\n",
    "        line = f.readline()\n",
    "        while(line):\n",
    "            stop_en.append(line.strip(\"\\n\"))\n",
    "            line = f.readline()\n",
    "    with open(\"./files/stopword_kr.txt\", \"r\") as f:\n",
    "        line = f.readline()\n",
    "        while(line):\n",
    "            stop_kr.append(line.strip(\"\\n\"))\n",
    "            line = f.readline() \n",
    "    \n",
    "    stop = stop_en + stop_kr\n",
    "    \n",
    "    # 입력한 문장을 단어로 쪼개 불용어가 아닌 것만 리스트에 포함\n",
    "    s = s.split()\n",
    "    s = [s[i].lower() for i in range(len(s)) if(s[i] not in stop)]\n",
    "    \n",
    "    # html폴더의 모든 파일 명을 가져와서 확장자가 .pickle인것만 남긴다\n",
    "    links = os.listdir(\"./html\")\n",
    "    links = [links[i] for i in range(len(links)) if(os.path.splitext(links[i])[1]==\".pickle\")]\n",
    "    \n",
    "    # dic에 key=페이지 주소, value=총 단어 출현 빈도수로 저장하게 한다\n",
    "    dic = dict()\n",
    "    \n",
    "    for i in links:\n",
    "        with open(\"./html/\" + i, \"rb\") as f:\n",
    "            d = pickle.load(f)\n",
    "            sim = 0\n",
    "            for j in s:\n",
    "                if(j not in d):\n",
    "                    sim = sim + 0\n",
    "                elif(j in d):\n",
    "                    sim = sim + d[j]\n",
    "            dic[i.replace(\".words_frequency.pickle\", \"\")] = sim\n",
    "    \n",
    "    # dic을 value값에 따라 내림차순으로 정렬시켜 출력한다\n",
    "    sbv = [(k, dic[k]) for k in sorted(dic, key=dic.get, reverse=True)]\n",
    "    for k, v in sbv:\n",
    "        print(k, v)"
   ]
  },
  {
   "cell_type": "code",
   "execution_count": 228,
   "metadata": {},
   "outputs": [
    {
     "name": "stdout",
     "output_type": "stream",
     "text": [
      "www.koreatech.ac.kr 1\n",
      "github.com 0\n",
      "www.11st.co.kr 0\n",
      "www.instiz.net 0\n",
      "www.netmarble.net 0\n",
      "\n",
      "github.com 2\n",
      "www.instiz.net 1\n",
      "www.koreatech.ac.kr 1\n",
      "www.netmarble.net 1\n",
      "www.11st.co.kr 0\n"
     ]
    }
   ],
   "source": [
    "search_data(\"컴퓨터공학부 대학생\")\n",
    "print()\n",
    "search_data(\"contents search reviews 이동 학생 노력\")"
   ]
  },
  {
   "cell_type": "markdown",
   "metadata": {},
   "source": [
    "단순히 단어의 출현 빈도만을 가지고 판단하게 하였다. 한글은 '을/를/이/가/다' 등 조사를 처리하지 않아서 부정확한 면이 있다.  \n",
    "상업적인 완성도 높은 검색 로봇/엔진이 되려면 조사를 처리를 해야 좀 더 정확한 빈도수를 조사할 수 있을 것이다.\n",
    "그리고 연속적인 단어의 출현에 대해서 처리하는 것도 중요한 것 같다.  \n",
    "\n",
    "예를 들면, 컴퓨터공학부 대학생활을 입력했을 때, 어떤 사이트는 컴퓨터공학부에 관한 이야기만 여러 번 나오고, 대학생활에 대한  \n",
    "얘기는 나오지 않는다고 한다. 혹은 다른 학과의 사이트에서 대학생활에 대한 얘기가 많이 나온다고 한다. 컴퓨터공학부에 대한 얘기는 없이.  \n",
    "이 경우 현재의 검색엔진에서는 이 두 가지 경우도 높은 랭킹에 표시를 해준다.\n",
    "그럴 때는 컴퓨터공학부와 대학생활이 모두 포함된 경우를 우선하는 것이 중요하기 때문이다.  \n",
    "그리고 또, 위와 같은 경우를 방지하기 위해 유사도를 단순 출현 횟수만으로 하는 것 보다, 첫 출현에는 1, 두번째 출현에는 0.3과 같이 값을 줄여가면서 더하는 것도 좋은 방법인 것 같다.  "
   ]
  },
  {
   "cell_type": "markdown",
   "metadata": {},
   "source": [
    "이번 과제의 소감으로는 점점 리스트 내포를 사용하는 것에 익숙해지고 있다는 생각이 든다. 그리고 가능하면 긴 코드에는 주석을 달아 놓아야 할 것 같다는 것이다. 저번에 코드에 주석을 달아놓지 않았더니 어떤 부분이 무엇을 하는 코드인지 알기 어려웠다. 주석이 없이도 무엇을 하는 코드인지 알 수 있게 짜는 것이 가장 중요하지만 변수 명을 대충 a,b,c,d 이렇게 지어두면 알기 어려운 것은 당연한 것이지만...  \n",
    "저번 과제에서 짠 코드를 다 해석하기는 했지만 모범 답안에 비해 낭비가 많은 것은 물론 가독성도 극히 떨어져서 모범답안의 코드를 이용했다. 나중에는 모범답안과 같은 코드를 짤 수 있으면 좋겠다. 정규표현식의 resub를 알고 사용할 줄 알았다면 조금 더 가까운 코드를 짤 수 있었을지도 모르겠다. "
   ]
  },
  {
   "cell_type": "code",
   "execution_count": null,
   "metadata": {},
   "outputs": [],
   "source": []
  }
 ],
 "metadata": {
  "kernelspec": {
   "display_name": "Python 3",
   "language": "python",
   "name": "python3"
  },
  "language_info": {
   "codemirror_mode": {
    "name": "ipython",
    "version": 3
   },
   "file_extension": ".py",
   "mimetype": "text/x-python",
   "name": "python",
   "nbconvert_exporter": "python",
   "pygments_lexer": "ipython3",
   "version": "3.6.5"
  }
 },
 "nbformat": 4,
 "nbformat_minor": 2
}
