{
 "cells": [
  {
   "cell_type": "markdown",
   "metadata": {},
   "source": [
    "## Assignment\n",
    "\n",
    "##### Author : 2017136072 Hojin, Lyu"
   ]
  },
  {
   "cell_type": "markdown",
   "metadata": {},
   "source": [
    "### [문제 1]"
   ]
  },
  {
   "cell_type": "markdown",
   "metadata": {},
   "source": [
    "1. a=\"Hello Python\" 문자열을 Slicing과 연결 연산자 (+)를 사용하여 \"Python Hello\"로 변경하시오.\n",
    "    * [주의] a 변수 자체에 \"Python Hello\" 문자열이 저장되어야 함"
   ]
  },
  {
   "cell_type": "code",
   "execution_count": 1,
   "metadata": {},
   "outputs": [
    {
     "name": "stdout",
     "output_type": "stream",
     "text": [
      "Python Hello \n"
     ]
    }
   ],
   "source": [
    "a = \"Hello Python\"\n",
    "a = a[6:] + \" \" +a[:6]\n",
    "print(a)"
   ]
  },
  {
   "cell_type": "markdown",
   "metadata": {},
   "source": [
    "문자열을 Slicing 할 때에는 문자열[시작지점:끝지점:간격]과 같이 사용한다.  \n",
    "따라서, 7번째 문자인 P의 인덱스인 6에서 마지막까지의 문자열을 Slicing하고,   \n",
    "P의 이전까지의 문자열을 Slicing하여 연결 연산자로 결합하여 문자열을 생성한 후, a의 가리키는 위치를 변경시켰다.  \n",
    "단, 문자열을 Slicing 할 때 앞 뒤의 여백은 생략되므로 별도로 여백을 삽입하였다.  \n",
    "* * *"
   ]
  },
  {
   "cell_type": "markdown",
   "metadata": {},
   "source": [
    "2. b=\"Hello Python World\" 문자열을 Slicing과 연결 연산자 (+)를 사용하여 \"World Python Hello\"로 변경하시오.\n",
    "    * [주의] b 변수 자체에 \"World Python Hello\" 문자열이 저장되어야 함"
   ]
  },
  {
   "cell_type": "code",
   "execution_count": 2,
   "metadata": {},
   "outputs": [
    {
     "name": "stdout",
     "output_type": "stream",
     "text": [
      " World Python Hello\n"
     ]
    }
   ],
   "source": [
    "b = \"Hello Python World\"\n",
    "b = b[12:18] + \" \" + b[6:12] + \" \" + b[:5]\n",
    "print(b)"
   ]
  },
  {
   "cell_type": "markdown",
   "metadata": {},
   "source": [
    "위의 문제와 마찬가지로, 문자열 b의 각 부분을 Slicing하고, 그 사이에 여백을 붙여넣는 방식으로 해결하였다.\n",
    "* * *"
   ]
  },
  {
   "cell_type": "markdown",
   "metadata": {},
   "source": [
    "3. c=\"Hello\"를 \"olleH\"로 변경하시오\n",
    "    * [주의] c 변수 자체에 \"olleH\" 문자열이 저장되어야 함"
   ]
  },
  {
   "cell_type": "code",
   "execution_count": 3,
   "metadata": {},
   "outputs": [
    {
     "name": "stdout",
     "output_type": "stream",
     "text": [
      "olleH\n"
     ]
    }
   ],
   "source": [
    "c = \"Hello\"\n",
    "c = c[::-1]\n",
    "print(c)"
   ]
  },
  {
   "cell_type": "markdown",
   "metadata": {},
   "source": [
    "이것 역시 Slicing을 이용하여 해결하였다. Slicing의 마지막 인자인 [간격(step)]값을 음수로 주게 되면  \n",
    "문자열의 맨 마지막에서부터 간격을 계산하는데, 가장 마지막에서부터 1개의 스텝으로 Slicing하였으므로,  \n",
    "원래의 문자열을 뒤집은 모양을 얻을 수 있다.  \n",
    "이를 이용하여 c에 c[::-1]의 문자열을 가리키게 하여 해결하였다.  \n",
    "* * *"
   ]
  },
  {
   "cell_type": "markdown",
   "metadata": {},
   "source": [
    "4. s=\"python\"에 대해 다음 문제를 풀어보시오.\n",
    "    - A.s[0], s[0][0], s[0][0][0]은 각각 어떤 값이 나오는지 확인하고 그 이유를 나름대로 설명해 보시오.\n",
    "    - B.s[-100], s[100]은 값이 나오는지 에러가 나오는지 확인하고 그 결과에 대한 이유를 나름대로 설명해 보시오.\n",
    "    - C.s[-100, 100]은 값이 나오는지 에러가 나오는지 확인하고 그 결과에 대한 이유를 나름대로 설명해 보시오.\n",
    "    - D.s[1:-1]의 결과를 확인하고 그 결과에 대한 이유를 정확하게 설명하시오.\n",
    "    - E.s[3:-3]의 결과를 확인하고 그 결과에 대한 이유를 정확하게 설명하시오."
   ]
  },
  {
   "cell_type": "code",
   "execution_count": 4,
   "metadata": {},
   "outputs": [
    {
     "name": "stdout",
     "output_type": "stream",
     "text": [
      "p\n",
      "p\n",
      "p\n"
     ]
    }
   ],
   "source": [
    "s=\"python\"\n",
    "print(s[0])\n",
    "print(s[0][0])\n",
    "print(s[0][0][0])"
   ]
  },
  {
   "cell_type": "markdown",
   "metadata": {},
   "source": [
    "s[0]에 의하여 호출되는 것은 문자가 아닌, 일종의 슬라이싱 된 한 개의 문자를 갖는 문자열을 호출하는데,  \n",
    "이것이 s[0][0]과 같이 다시 자신의 첫번째 문자의 위치의 문자열을 호출하고,  \n",
    "s[0][0][0]역시 마찬가지로 동작하여 결국 셋 모두 같은 문자인 p를 출력한다.  \n",
    "이는 아래에 동작하는 코드로 가리키는 위치가 같음을 확인할 수 있다."
   ]
  },
  {
   "cell_type": "code",
   "execution_count": 5,
   "metadata": {},
   "outputs": [
    {
     "name": "stdout",
     "output_type": "stream",
     "text": [
      "1916314377048\n",
      "1916314377048\n",
      "1916314377048\n"
     ]
    }
   ],
   "source": [
    "print(id(s[0]))\n",
    "print(id(s[0][0]))\n",
    "print(id(s[0][0][0]))"
   ]
  },
  {
   "cell_type": "code",
   "execution_count": 6,
   "metadata": {},
   "outputs": [
    {
     "ename": "IndexError",
     "evalue": "string index out of range",
     "output_type": "error",
     "traceback": [
      "\u001b[1;31m---------------------------------------------------------------------------\u001b[0m",
      "\u001b[1;31mIndexError\u001b[0m                                Traceback (most recent call last)",
      "\u001b[1;32m<ipython-input-6-6d81aee69bed>\u001b[0m in \u001b[0;36m<module>\u001b[1;34m()\u001b[0m\n\u001b[1;32m----> 1\u001b[1;33m \u001b[0mprint\u001b[0m\u001b[1;33m(\u001b[0m\u001b[0ms\u001b[0m\u001b[1;33m[\u001b[0m\u001b[1;33m-\u001b[0m\u001b[1;36m100\u001b[0m\u001b[1;33m]\u001b[0m\u001b[1;33m)\u001b[0m\u001b[1;33m\u001b[0m\u001b[0m\n\u001b[0m\u001b[0;32m      2\u001b[0m \u001b[0mprint\u001b[0m\u001b[1;33m(\u001b[0m\u001b[0ms\u001b[0m\u001b[1;33m[\u001b[0m\u001b[1;36m100\u001b[0m\u001b[1;33m]\u001b[0m\u001b[1;33m)\u001b[0m\u001b[1;33m\u001b[0m\u001b[0m\n",
      "\u001b[1;31mIndexError\u001b[0m: string index out of range"
     ]
    }
   ],
   "source": [
    "print(s[-100])\n",
    "print(s[100])"
   ]
  },
  {
   "cell_type": "markdown",
   "metadata": {},
   "source": [
    "우선 에러 코드를 보면, IndexError: string index out of range라 되어있는데,  \n",
    "이를 번역하면 문자열의 인덱스가 범위를 벗어났다는 의미이다.  \n",
    "이 문자열의 크기는 호출하려는 인덱스 100, 혹은 뒤에서 100번째를 호출하기에는 너무 작다.    \n",
    "따라서 가리키려는 곳이 이 문자열의 범위를 벗어나기 때문에 오류를 발생시킨다."
   ]
  },
  {
   "cell_type": "code",
   "execution_count": 7,
   "metadata": {},
   "outputs": [
    {
     "name": "stdout",
     "output_type": "stream",
     "text": [
      "ytho\n"
     ]
    }
   ],
   "source": [
    "print(s[1:-1])"
   ]
  },
  {
   "cell_type": "markdown",
   "metadata": {},
   "source": [
    "python이라는 문자열에서 두번째 인덱스(1)에서부터 마지막에서 첫번째 인덱스(-1)까지(마지막 인덱스를 포함하지 않는다.)  \n",
    "Slicing하여서 호출하였기 때문에, y에서부터 n까지(n을 포함하지 않은), ytho이 출력된다."
   ]
  },
  {
   "cell_type": "code",
   "execution_count": 14,
   "metadata": {},
   "outputs": [
    {
     "name": "stdout",
     "output_type": "stream",
     "text": [
      "\n"
     ]
    }
   ],
   "source": [
    "print(s[3:-3])"
   ]
  },
  {
   "cell_type": "markdown",
   "metadata": {},
   "source": [
    "python에서 네번째 인덱스(4)에서 마지막에서 세번째 인덱스(-3)까지 호출하였기 때문에,  \n",
    "즉, h에서 h까지(h를 포함하지 않고)이므로 아무런 결과도 출력되지 않는다.\n",
    "* * *"
   ]
  },
  {
   "cell_type": "markdown",
   "metadata": {},
   "source": [
    "5. for문을 활용하여 1부터 100사이의 홀수를 출력하시오."
   ]
  },
  {
   "cell_type": "code",
   "execution_count": 9,
   "metadata": {},
   "outputs": [
    {
     "name": "stdout",
     "output_type": "stream",
     "text": [
      "1\n",
      "3\n",
      "5\n",
      "7\n",
      "9\n",
      "11\n",
      "13\n",
      "15\n",
      "17\n",
      "19\n",
      "21\n",
      "23\n",
      "25\n",
      "27\n",
      "29\n",
      "31\n",
      "33\n",
      "35\n",
      "37\n",
      "39\n",
      "41\n",
      "43\n",
      "45\n",
      "47\n",
      "49\n",
      "51\n",
      "53\n",
      "55\n",
      "57\n",
      "59\n",
      "61\n",
      "63\n",
      "65\n",
      "67\n",
      "69\n",
      "71\n",
      "73\n",
      "75\n",
      "77\n",
      "79\n",
      "81\n",
      "83\n",
      "85\n",
      "87\n",
      "89\n",
      "91\n",
      "93\n",
      "95\n",
      "97\n",
      "99\n"
     ]
    }
   ],
   "source": [
    "for i in range(1,100,2):\n",
    "    print(i)"
   ]
  },
  {
   "cell_type": "markdown",
   "metadata": {},
   "source": [
    "for문과 range의 생성 조건, (시작, 끝(포함되지 않음), 간격)을 이용하여,  \n",
    "1부터 100까지 2의 간격인 수들을 출력하도록 하였다. 즉, 1부터 100까지의 홀수들을 출력시켰다.\n",
    "* * * "
   ]
  },
  {
   "cell_type": "markdown",
   "metadata": {},
   "source": [
    "6. while문을 활용하여 1부터 100사이의 짝수의 합을 계산하여 출력하시오."
   ]
  },
  {
   "cell_type": "code",
   "execution_count": 10,
   "metadata": {},
   "outputs": [
    {
     "name": "stdout",
     "output_type": "stream",
     "text": [
      "2550\n"
     ]
    }
   ],
   "source": [
    "i = 0\n",
    "total = 0\n",
    "while(i<99):\n",
    "    i = i+1\n",
    "    if(i%2==0): total = total+i\n",
    "print(total)"
   ]
  },
  {
   "cell_type": "markdown",
   "metadata": {},
   "source": [
    "i는 while문을 통해 1부터 99까지 증가하고, i가 2로 나누어지게 되면(짝수이면) total에 그 값을 더하게 하여  \n",
    "최종적으로 100까지의 모든 짝수를 더한 값을 출력하게 하였다.\n",
    "* * *"
   ]
  },
  {
   "cell_type": "markdown",
   "metadata": {},
   "source": [
    "7. 사용자로 부터 임의의 정수를 입력받고, 해당 숫자를 역순으로 출력하는 프로그램을 작성하시오."
   ]
  },
  {
   "cell_type": "code",
   "execution_count": 11,
   "metadata": {},
   "outputs": [
    {
     "name": "stdout",
     "output_type": "stream",
     "text": [
      "정수를 입력하시오: 1234\n",
      "4321"
     ]
    }
   ],
   "source": [
    "i = int(input('정수를 입력하시오: '))\n",
    "while(i>0):\n",
    "    print(i%10, end=\"\")\n",
    "    i = int(i/10)"
   ]
  },
  {
   "cell_type": "markdown",
   "metadata": {},
   "source": [
    "이 문제는 딱히 i가 뒤집은 수를 저장하고 있어야한다던지, 그런 제한이 없어서 1의 자리의 수를 출력하고, 10으로 나누는 식으로  \n",
    "가장 뒤의 숫자부터 하나씩 출력하도록 만들었다.\n",
    "* * * "
   ]
  },
  {
   "cell_type": "markdown",
   "metadata": {},
   "source": [
    "8. 사용자로 부터 정수를 입력받아서 1부터 그 사이에 존재하는 소수 (Prime number)를 출력하는 파이썬 프로그램을 작성하시오."
   ]
  },
  {
   "cell_type": "code",
   "execution_count": 15,
   "metadata": {},
   "outputs": [
    {
     "name": "stdout",
     "output_type": "stream",
     "text": [
      "n을 입력하시오 : 100\n",
      "2\n",
      "3\n",
      "5\n",
      "7\n",
      "11\n",
      "13\n",
      "17\n",
      "19\n",
      "23\n",
      "29\n",
      "31\n",
      "37\n",
      "41\n",
      "43\n",
      "47\n",
      "53\n",
      "59\n",
      "61\n",
      "67\n",
      "71\n",
      "73\n",
      "79\n",
      "83\n",
      "89\n",
      "97\n"
     ]
    }
   ],
   "source": [
    "n = int(input('n을 입력하시오 : '))\n",
    "x = 0\n",
    "for a in range(2,n):\n",
    "    for b in range(1,a+1):\n",
    "        if(a%b==0): x = x+1\n",
    "    if(x==2):\n",
    "        print(a)\n",
    "    x = 0"
   ]
  },
  {
   "cell_type": "markdown",
   "metadata": {},
   "source": [
    "소수는 1과 자기 자신으로만 나누어지는 수이므로, 2부터 n까지의 수, range(2, n) 중에서  \n",
    "1부터 자기 자신까지 나누어(range(1, a)) 그 약수의 수가 2개(x=2)인 수를 출력하게 하였다.\n",
    "* * *"
   ]
  },
  {
   "cell_type": "markdown",
   "metadata": {},
   "source": [
    "9. [ACM-ICPC 문제 2441번] 별찍기-4"
   ]
  },
  {
   "cell_type": "markdown",
   "metadata": {},
   "source": [
    "첫째 줄에는 별 N개, 둘째 줄에는 별 N-1개, ..., N번째 줄에는 별 1개를 찍는 문제  \n",
    "하지만, 오른쪽을 기준으로 정렬한 별 (예제 참고)을 출력하시오.  \n",
    "  \n",
    "[문제 정답 여부 사진](./capture/assign1.jpg)"
   ]
  },
  {
   "cell_type": "code",
   "execution_count": 1,
   "metadata": {},
   "outputs": [
    {
     "name": "stdout",
     "output_type": "stream",
     "text": [
      "5\n",
      "*****\n",
      " ****\n",
      "  ***\n",
      "   **\n",
      "    *"
     ]
    }
   ],
   "source": [
    "a = int(input())\n",
    "\n",
    "for i in range(0,a) :\n",
    "    for j in range(0,i) :\n",
    "        print(' ', end='')\n",
    "    for j in range(0,a-i) :\n",
    "        print('*', end='')\n",
    "    if(i!=(a-1)) : print()"
   ]
  },
  {
   "cell_type": "markdown",
   "metadata": {},
   "source": [
    "우선 정수 N를 입력받기 위해 a에 정수를 입력받도록 하였고,  \n",
    "별을 찍기 위해 이중 for문을 사용하였다.  \n",
    "단, 별을 찍는 것이 오른쪽으로 정렬이 되어야 하기 때문에,  \n",
    "여백을 먼저 출력하고, 그 다음 별을 출력하였다. 즉, 여백의 개수가 i, 별의 개수가 a-i개가 되도록 하여서  \n",
    "오른쪽으로 정렬된 삼각형을 얻을 수 있었다.  \n",
    "단, 마지막 줄에는 개행이 필요가 없기 때문에 예외적인 처리를 넣었다.  \n",
    "* * *"
   ]
  },
  {
   "cell_type": "markdown",
   "metadata": {},
   "source": [
    "10. [ACM-ICPC 문제 11721번] 열 개씩 끊어 출력하기"
   ]
  },
  {
   "cell_type": "markdown",
   "metadata": {},
   "source": [
    "알파벳 소문자와 대문자로만 이루어진 길이가 N인 단어가 주어진다.  \n",
    "한 줄에 10글자씩 끊어서 출력하는 프로그램을 작성하시오.  \n",
    "  \n",
    "[문제 정답 여부 사진](./capture/assign2.jpg)"
   ]
  },
  {
   "cell_type": "code",
   "execution_count": 2,
   "metadata": {},
   "outputs": [
    {
     "name": "stdout",
     "output_type": "stream",
     "text": [
      "Pleasedon'tseejustaboycaughtupindreamsandfantasiesPleaseseemereachingoutforsomeoneIcan'tseeTakemyhandlet'sseewherewewakeuptomorrow\n",
      "Pleasedon'\n",
      "tseejustab\n",
      "oycaughtup\n",
      "indreamsan\n",
      "dfantasies\n",
      "Pleaseseem\n",
      "ereachingo\n",
      "utforsomeo\n",
      "neIcan'tse\n",
      "eTakemyhan\n",
      "dlet'sseew\n",
      "herewewake\n",
      "uptomorrow\n"
     ]
    }
   ],
   "source": [
    "a = input()\n",
    "b = len(a)\n",
    "while(b>0):\n",
    "    if(b>=10): print(a[0:10])\n",
    "    else : print(a[0:b])\n",
    "    a = a[10:b]\n",
    "    b = len(a)"
   ]
  },
  {
   "cell_type": "markdown",
   "metadata": {},
   "source": [
    "문자열 Slicing을 이용한 매우 간단한 문제이다. 문자열을 입력받아 a가 가리키도록 만든 후,  \n",
    "b로 문자열 a의 길이를 저장하도록 한다.  \n",
    "그 다음 while문을 통해 b가 0보다 작지 않은 경우(작아질 일은 없지만)  \n",
    "문자열의 길이가 또 10보다 큰 경우에는 10번째까지 Slicing을 한 문자열을 출력하도로 하고  \n",
    "그렇지 않은 경우에는 마지막까지만 출력하도록 하였다.  \n",
    "그 다음 Slicing하고 난 앞의 문자열들은 이제 필요가 없기 때문에 그 부분을 잘라낸 나머지를 다시 a에 가리키도록 하고  \n",
    "b는 다시 a의 문자열을 가리킨다.  \n",
    "이를 반복하고 나면 a가 끝까지 출력이 되고 나면 a는 더 이상 Slicing으로 얻어낼 영역이 없어지므로 크기가 0이 되고,  \n",
    "b 역시 0이되기 때문에 while문에서 벗어나 정상적으로 종료된다.  \n",
    "* * *"
   ]
  },
  {
   "cell_type": "markdown",
   "metadata": {},
   "source": [
    "11. [ACM-ICPC 문제 2839번] 설탕배달"
   ]
  },
  {
   "cell_type": "markdown",
   "metadata": {},
   "source": [
    "상근이는 요즘 설탕공장에서 설탕을 배달하고 있다.  \n",
    "상근이는 지금 사탕가게에 설탕을 정확하게 N킬로그램을 배달해야 한다.  \n",
    "설탕공장에서 만드는 설탕은 봉지에 담겨져 있다.  \n",
    "봉지는 3킬로그램 봉지와 5킬로그램 봉지가 있다.  \n",
    "\n",
    "상근이는 귀찮기 때문에, 최대한 적은 봉지를 들고 가려고 한다.  \n",
    "예를 들어, 18킬로그램 설탕을 배달해야 할 때, 3킬로그램 봉지 6개를 가져가도 되지만, 5킬로그램 3개와 3킬로그램 1개를 배달하면,  \n",
    "더 적은 개수의 봉지를 배달할 수 있다.  \n",
    "  \n",
    "상근이가 설탕을 정확하게 N킬로그램 배달해야 할 때, 봉지 몇 개를 가져가면 되는지 그 수를 구하는 프로그램을 작성하시오.  \n",
    "  \n",
    "[문제 정답 여부 사진](./capture/assign3.jpg)"
   ]
  },
  {
   "cell_type": "code",
   "execution_count": 6,
   "metadata": {},
   "outputs": [
    {
     "name": "stdout",
     "output_type": "stream",
     "text": [
      "41\n",
      "9\n"
     ]
    }
   ],
   "source": [
    "n = int(input())\n",
    "a = int(n/5)\n",
    "b = n%5\n",
    "c = 0\n",
    "if(b==0) : \n",
    "    c=0\n",
    "elif(b==1) : \n",
    "    if(a>=1) : \n",
    "        a=a-1\n",
    "        c=2\n",
    "    else : a=-1\n",
    "elif(b==2) : \n",
    "    if(a>=2) : \n",
    "        a=a-2\n",
    "        c=4\n",
    "    else : a=-1\n",
    "elif(b==3) : \n",
    "    c = 1\n",
    "elif(b==4) : \n",
    "    if(a>=1) : \n",
    "        a=a-1\n",
    "        c=3\n",
    "    else : \n",
    "        a=-1\n",
    "print(a+c)"
   ]
  },
  {
   "cell_type": "markdown",
   "metadata": {},
   "source": [
    "이번 문제는 상당히 노가다스러운 면이 있었다. 따져야할 경우의 수가 상당히 많아서 코드도 썩 그렇게 직관적이지 않다.  \n",
    "로직에 대해서 설명하자면, 정수 n을 입력받고, a에는 그를 5로 나눈 몫, b에는 5로 나눈 나머지를 저장하여,  \n",
    "b의 값에 따라서 처리를 달리하는 방법이다.  \n",
    "즉, 나머지와 5의 배수의 값을 더해서 3의 배수가 되는 최소의 해를 찾아내는 방법이다.  \n",
    "만약 이것이 성립하지 않는다면 얄짤없이 3과 5로 나누어 떨어지지 않는 수 이므로 -1을 반환하도록 하였다.  \n",
    "  \n",
    "b가 0일때는 아무런 걱정이 없다. 5로 딱 나누어 떨어지는 것이기 때문에 최초값을 바로 구할 수 있다.  \n",
    "b가 1이면, 1+5=6으로 3의 배수인 6을 얻어낼 수 있으므로, a는 최소한 1보다 같거나 큰 수이여야 한다.  \n",
    "만약 이것이 성립한다면 5로 나눈 몫(a)에서 1을 차감하고, 나머지 3의 배수가 2(c)가 된다.  \n",
    "마찬가지로 b가 2이면 2+10으로 3의 배수인 12를 얻어낼 수 있고, 그렇다면 a는 최소한 2와 같거나 큰 수이어야한다.  \n",
    "따라서 a에서는 2을 빼고, c는 4가 된다.  \n",
    "\n",
    "이러한 방식으로 나머지에 따른 모든 경우의 수를 판단하고, a+c를 출력하면 최소값을 얻어낼 수 있다.  \n",
    "  \n",
    "* * *"
   ]
  },
  {
   "cell_type": "markdown",
   "metadata": {},
   "source": [
    "### 수업 소감\n",
    "\n"
   ]
  },
  {
   "cell_type": "markdown",
   "metadata": {},
   "source": [
    "파이썬은 이전에 2버전으로 한 번 잠깐 건들어 본 적이 있었지만, 3버전은 2버전과 생각보다 너무 다른 탓에,  \n",
    "심지어 C언어의 문법과도 다른 부분이 여러모로 있어서 헷갈리는 것이 상당히 많았다.  \n",
    "특히나 elif라던지, if문이나 for문의 뒤에 :로 같은 개행 영역에 있는 것들을 포함시키도록 한다던지...  \n",
    "그래서 백준 첫번째 문제를 풀 때에는 상당히 여러 번 틀리기도 했다.  \n",
    "  \n",
    "그리고 atom 편집기는 자주 쓰고 있지만, markdown을 이용해서 문서를 작성하고 편집하는 것은 처음 해보는 일이어서,  \n",
    "상당히 재밌었고, 또 github에 자신이 공부한 내용을 정리한다던지 할 때 유용해보였다.  \n",
    "아직 작성한 것은 없지만..  \n",
    "\n",
    "그리고 솔직히 문제를 푸는 것보다 보고서처럼 작성하고 설명을 넣는 것이 서너 배의 시간을 잡아먹는 듯하다...  \n",
    "설명이나 주석을 어느정도 써야할지 솔직히 감이 오질 않아서 일부러 늘여쓰기도 하고, 가끔 귀찮으면 짧게 요점만 쓰기도 한다."
   ]
  }
 ],
 "metadata": {
  "kernelspec": {
   "display_name": "Python 3",
   "language": "python",
   "name": "python3"
  },
  "language_info": {
   "codemirror_mode": {
    "name": "ipython",
    "version": 3
   },
   "file_extension": ".py",
   "mimetype": "text/x-python",
   "name": "python",
   "nbconvert_exporter": "python",
   "pygments_lexer": "ipython3",
   "version": "3.6.5"
  }
 },
 "nbformat": 4,
 "nbformat_minor": 2
}
